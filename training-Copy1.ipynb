{
 "cells": [
  {
   "cell_type": "markdown",
   "metadata": {},
   "source": [
    "# U-Net Brain Tumor Segmentation"
   ]
  },
  {
   "cell_type": "code",
   "execution_count": 1,
   "metadata": {
    "scrolled": true
   },
   "outputs": [
    {
     "name": "stderr",
     "output_type": "stream",
     "text": [
      "Using TensorFlow backend.\n"
     ]
    },
    {
     "data": {
      "text/plain": [
       "<module 'ensemble_functions' from 'C:\\\\Users\\\\krcma\\\\Desktop\\\\tf_segmentation\\\\unet_segmentation\\\\ensemble_functions.py'>"
      ]
     },
     "execution_count": 1,
     "metadata": {},
     "output_type": "execute_result"
    }
   ],
   "source": [
    "import tensorflow as tf\n",
    "import keras\n",
    "from keras.callbacks import Callback\n",
    "from keras import backend as K\n",
    "from keras.preprocessing.image import ImageDataGenerator\n",
    "from tensorflow.python.keras.callbacks import TensorBoard\n",
    "\n",
    "import numpy as np\n",
    "import os\n",
    "import SimpleITK as sitka\n",
    "import random\n",
    "import matplotlib.pyplot as plt\n",
    "import importlib\n",
    "import time\n",
    "\n",
    "# Data augmentation\n",
    "import cv2\n",
    "from albumentations import (\n",
    "    Compose, HorizontalFlip, VerticalFlip, CLAHE, HueSaturationValue,\n",
    "    RandomBrightness, RandomContrast, RandomGamma,\n",
    "    ToFloat, ShiftScaleRotate, ElasticTransform, Rotate, RandomScale, GridDistortion, OpticalDistortion, OneOf\n",
    ")\n",
    "\n",
    "# Custom scripts\n",
    "import datagen\n",
    "import ensemble_functions\n",
    "import model as unet_model_script\n",
    "\n",
    "# Reload lib contents\n",
    "importlib.reload(datagen)\n",
    "importlib.reload(unet_model_script)\n",
    "importlib.reload(ensemble_functions)"
   ]
  },
  {
   "cell_type": "markdown",
   "metadata": {},
   "source": [
    "##  Hyperparemeters"
   ]
  },
  {
   "cell_type": "code",
   "execution_count": 2,
   "metadata": {},
   "outputs": [],
   "source": [
    "train_patients = 239 + 69\n",
    "valid_HGG_patients = 20\n",
    "slices_from_patient = 7\n",
    "\n",
    "slices_from = 60\n",
    "slices_to = 100\n",
    "\n",
    "image_size = 240\n",
    "channels = 4\n",
    "learning_rate = 1e-4\n",
    "epochs = 40\n",
    "batch_size = 7\n"
   ]
  },
  {
   "cell_type": "markdown",
   "metadata": {},
   "source": [
    "### U-Net model parameters\n",
    "\n",
    "Configuration dict."
   ]
  },
  {
   "cell_type": "code",
   "execution_count": 3,
   "metadata": {},
   "outputs": [],
   "source": [
    "conf = {\n",
    "    \"last_layer_activation\": \"sigmoid\",\n",
    "    \"dropout\": 0.05,\n",
    "    \"batch_norm\": False\n",
    "}"
   ]
  },
  {
   "cell_type": "code",
   "execution_count": 4,
   "metadata": {},
   "outputs": [],
   "source": [
    "training_model_conf = {\n",
    "    \"optimizer\": keras.optimizers.Adam(learning_rate=learning_rate),\n",
    "    \"loss\": \"binary_crossentropy\",\n",
    "    \"metrics\": [\"accuracy\"]\n",
    "}"
   ]
  },
  {
   "cell_type": "markdown",
   "metadata": {},
   "source": [
    "## Dataset"
   ]
  },
  {
   "cell_type": "code",
   "execution_count": 5,
   "metadata": {},
   "outputs": [
    {
     "name": "stdout",
     "output_type": "stream",
     "text": [
      "training data with the shape: (2114, 4, 240, 240) (2114, 1, 240, 240)\n",
      "Finished in 369.1861033439636\n"
     ]
    }
   ],
   "source": [
    "st = time.time()\n",
    "x_train, y_train = datagen.get_dataset(batch_size,\n",
    "                                        slices_from, slices_to,\n",
    "                                        file_path='../dataset/', \n",
    "                                        mode='training', \n",
    "                                        tumor_region=None,\n",
    "                                        glioma_type=['HGG', 'LGG'], \n",
    "                                        slices_w_tumor_only=100,\n",
    "                                        slices_w_less_brain=None,\n",
    "                                        image_size=image_size,\n",
    "                                        train_HGG_patients=train_patients) #\n",
    "print(\"Finished in\", time.time() - st)"
   ]
  },
  {
   "cell_type": "code",
   "execution_count": 6,
   "metadata": {},
   "outputs": [],
   "source": [
    "# x_valid, y_valid = datagen.get_dataset(batch_size, \n",
    "#                                        slices_from, slices_to,\n",
    "#                                         file_path='../dataset/', \n",
    "#                                         mode='validation', \n",
    "#                                        tumor_region=3,\n",
    "#                                         glioma_type=['HGG', 'LGG'], \n",
    "#                                         slices_w_tumor_only=False,\n",
    "#                                         slices_w_less_brain=100,\n",
    "#                                         image_size=image_size,\n",
    "#                                         train_HGG_patients=valid_HGG_patients)"
   ]
  },
  {
   "cell_type": "code",
   "execution_count": 6,
   "metadata": {
    "scrolled": true
   },
   "outputs": [
    {
     "name": "stdout",
     "output_type": "stream",
     "text": [
      "10\n"
     ]
    },
    {
     "data": {
      "text/plain": [
       "<matplotlib.image.AxesImage at 0x172302ad588>"
      ]
     },
     "execution_count": 6,
     "metadata": {},
     "output_type": "execute_result"
    },
    {
     "data": {
      "image/png": "[encoded data removed]",
      "text/plain": [
       "<Figure size 720x720 with 2 Axes>"
      ]
     },
     "metadata": {
      "needs_background": "light"
     },
     "output_type": "display_data"
    }
   ],
   "source": [
    "i = random.randint(0, 41)\n",
    "i = 10\n",
    "print(i)\n",
    "\n",
    "f, axarr = plt.subplots(1,2, figsize=(10,10))\n",
    "axarr[0].imshow(y_train[i][0])\n",
    "axarr[1].imshow(datagen.convert_labels_eval(y_train, \"enhancing\", image_size)[i][0])\n",
    "\n",
    "\n",
    "# axarr[0].imshow(x_train[i][0])\n",
    "# axarr[1].imshow(x_train[i][1])\n",
    "# axarr[2].imshow(x_train[i][2])\n",
    "# axarr[3].imshow(x_train[i][3])\n",
    "# axarr[4].imshow(y_train[i][0])"
   ]
  },
  {
   "cell_type": "markdown",
   "metadata": {},
   "source": [
    "## Data augmentation"
   ]
  },
  {
   "cell_type": "code",
   "execution_count": 7,
   "metadata": {},
   "outputs": [],
   "source": [
    "AUGMENTATIONS = Compose([\n",
    "    HorizontalFlip(p=0.5),\n",
    "    VerticalFlip(p=0.5),\n",
    "#     Rotate(limit=90, p=0.99),\n",
    "#     RandomGamma(gamma_limit=(80, 120), p=0.25),\n",
    "#     RandomScale(scale_limit=0.1, interpolation=cv2.INTER_NEAREST, p=0.25),\n",
    "#     ElasticTransform(alpha=1, p=0.5),\n",
    "#     OneOf([\n",
    "#         OpticalDistortion(p=0.3),\n",
    "#         GridDistortion(p=0.1),\n",
    "#     ], p=0.2),\n",
    "    OpticalDistortion(p=0.5),\n",
    "    GridDistortion(p=0.5),\n",
    "])"
   ]
  },
  {
   "cell_type": "markdown",
   "metadata": {},
   "source": [
    "## Callbacks"
   ]
  },
  {
   "cell_type": "code",
   "execution_count": 8,
   "metadata": {},
   "outputs": [],
   "source": [
    "class NegativeLoss(keras.callbacks.Callback):\n",
    "    def on_train_begin(self, logs={}):\n",
    "        pass\n",
    "\n",
    "    def on_batch_end(self, batch, logs={}):\n",
    "        if logs.get('loss') < 0:\n",
    "            print(\"\\nEarly stopping for negative loss ({}) at batch {}.\".format(logs.get('loss'), batch))\n",
    "            self.model.stop_training = True\n",
    "\n",
    "callbacks = [\n",
    "    NegativeLoss(),\n",
    "    keras.callbacks.callbacks.TerminateOnNaN(),\n",
    "    keras.callbacks.callbacks.EarlyStopping(monitor='accuracy', \n",
    "                                            min_delta=0.0001, \n",
    "                                            patience=10, \n",
    "                                            verbose=1, \n",
    "                                            mode='auto', \n",
    "                                            baseline=None, \n",
    "                                            restore_best_weights=True),\n",
    "    keras.callbacks.callbacks.ReduceLROnPlateau(factor=0.1, \n",
    "                                                patience=5, \n",
    "                                                min_lr=0.00001, \n",
    "                                                verbose=1),\n",
    "#     keras.callbacks.TensorBoard(log_dir=\"../logs/{}\".format(time.time()))\n",
    "]"
   ]
  },
  {
   "cell_type": "markdown",
   "metadata": {},
   "source": [
    "# Ensemble training"
   ]
  },
  {
   "cell_type": "code",
   "execution_count": 9,
   "metadata": {
    "scrolled": false
   },
   "outputs": [
    {
     "name": "stdout",
     "output_type": "stream",
     "text": [
      "(1409, 4, 240, 240) (705, 4, 240, 240)\n",
      "Training U-Net core\n",
      "Epoch 1/40\n",
      "202/202 [==============================] - 93s 459ms/step - loss: 0.0406 - accuracy: 0.9905 - val_loss: 0.0165 - val_accuracy: 0.9939\n",
      "Epoch 2/40\n",
      "202/202 [==============================] - 85s 419ms/step - loss: 0.0333 - accuracy: 0.9884 - val_loss: 0.0224 - val_accuracy: 0.9912\n",
      "Epoch 3/40\n",
      "202/202 [==============================] - 85s 419ms/step - loss: 0.0316 - accuracy: 0.9889 - val_loss: 0.0151 - val_accuracy: 0.9944\n",
      "Epoch 4/40\n",
      "202/202 [==============================] - 87s 433ms/step - loss: 0.0291 - accuracy: 0.9897 - val_loss: 0.0186 - val_accuracy: 0.9939\n",
      "Epoch 5/40\n",
      "202/202 [==============================] - 87s 431ms/step - loss: 0.0275 - accuracy: 0.9897 - val_loss: 0.0146 - val_accuracy: 0.9941\n",
      "Epoch 6/40\n",
      "202/202 [==============================] - 85s 420ms/step - loss: 0.0245 - accuracy: 0.9904 - val_loss: 0.0140 - val_accuracy: 0.9942\n",
      "Epoch 7/40\n",
      "202/202 [==============================] - 85s 420ms/step - loss: 0.0254 - accuracy: 0.9905 - val_loss: 0.0124 - val_accuracy: 0.9952\n",
      "Epoch 8/40\n",
      "202/202 [==============================] - 85s 419ms/step - loss: 0.0239 - accuracy: 0.9909 - val_loss: 0.0130 - val_accuracy: 0.9949\n",
      "Epoch 9/40\n",
      "202/202 [==============================] - 85s 419ms/step - loss: 0.0241 - accuracy: 0.9907 - val_loss: 0.0151 - val_accuracy: 0.9939\n",
      "Epoch 10/40\n",
      "202/202 [==============================] - 85s 419ms/step - loss: 0.0223 - accuracy: 0.9913 - val_loss: 0.0122 - val_accuracy: 0.9952\n",
      "Epoch 11/40\n",
      "202/202 [==============================] - 85s 419ms/step - loss: 0.0215 - accuracy: 0.9920 - val_loss: 0.0178 - val_accuracy: 0.9941\n",
      "Epoch 12/40\n",
      "202/202 [==============================] - 85s 419ms/step - loss: 0.0223 - accuracy: 0.9916 - val_loss: 0.0113 - val_accuracy: 0.9959\n",
      "Epoch 13/40\n",
      "202/202 [==============================] - 85s 419ms/step - loss: 0.0217 - accuracy: 0.9916 - val_loss: 0.0107 - val_accuracy: 0.9960\n",
      "Epoch 14/40\n",
      "202/202 [==============================] - 85s 419ms/step - loss: 0.0202 - accuracy: 0.9921 - val_loss: 0.0141 - val_accuracy: 0.9942\n",
      "Epoch 15/40\n",
      "202/202 [==============================] - 85s 419ms/step - loss: 0.0207 - accuracy: 0.9921 - val_loss: 0.0103 - val_accuracy: 0.9962\n",
      "Epoch 16/40\n",
      "202/202 [==============================] - 85s 419ms/step - loss: 0.0209 - accuracy: 0.9922 - val_loss: 0.0119 - val_accuracy: 0.9953\n",
      "Epoch 17/40\n",
      "202/202 [==============================] - 85s 419ms/step - loss: 0.0183 - accuracy: 0.9929 - val_loss: 0.0098 - val_accuracy: 0.9962\n",
      "Epoch 18/40\n",
      "202/202 [==============================] - 85s 420ms/step - loss: 0.0181 - accuracy: 0.9930 - val_loss: 0.0109 - val_accuracy: 0.9961\n",
      "Epoch 19/40\n",
      "202/202 [==============================] - 85s 419ms/step - loss: 0.0183 - accuracy: 0.9932 - val_loss: 0.0114 - val_accuracy: 0.9956\n",
      "Epoch 20/40\n",
      "202/202 [==============================] - 85s 419ms/step - loss: 0.0188 - accuracy: 0.9928 - val_loss: 0.0093 - val_accuracy: 0.9967\n",
      "Epoch 21/40\n",
      "202/202 [==============================] - 85s 419ms/step - loss: 0.0173 - accuracy: 0.9936 - val_loss: 0.0118 - val_accuracy: 0.9958\n",
      "Epoch 22/40\n",
      "202/202 [==============================] - 85s 419ms/step - loss: 0.0170 - accuracy: 0.9933 - val_loss: 0.0085 - val_accuracy: 0.9967\n",
      "Epoch 23/40\n",
      "202/202 [==============================] - 85s 419ms/step - loss: 0.0151 - accuracy: 0.9941 - val_loss: 0.0080 - val_accuracy: 0.9971\n",
      "Epoch 24/40\n",
      "202/202 [==============================] - 85s 419ms/step - loss: 0.0148 - accuracy: 0.9942 - val_loss: 0.0092 - val_accuracy: 0.9968\n",
      "Epoch 25/40\n",
      "202/202 [==============================] - 85s 423ms/step - loss: 0.0146 - accuracy: 0.9943 - val_loss: 0.0081 - val_accuracy: 0.9971\n",
      "Epoch 26/40\n",
      "202/202 [==============================] - 85s 419ms/step - loss: 0.0140 - accuracy: 0.9944 - val_loss: 0.0089 - val_accuracy: 0.9965\n",
      "Epoch 27/40\n",
      "202/202 [==============================] - 85s 419ms/step - loss: 0.0124 - accuracy: 0.9951 - val_loss: 0.0096 - val_accuracy: 0.9963\n",
      "Epoch 28/40\n",
      "202/202 [==============================] - 85s 420ms/step - loss: 0.0131 - accuracy: 0.9950 - val_loss: 0.0107 - val_accuracy: 0.9965\n",
      "\n",
      "Epoch 00028: ReduceLROnPlateau reducing learning rate to 1e-05.\n",
      "Epoch 29/40\n",
      "202/202 [==============================] - 85s 419ms/step - loss: 0.0121 - accuracy: 0.9952 - val_loss: 0.0083 - val_accuracy: 0.9970\n",
      "Epoch 30/40\n",
      "202/202 [==============================] - 85s 419ms/step - loss: 0.0112 - accuracy: 0.9956 - val_loss: 0.0077 - val_accuracy: 0.9972\n",
      "Epoch 31/40\n",
      "202/202 [==============================] - 85s 419ms/step - loss: 0.0110 - accuracy: 0.9955 - val_loss: 0.0079 - val_accuracy: 0.9970\n",
      "Epoch 32/40\n",
      "202/202 [==============================] - 85s 419ms/step - loss: 0.0104 - accuracy: 0.9958 - val_loss: 0.0080 - val_accuracy: 0.9972\n",
      "Epoch 33/40\n",
      "202/202 [==============================] - 85s 419ms/step - loss: 0.0106 - accuracy: 0.9957 - val_loss: 0.0079 - val_accuracy: 0.9971\n",
      "Epoch 34/40\n",
      "202/202 [==============================] - 85s 419ms/step - loss: 0.0103 - accuracy: 0.9957 - val_loss: 0.0081 - val_accuracy: 0.9972\n",
      "Epoch 35/40\n",
      "202/202 [==============================] - 85s 423ms/step - loss: 0.0104 - accuracy: 0.9958 - val_loss: 0.0081 - val_accuracy: 0.9970\n",
      "Epoch 36/40\n",
      "202/202 [==============================] - 85s 419ms/step - loss: 0.0101 - accuracy: 0.9959 - val_loss: 0.0086 - val_accuracy: 0.9968\n",
      "Epoch 37/40\n",
      "202/202 [==============================] - 85s 419ms/step - loss: 0.0097 - accuracy: 0.9960 - val_loss: 0.0079 - val_accuracy: 0.9971\n",
      "Epoch 38/40\n",
      "202/202 [==============================] - 85s 419ms/step - loss: 0.0096 - accuracy: 0.9960 - val_loss: 0.0082 - val_accuracy: 0.9972\n",
      "Epoch 39/40\n",
      "202/202 [==============================] - 85s 419ms/step - loss: 0.0096 - accuracy: 0.9961 - val_loss: 0.0083 - val_accuracy: 0.9970\n",
      "Epoch 40/40\n",
      "202/202 [==============================] - 85s 419ms/step - loss: 0.0097 - accuracy: 0.9960 - val_loss: 0.0080 - val_accuracy: 0.9971\n",
      "Training time: 3409.941529750824\n"
     ]
    }
   ],
   "source": [
    "models = {}\n",
    "tumor_regions = [\"whole\", \"core\", \"enhancing\"]\n",
    "cv_x_train = np.array_split(x_train, 3)\n",
    "cv_y_train = np.array_split(y_train, 3)\n",
    "\n",
    "time_start = time.time()\n",
    "\n",
    "# Cross validation\n",
    "for k in range(1, 2):\n",
    "\n",
    "    x_v, y_v = cv_x_train[k - 1], cv_y_train[k - 1]\n",
    "    if k-1 == 0:\n",
    "        x_t, y_t = np.concatenate((cv_x_train[1], cv_x_train[2])), np.concatenate((cv_y_train[1], cv_y_train[2]))\n",
    "    elif k-1 == 1:\n",
    "        x_t, y_t = np.concatenate((cv_x_train[0], cv_x_train[2])), np.concatenate((cv_y_train[0], cv_y_train[2]))\n",
    "    else:\n",
    "        x_t, y_t =  np.concatenate((cv_x_train[0], cv_x_train[1])), np.concatenate((cv_y_train[0], cv_y_train[1]))\n",
    "    \n",
    "    print(x_t.shape, x_v.shape)\n",
    "    for tumor_region in [tumor_regions[1]]:\n",
    "\n",
    "        print(\"Training U-Net {}\".format(tumor_region))\n",
    "\n",
    "        # Get and compile model\n",
    "        models[tumor_region] = unet_model_script.UNet(channels, image_size, conf=conf)\n",
    "        models[tumor_region].compile(**training_model_conf)\n",
    "\n",
    "        # Convert mask labels to binary\n",
    "        train_masks = datagen.convert_labels_eval(y_t, tumor_region, image_size)\n",
    "        valid_masks = datagen.convert_labels_eval(y_v, tumor_region, image_size)\n",
    "\n",
    "        # Init datagen w augmentation\n",
    "        train_gen = datagen.AugmentationDatagen(x_t, train_masks, batch_size, AUGMENTATIONS)\n",
    "\n",
    "        # Start training\n",
    "        models[\"hist_{}\".format(tumor_region)] = models[tumor_region].fit(train_gen, \n",
    "                                                                          validation_data=(x_v, valid_masks), \n",
    "                                                                          epochs=epochs, \n",
    "                                                                          shuffle=True, \n",
    "                                                                          callbacks=callbacks)\n",
    "        \n",
    "        models[tumor_region].save(\"../models/base_d_5_new/{}_ensemble_{}.h5\".format(k, tumor_region))\n",
    "\n",
    "print(\"Training time: {}\".format(time.time()-time_start))"
   ]
  },
  {
   "cell_type": "markdown",
   "metadata": {},
   "source": [
    "### Results"
   ]
  },
  {
   "cell_type": "code",
   "execution_count": 11,
   "metadata": {},
   "outputs": [
    {
     "data": {
      "image/png": "[encoded data removed]",
      "text/plain": [
       "<Figure size 432x288 with 1 Axes>"
      ]
     },
     "metadata": {
      "needs_background": "light"
     },
     "output_type": "display_data"
    },
    {
     "data": {
      "image/png": "[encoded data removed]",
      "text/plain": [
       "<Figure size 432x288 with 1 Axes>"
      ]
     },
     "metadata": {
      "needs_background": "light"
     },
     "output_type": "display_data"
    }
   ],
   "source": [
    "tumor_region = \"core\"\n",
    "\n",
    "# Plot training & validation accuracy values\n",
    "plt.plot(models[\"hist_{}\".format(tumor_region)].history['accuracy'])\n",
    "plt.plot(models[\"hist_{}\".format(tumor_region)].history['val_accuracy'])\n",
    "plt.title('Model accuracy')\n",
    "plt.ylabel('Accuracy')\n",
    "plt.xlabel('Epoch')\n",
    "plt.legend(['Train', 'Test'], loc='upper left')\n",
    "plt.show()\n",
    "\n",
    "# Plot training & validation loss values\n",
    "plt.plot(models[\"hist_{}\".format(tumor_region)].history['loss'])\n",
    "plt.plot(models[\"hist_{}\".format(tumor_region)].history['val_loss'])\n",
    "plt.title('Model loss')\n",
    "plt.ylabel('Loss')\n",
    "plt.xlabel('Epoch')\n",
    "plt.legend(['Train', 'Test'], loc='upper left')\n",
    "plt.show()"
   ]
  },
  {
   "cell_type": "code",
   "execution_count": null,
   "metadata": {},
   "outputs": [],
   "source": [
    "p = models[1].predict(x_train, verbose=1)"
   ]
  },
  {
   "cell_type": "code",
   "execution_count": null,
   "metadata": {},
   "outputs": [],
   "source": [
    "y_m = datagen.convert_labels(y_train, tumor_region, image_size)"
   ]
  },
  {
   "cell_type": "code",
   "execution_count": null,
   "metadata": {
    "scrolled": false
   },
   "outputs": [],
   "source": [
    "i = random.randint(0,2000)\n",
    "\n",
    "plt.figure()\n",
    "\n",
    "#subplot(r,c) provide the no. of rows and columns\n",
    "f, axarr = plt.subplots(1,2) \n",
    "\n",
    "# use the created array to output your multiple images. In this case I have stacked 4 images vertically\n",
    "axarr[0].imshow(p[i][0])\n",
    "axarr[1].imshow(y_m[i][0])"
   ]
  },
  {
   "cell_type": "code",
   "execution_count": null,
   "metadata": {},
   "outputs": [],
   "source": [
    "# i = random.randint(0, 50)\n",
    "# i = 3\n",
    "# pred = models[1].predict(np.array([x_valid[i]]), verbose=1)\n",
    "# f, axarr = plt.subplots(1,2, figsize=(10,10))\n",
    "# axarr[0].imshow(y_valid[i][0])\n",
    "# axarr[1].imshow(pred[0][0])"
   ]
  }
 ],
 "metadata": {
  "kernelspec": {
   "display_name": "tfgpu",
   "language": "python",
   "name": "tfgpu"
  },
  "language_info": {
   "codemirror_mode": {
    "name": "ipython",
    "version": 3
   },
   "file_extension": ".py",
   "mimetype": "text/x-python",
   "name": "python",
   "nbconvert_exporter": "python",
   "pygments_lexer": "ipython3",
   "version": "3.7.6"
  }
 },
 "nbformat": 4,
 "nbformat_minor": 4
}
