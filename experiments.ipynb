{
 "cells": [
  {
   "cell_type": "code",
   "execution_count": 1,
   "metadata": {},
   "outputs": [
    {
     "name": "stderr",
     "output_type": "stream",
     "text": [
      "Using TensorFlow backend.\n"
     ]
    }
   ],
   "source": [
    "import numpy as np\n",
    "import tensorflow as tf\n",
    "import keras\n",
    "from sklearn.metrics import precision_recall_curve\n",
    "import seaborn as sb\n",
    "import datagen\n",
    "import ensemble_functions\n",
    "from matplotlib import pyplot"
   ]
  },
  {
   "cell_type": "markdown",
   "metadata": {},
   "source": [
    "# Data selection\n",
    "\n",
    "In tnis experiment, we are going to take a look at the distribution of random choices made by the numpy random choice function and see how training and performance is influenced by selecting different boundaries from which the slices are picked. The training has been done separately in the `training_ensemble_unets` notebook."
   ]
  },
  {
   "cell_type": "code",
   "execution_count": 2,
   "metadata": {},
   "outputs": [],
   "source": [
    "slices_from_patient = 7\n",
    "num_patients = 239"
   ]
  },
  {
   "cell_type": "code",
   "execution_count": 6,
   "metadata": {},
   "outputs": [],
   "source": [
    "def make_choices(slices_from, slices_to, slices_from_patient, num_choices):\n",
    "    a = list()\n",
    "    for i in range(num_choices):\n",
    "        a.append(np.random.choice(range(slices_from, slices_to), slices_from_patient, replace=False))\n",
    "    a = np.matrix.flatten(np.array(a))\n",
    "    return a"
   ]
  },
  {
   "cell_type": "code",
   "execution_count": 13,
   "metadata": {},
   "outputs": [],
   "source": [
    "# Slices from the whole range\n",
    "s1 = make_choices(60, 100, slices_from_patient, num_patients)"
   ]
  },
  {
   "cell_type": "code",
   "execution_count": 20,
   "metadata": {},
   "outputs": [
    {
     "data": {
      "image/png": "[encoded data removed]",
      "text/plain": [
       "<Figure size 432x288 with 1 Axes>"
      ]
     },
     "metadata": {
      "needs_background": "light"
     },
     "output_type": "display_data"
    }
   ],
   "source": [
    "ax = sb.distplot(s1)\n",
    "ax.set(xlabel='slice index', ylabel='probability density')\n",
    "pyplot.show()"
   ]
  },
  {
   "cell_type": "markdown",
   "metadata": {},
   "source": [
    "### Method evaluation"
   ]
  },
  {
   "cell_type": "code",
   "execution_count": 2,
   "metadata": {},
   "outputs": [],
   "source": [
    "image_size = 240\n",
    "num_slices = 155\n",
    "num_patients = 33\n",
    "final_mask_threshold = None\n",
    "verbose = 1\n",
    "path=\"../models/experiment_dataselection/\"\n",
    "model_name=\"all_ensemble\""
   ]
  },
  {
   "cell_type": "code",
   "execution_count": 3,
   "metadata": {},
   "outputs": [],
   "source": [
    "x_val, y_val = datagen.get_whole_patient(number=num_patients, \n",
    "                    file_path='../dataset/', \n",
    "                    mode='test', \n",
    "                    glioma_type=['HGG', 'LGG'], \n",
    "                    image_size=240                     \n",
    "                    )"
   ]
  },
  {
   "cell_type": "code",
   "execution_count": 23,
   "metadata": {
    "scrolled": true
   },
   "outputs": [
    {
     "name": "stdout",
     "output_type": "stream",
     "text": [
      "Loading model ../models/experiment_dataselection/all_ensemble_1.h5\n",
      "Loading model ../models/experiment_dataselection/all_ensemble_2.h5\n",
      "Loading model ../models/experiment_dataselection/all_ensemble_3.h5\n",
      "Loading model ../models/experiment_dataselection/all_ensemble_4.h5\n",
      "Models loaded\n",
      "Evaluating patient 0\n",
      "Model 1 predictions\n",
      "155/155 [==============================] - 9s 55ms/step\n",
      "Model 2 predictions\n",
      "155/155 [==============================] - 2s 13ms/step\n",
      "Model 3 predictions\n",
      "155/155 [==============================] - 2s 13ms/step\n",
      "Model 4 predictions\n",
      "155/155 [==============================] - 2s 13ms/step\n",
      "Evaluating patient 1\n",
      "Model 1 predictions\n",
      "155/155 [==============================] - 2s 13ms/step\n",
      "Model 2 predictions\n",
      "155/155 [==============================] - 2s 12ms/step\n",
      "Model 3 predictions\n",
      "155/155 [==============================] - 2s 12ms/step\n",
      "Model 4 predictions\n",
      "155/155 [==============================] - 2s 12ms/step\n",
      "Evaluating patient 2\n",
      "Model 1 predictions\n",
      "155/155 [==============================] - 2s 13ms/step\n",
      "Model 2 predictions\n",
      "155/155 [==============================] - 2s 12ms/step\n",
      "Model 3 predictions\n",
      "155/155 [==============================] - 2s 13ms/step\n",
      "Model 4 predictions\n",
      "155/155 [==============================] - 2s 12ms/step\n",
      "Evaluating patient 3\n",
      "Model 1 predictions\n",
      "155/155 [==============================] - 2s 13ms/step\n",
      "Model 2 predictions\n",
      "155/155 [==============================] - 2s 12ms/step\n",
      "Model 3 predictions\n",
      "155/155 [==============================] - 2s 12ms/step\n",
      "Model 4 predictions\n",
      "155/155 [==============================] - 2s 12ms/step\n",
      "Evaluating patient 4\n",
      "Model 1 predictions\n",
      "155/155 [==============================] - 2s 13ms/step\n",
      "Model 2 predictions\n",
      "155/155 [==============================] - 2s 12ms/step\n",
      "Model 3 predictions\n",
      "155/155 [==============================] - 2s 12ms/step\n",
      "Model 4 predictions\n",
      "155/155 [==============================] - 2s 12ms/step\n",
      "Evaluating patient 5\n",
      "Model 1 predictions\n",
      "155/155 [==============================] - 2s 13ms/step\n",
      "Model 2 predictions\n",
      "155/155 [==============================] - 2s 12ms/step\n",
      "Model 3 predictions\n",
      "155/155 [==============================] - 2s 13ms/step\n",
      "Model 4 predictions\n",
      "155/155 [==============================] - 2s 13ms/step\n",
      "Evaluating patient 6\n",
      "Model 1 predictions\n",
      "155/155 [==============================] - 2s 13ms/step\n",
      "Model 2 predictions\n",
      "155/155 [==============================] - 2s 13ms/step\n",
      "Model 3 predictions\n",
      "155/155 [==============================] - 2s 13ms/step\n",
      "Model 4 predictions\n",
      "155/155 [==============================] - 2s 13ms/step\n",
      "Evaluating patient 7\n",
      "Model 1 predictions\n",
      "155/155 [==============================] - 2s 13ms/step\n",
      "Model 2 predictions\n",
      "155/155 [==============================] - 2s 13ms/step\n",
      "Model 3 predictions\n",
      "155/155 [==============================] - 2s 13ms/step\n",
      "Model 4 predictions\n",
      "155/155 [==============================] - 2s 13ms/step\n",
      "Evaluating patient 8\n",
      "Model 1 predictions\n",
      "155/155 [==============================] - 2s 14ms/step\n",
      "Model 2 predictions\n",
      "155/155 [==============================] - 2s 13ms/step\n",
      "Model 3 predictions\n",
      "155/155 [==============================] - 2s 13ms/step\n",
      "Model 4 predictions\n",
      "155/155 [==============================] - 2s 13ms/step\n",
      "Evaluating patient 9\n",
      "Model 1 predictions\n",
      "155/155 [==============================] - 2s 13ms/step\n",
      "Model 2 predictions\n",
      "155/155 [==============================] - 2s 12ms/step\n",
      "Model 3 predictions\n",
      "155/155 [==============================] - 2s 13ms/step\n",
      "Model 4 predictions\n",
      "155/155 [==============================] - 2s 13ms/step\n",
      "Evaluating patient 10\n",
      "Model 1 predictions\n",
      "155/155 [==============================] - 2s 13ms/step\n",
      "Model 2 predictions\n",
      "155/155 [==============================] - 2s 12ms/step\n",
      "Model 3 predictions\n",
      "155/155 [==============================] - 2s 13ms/step\n",
      "Model 4 predictions\n",
      "155/155 [==============================] - 2s 12ms/step\n",
      "Evaluating patient 11\n",
      "Model 1 predictions\n",
      "155/155 [==============================] - 2s 13ms/step\n",
      "Model 2 predictions\n",
      "155/155 [==============================] - 2s 13ms/step\n",
      "Model 3 predictions\n",
      "155/155 [==============================] - 2s 13ms/step\n",
      "Model 4 predictions\n",
      "155/155 [==============================] - 2s 13ms/step\n",
      "Evaluating patient 12\n",
      "Model 1 predictions\n",
      "155/155 [==============================] - 2s 13ms/step\n",
      "Model 2 predictions\n",
      "155/155 [==============================] - 2s 12ms/step\n",
      "Model 3 predictions\n",
      "155/155 [==============================] - 2s 13ms/step\n",
      "Model 4 predictions\n",
      "155/155 [==============================] - 2s 13ms/step\n",
      "Evaluating patient 13\n",
      "Model 1 predictions\n",
      "155/155 [==============================] - 2s 13ms/step\n",
      "Model 2 predictions\n",
      "155/155 [==============================] - 2s 13ms/step\n",
      "Model 3 predictions\n",
      "155/155 [==============================] - 2s 13ms/step\n",
      "Model 4 predictions\n",
      "155/155 [==============================] - 2s 13ms/step\n",
      "Evaluating patient 14\n",
      "Model 1 predictions\n",
      "155/155 [==============================] - 2s 13ms/step\n",
      "Model 2 predictions\n",
      "155/155 [==============================] - 2s 13ms/step\n",
      "Model 3 predictions\n",
      "155/155 [==============================] - 2s 13ms/step\n",
      "Model 4 predictions\n",
      "155/155 [==============================] - 2s 12ms/step\n",
      "Evaluating patient 15\n",
      "Model 1 predictions\n",
      "155/155 [==============================] - 2s 13ms/step\n",
      "Model 2 predictions\n",
      "155/155 [==============================] - 2s 12ms/step\n",
      "Model 3 predictions\n",
      "155/155 [==============================] - 2s 13ms/step\n",
      "Model 4 predictions\n",
      "155/155 [==============================] - 2s 13ms/step\n",
      "Evaluating patient 16\n",
      "Model 1 predictions\n",
      "155/155 [==============================] - 2s 13ms/step\n",
      "Model 2 predictions\n",
      "155/155 [==============================] - 2s 13ms/step\n",
      "Model 3 predictions\n",
      "155/155 [==============================] - 2s 13ms/step\n",
      "Model 4 predictions\n",
      "155/155 [==============================] - 2s 13ms/step\n",
      "Evaluating patient 17\n",
      "Model 1 predictions\n",
      "155/155 [==============================] - 2s 13ms/step\n",
      "Model 2 predictions\n",
      "155/155 [==============================] - 2s 12ms/step\n",
      "Model 3 predictions\n",
      "155/155 [==============================] - 2s 12ms/step\n",
      "Model 4 predictions\n",
      "155/155 [==============================] - 2s 13ms/step\n",
      "Evaluating patient 18\n",
      "Model 1 predictions\n",
      "155/155 [==============================] - 2s 13ms/step\n",
      "Model 2 predictions\n",
      "155/155 [==============================] - 2s 13ms/step\n",
      "Model 3 predictions\n",
      "155/155 [==============================] - 2s 13ms/step\n",
      "Model 4 predictions\n",
      "155/155 [==============================] - 2s 13ms/step\n",
      "Evaluating patient 19\n",
      "Model 1 predictions\n",
      "155/155 [==============================] - 2s 13ms/step\n",
      "Model 2 predictions\n",
      "155/155 [==============================] - 2s 13ms/step\n",
      "Model 3 predictions\n",
      "155/155 [==============================] - 2s 13ms/step\n",
      "Model 4 predictions\n",
      "155/155 [==============================] - 2s 12ms/step\n",
      "Evaluating patient 20\n",
      "Model 1 predictions\n",
      "155/155 [==============================] - 2s 13ms/step\n",
      "Model 2 predictions\n",
      "155/155 [==============================] - 2s 13ms/step\n",
      "Model 3 predictions\n",
      "155/155 [==============================] - 2s 13ms/step\n",
      "Model 4 predictions\n",
      "155/155 [==============================] - 2s 13ms/step\n",
      "Evaluating patient 21\n",
      "Model 1 predictions\n",
      "155/155 [==============================] - 2s 13ms/step\n",
      "Model 2 predictions\n",
      "155/155 [==============================] - 2s 12ms/step\n",
      "Model 3 predictions\n",
      "155/155 [==============================] - 2s 13ms/step\n",
      "Model 4 predictions\n",
      "155/155 [==============================] - 2s 13ms/step\n",
      "Evaluating patient 22\n",
      "Model 1 predictions\n",
      "155/155 [==============================] - 2s 13ms/step\n",
      "Model 2 predictions\n",
      "155/155 [==============================] - 2s 13ms/step\n",
      "Model 3 predictions\n",
      "155/155 [==============================] - 2s 13ms/step\n",
      "Model 4 predictions\n",
      "155/155 [==============================] - 2s 13ms/step\n",
      "Evaluating patient 23\n",
      "Model 1 predictions\n",
      "155/155 [==============================] - 2s 13ms/step\n",
      "Model 2 predictions\n",
      "155/155 [==============================] - 2s 13ms/step\n",
      "Model 3 predictions\n",
      "155/155 [==============================] - 2s 13ms/step\n",
      "Model 4 predictions\n",
      "155/155 [==============================] - 2s 13ms/step\n",
      "Evaluating patient 24\n",
      "Model 1 predictions\n",
      "155/155 [==============================] - 2s 13ms/step\n"
     ]
    },
    {
     "name": "stdout",
     "output_type": "stream",
     "text": [
      "Model 2 predictions\n",
      "155/155 [==============================] - 2s 12ms/step\n",
      "Model 3 predictions\n",
      "155/155 [==============================] - 2s 13ms/step\n",
      "Model 4 predictions\n",
      "155/155 [==============================] - 2s 13ms/step\n",
      "Evaluating patient 25\n",
      "Model 1 predictions\n",
      "155/155 [==============================] - 2s 13ms/step\n",
      "Model 2 predictions\n",
      "155/155 [==============================] - 2s 13ms/step\n",
      "Model 3 predictions\n",
      "155/155 [==============================] - 2s 13ms/step\n",
      "Model 4 predictions\n",
      "155/155 [==============================] - 2s 13ms/step\n",
      "Evaluating patient 26\n"
     ]
    },
    {
     "ename": "IndexError",
     "evalue": "index 26 is out of bounds for axis 0 with size 26",
     "output_type": "error",
     "traceback": [
      "\u001b[1;31m---------------------------------------------------------------------------\u001b[0m",
      "\u001b[1;31mIndexError\u001b[0m                                Traceback (most recent call last)",
      "\u001b[1;32m<ipython-input-23-5da6fa10fc83>\u001b[0m in \u001b[0;36m<module>\u001b[1;34m\u001b[0m\n\u001b[1;32m----> 1\u001b[1;33m \u001b[0mensemble_functions\u001b[0m\u001b[1;33m.\u001b[0m\u001b[0mevaluate_ensemble\u001b[0m\u001b[1;33m(\u001b[0m\u001b[0mx_val\u001b[0m\u001b[1;33m,\u001b[0m \u001b[0my_val\u001b[0m\u001b[1;33m,\u001b[0m \u001b[0mpath\u001b[0m\u001b[1;33m,\u001b[0m \u001b[0mmodel_name\u001b[0m\u001b[1;33m,\u001b[0m \u001b[0mnum_patients\u001b[0m\u001b[1;33m,\u001b[0m \u001b[0mimage_size\u001b[0m\u001b[1;33m,\u001b[0m \u001b[0mfinal_mask_threshold\u001b[0m\u001b[1;33m,\u001b[0m \u001b[0mverbose\u001b[0m\u001b[1;33m)\u001b[0m\u001b[1;33m\u001b[0m\u001b[1;33m\u001b[0m\u001b[0m\n\u001b[0m",
      "\u001b[1;32m~\\Desktop\\tf_segmentation\\unet_segmentation\\ensemble_functions.py\u001b[0m in \u001b[0;36mevaluate_ensemble\u001b[1;34m(x_val, y_val, path, model_name, num_patients, image_size, final_mask_threshold, verbose)\u001b[0m\n\u001b[0;32m    122\u001b[0m         \u001b[1;32mif\u001b[0m \u001b[0mverbose\u001b[0m\u001b[1;33m:\u001b[0m\u001b[1;33m\u001b[0m\u001b[1;33m\u001b[0m\u001b[0m\n\u001b[0;32m    123\u001b[0m             \u001b[0mprint\u001b[0m\u001b[1;33m(\u001b[0m\u001b[1;34m\"Evaluating patient {}\"\u001b[0m\u001b[1;33m.\u001b[0m\u001b[0mformat\u001b[0m\u001b[1;33m(\u001b[0m\u001b[0mi\u001b[0m\u001b[1;33m)\u001b[0m\u001b[1;33m)\u001b[0m\u001b[1;33m\u001b[0m\u001b[1;33m\u001b[0m\u001b[0m\n\u001b[1;32m--> 124\u001b[1;33m         \u001b[0mpredictions\u001b[0m \u001b[1;33m=\u001b[0m \u001b[0mget_predictions\u001b[0m\u001b[1;33m(\u001b[0m\u001b[0mmodels\u001b[0m\u001b[1;33m,\u001b[0m \u001b[0mx_val\u001b[0m\u001b[1;33m[\u001b[0m\u001b[0mi\u001b[0m\u001b[1;33m]\u001b[0m\u001b[1;33m,\u001b[0m \u001b[1;36m1\u001b[0m\u001b[1;33m,\u001b[0m \u001b[1;36m4\u001b[0m\u001b[1;33m,\u001b[0m \u001b[0mverbose\u001b[0m\u001b[1;33m=\u001b[0m\u001b[0mverbose\u001b[0m\u001b[1;33m)\u001b[0m\u001b[1;33m\u001b[0m\u001b[1;33m\u001b[0m\u001b[0m\n\u001b[0m\u001b[0;32m    125\u001b[0m         \u001b[0mfinal_mask\u001b[0m \u001b[1;33m=\u001b[0m \u001b[0mcreate_mask\u001b[0m\u001b[1;33m(\u001b[0m\u001b[0mpredictions\u001b[0m\u001b[1;33m,\u001b[0m \u001b[1;36m155\u001b[0m\u001b[1;33m,\u001b[0m \u001b[0mimage_size\u001b[0m\u001b[1;33m,\u001b[0m \u001b[0mp\u001b[0m\u001b[1;33m=\u001b[0m\u001b[0mfinal_mask_threshold\u001b[0m\u001b[1;33m)\u001b[0m\u001b[1;33m\u001b[0m\u001b[1;33m\u001b[0m\u001b[0m\n\u001b[0;32m    126\u001b[0m \u001b[1;33m\u001b[0m\u001b[0m\n",
      "\u001b[1;31mIndexError\u001b[0m: index 26 is out of bounds for axis 0 with size 26"
     ]
    }
   ],
   "source": [
    "ensemble_functions.evaluate_ensemble(x_val, y_val, path, model_name, num_patients, image_size, final_mask_threshold, verbose)"
   ]
  },
  {
   "cell_type": "markdown",
   "metadata": {},
   "source": [
    "# Threshold for final segmentation"
   ]
  },
  {
   "cell_type": "markdown",
   "metadata": {},
   "source": [
    "In this experiment we are going to find an optimal threshold for the final mask creation."
   ]
  },
  {
   "cell_type": "code",
   "execution_count": null,
   "metadata": {},
   "outputs": [],
   "source": [
    "num_patients = 10\n",
    "x_val, y_val = datagen.get_whole_patient(number=num_patients, \n",
    "                    file_path='../dataset/', \n",
    "                    mode='test', \n",
    "                    glioma_type=['HGG'], \n",
    "                    image_size=240                     \n",
    "                    )"
   ]
  },
  {
   "cell_type": "code",
   "execution_count": 73,
   "metadata": {},
   "outputs": [],
   "source": [
    "\n",
    "tumor_region = 4"
   ]
  },
  {
   "cell_type": "code",
   "execution_count": 74,
   "metadata": {},
   "outputs": [],
   "source": [
    "m = keras.models.load_model(\"../models/base_d_5/1_ensemble_{}.h5\".format(tumor_region))"
   ]
  },
  {
   "cell_type": "code",
   "execution_count": 75,
   "metadata": {},
   "outputs": [],
   "source": [
    "masks = []\n",
    "predictions = []\n",
    "for p in range(num_patients):\n",
    "    y = datagen.convert_labels(y_val[p][0][60:100], tumor_region, 240)\n",
    "    p = m.predict(np.array(x_val[p][60:100]))\n",
    "    masks.append(y)\n",
    "    predictions.append(p)\n",
    "masks = np.concatenate(masks)\n",
    "predictions = np.concatenate(predictions)\n",
    "    "
   ]
  },
  {
   "cell_type": "code",
   "execution_count": 76,
   "metadata": {},
   "outputs": [],
   "source": [
    "precision, recall, threshold = precision_recall_curve(np.ndarray.flatten(masks), np.ndarray.flatten(predictions))"
   ]
  },
  {
   "cell_type": "code",
   "execution_count": 103,
   "metadata": {},
   "outputs": [
    {
     "name": "stdout",
     "output_type": "stream",
     "text": [
      "(array([5247421, 5247422, 5247423, 5247424, 5247425, 5247426], dtype=int64),)\n"
     ]
    }
   ],
   "source": [
    "score = 0.765832\n",
    "index = np.where((precision>=score) & (recall>=score))\n",
    "print(index)\n",
    "index = index[0][5]"
   ]
  },
  {
   "cell_type": "code",
   "execution_count": 104,
   "metadata": {},
   "outputs": [
    {
     "name": "stderr",
     "output_type": "stream",
     "text": [
      "C:\\Users\\krcma\\.conda\\envs\\tfgpu\\lib\\site-packages\\IPython\\core\\pylabtools.py:132: UserWarning: Creating legend with loc=\"best\" can be slow with large amounts of data.\n",
      "  fig.canvas.print_figure(bytes_io, **kw)\n"
     ]
    },
    {
     "data": {
      "image/png": "[encoded data removed]",
      "text/plain": [
       "<Figure size 432x288 with 1 Axes>"
      ]
     },
     "metadata": {
      "needs_background": "light"
     },
     "output_type": "display_data"
    },
    {
     "name": "stdout",
     "output_type": "stream",
     "text": [
      "Selected threshold value is 0.5738325715065002\n"
     ]
    }
   ],
   "source": [
    "pyplot.plot(recall, precision, label='U-Net 1', linewidth=2)\n",
    "pyplot.scatter(recall[index], precision[index], s=50, c=\"#e74c3c\", zorder=10)\n",
    "pyplot.xlabel('Recall')\n",
    "pyplot.ylabel('Precision')\n",
    "pyplot.legend()\n",
    "pyplot.grid(color='grey', linestyle='-', linewidth=0.2)\n",
    "pyplot.show()\n",
    "\n",
    "print(\"Selected threshold value is {}\".format(threshold[index]))"
   ]
  },
  {
   "cell_type": "markdown",
   "metadata": {},
   "source": [
    "### Results \n",
    "\n",
    "tumor 1: 0.5956302881240845  \n",
    "tumor 2: 0.42085739970207214  \n",
    "tumor 3: 0.6085834503173828  \n",
    "tumor 4: 0.5738325715065002"
   ]
  },
  {
   "cell_type": "code",
   "execution_count": null,
   "metadata": {},
   "outputs": [],
   "source": [
    "score = 0.739325"
   ]
  },
  {
   "cell_type": "code",
   "execution_count": 5,
   "metadata": {},
   "outputs": [],
   "source": [
    "m = {}\n",
    "tumor_regions = [\"whole\", \"core\", \"enhancing\"]\n",
    "# path = \"C:\\Users\\krcma\\Desktop\\models\\base_d_5_new\"\n",
    "\n",
    "for t in tumor_regions:\n",
    "    m[t] = keras.models.load_model(\"C:/Users/krcma/Desktop/models/base_d_5_new/1_ensemble_{}.h5\".format(t))"
   ]
  },
  {
   "cell_type": "code",
   "execution_count": 5,
   "metadata": {
    "scrolled": true
   },
   "outputs": [
    {
     "name": "stdout",
     "output_type": "stream",
     "text": [
      "1\n",
      "2\n",
      "3\n",
      "4\n"
     ]
    }
   ],
   "source": [
    "for i in range(1, 5):\n",
    "    print(i)\n",
    "    m[i] = keras.models.load_model(\"../models/base_d_5/1_ensemble_{}.h5\".format(i))"
   ]
  },
  {
   "cell_type": "code",
   "execution_count": 6,
   "metadata": {},
   "outputs": [
    {
     "data": {
      "text/plain": [
       "(26, 155, 4, 240, 240)"
      ]
     },
     "execution_count": 6,
     "metadata": {},
     "output_type": "execute_result"
    }
   ],
   "source": [
    "x_val.shape"
   ]
  },
  {
   "cell_type": "code",
   "execution_count": 7,
   "metadata": {},
   "outputs": [
    {
     "data": {
      "text/plain": [
       "(4, 240, 240)"
      ]
     },
     "execution_count": 7,
     "metadata": {},
     "output_type": "execute_result"
    }
   ],
   "source": [
    "x_val[0][87].shape"
   ]
  },
  {
   "cell_type": "code",
   "execution_count": 8,
   "metadata": {},
   "outputs": [],
   "source": [
    "p = {}"
   ]
  },
  {
   "cell_type": "code",
   "execution_count": 33,
   "metadata": {},
   "outputs": [
    {
     "name": "stdout",
     "output_type": "stream",
     "text": [
      "whole\n",
      "core\n",
      "enhancing\n"
     ]
    }
   ],
   "source": [
    "for i in [\"whole\", \"core\", \"enhancing\"]:\n",
    "    print(i)\n",
    "    p[i] = m[i].predict(np.array([x_val[3][102]]))"
   ]
  },
  {
   "cell_type": "code",
   "execution_count": 34,
   "metadata": {},
   "outputs": [
    {
     "data": {
      "text/plain": [
       "(10, 155, 4, 240, 240)"
      ]
     },
     "execution_count": 34,
     "metadata": {},
     "output_type": "execute_result"
    }
   ],
   "source": [
    "x_val.shape"
   ]
  },
  {
   "cell_type": "code",
   "execution_count": 35,
   "metadata": {},
   "outputs": [
    {
     "data": {
      "image/png": "[encoded data removed]",
      "text/plain": [
       "<Figure size 432x288 with 1 Axes>"
      ]
     },
     "metadata": {
      "needs_background": "light"
     },
     "output_type": "display_data"
    }
   ],
   "source": [
    "imgplot = pyplot.imshow(x_val[3][102][0])\n",
    "pyplot.show()"
   ]
  },
  {
   "cell_type": "code",
   "execution_count": 36,
   "metadata": {},
   "outputs": [
    {
     "data": {
      "image/png": "[encoded data removed]",
      "text/plain": [
       "<Figure size 432x288 with 1 Axes>"
      ]
     },
     "metadata": {
      "needs_background": "light"
     },
     "output_type": "display_data"
    }
   ],
   "source": [
    "imgplot = pyplot.imshow(y_val[3][0][102][0])\n",
    "pyplot.show()"
   ]
  },
  {
   "cell_type": "code",
   "execution_count": 37,
   "metadata": {},
   "outputs": [
    {
     "data": {
      "image/png": "[encoded data removed]",
      "text/plain": [
       "<Figure size 432x288 with 1 Axes>"
      ]
     },
     "metadata": {
      "needs_background": "light"
     },
     "output_type": "display_data"
    }
   ],
   "source": [
    "pat = np.zeros((240, 240)) \n",
    "pat[p[\"whole\"][0][0] >= 0.564] = 1\n",
    "imgplot = pyplot.imshow(pat)\n",
    "pyplot.show()"
   ]
  },
  {
   "cell_type": "code",
   "execution_count": 38,
   "metadata": {},
   "outputs": [
    {
     "data": {
      "image/png": "[encoded data removed]",
      "text/plain": [
       "<Figure size 432x288 with 1 Axes>"
      ]
     },
     "metadata": {
      "needs_background": "light"
     },
     "output_type": "display_data"
    }
   ],
   "source": [
    "pat = np.zeros((240, 240)) \n",
    "pat[p[\"core\"][0][0] >= 0.564] = 1\n",
    "imgplot = pyplot.imshow(pat)\n",
    "pyplot.show()"
   ]
  },
  {
   "cell_type": "code",
   "execution_count": 39,
   "metadata": {},
   "outputs": [
    {
     "data": {
      "image/png": "[encoded data removed]",
      "text/plain": [
       "<Figure size 432x288 with 1 Axes>"
      ]
     },
     "metadata": {
      "needs_background": "light"
     },
     "output_type": "display_data"
    }
   ],
   "source": [
    "pat = np.zeros((240, 240)) \n",
    "pat[p[\"enhancing\"][0][0] >= 0.564] = 1\n",
    "imgplot = pyplot.imshow(pat)\n",
    "pyplot.show()"
   ]
  },
  {
   "cell_type": "code",
   "execution_count": 32,
   "metadata": {},
   "outputs": [
    {
     "ename": "ValueError",
     "evalue": "could not convert string to float: 'whole'",
     "output_type": "error",
     "traceback": [
      "\u001b[1;31m---------------------------------------------------------------------------\u001b[0m",
      "\u001b[1;31mValueError\u001b[0m                                Traceback (most recent call last)",
      "\u001b[1;32m<ipython-input-32-d1a3fefca9d0>\u001b[0m in \u001b[0;36m<module>\u001b[1;34m\u001b[0m\n\u001b[1;32m----> 1\u001b[1;33m \u001b[0mfmask\u001b[0m \u001b[1;33m=\u001b[0m \u001b[0mensemble_functions\u001b[0m\u001b[1;33m.\u001b[0m\u001b[0mcreate_mask\u001b[0m\u001b[1;33m(\u001b[0m\u001b[0mp\u001b[0m\u001b[1;33m,\u001b[0m \u001b[1;36m1\u001b[0m\u001b[1;33m,\u001b[0m \u001b[1;36m240\u001b[0m\u001b[1;33m,\u001b[0m \u001b[0mp\u001b[0m\u001b[1;33m=\u001b[0m\u001b[1;36m0.564\u001b[0m\u001b[1;33m)\u001b[0m\u001b[1;33m\u001b[0m\u001b[1;33m\u001b[0m\u001b[0m\n\u001b[0m",
      "\u001b[1;32m~\\Desktop\\tf_segmentation\\unet_segmentation\\ensemble_functions.py\u001b[0m in \u001b[0;36mcreate_mask\u001b[1;34m(predictions, num_slices, image_size, p)\u001b[0m\n\u001b[0;32m     73\u001b[0m             \u001b[0mfinal_mask\u001b[0m\u001b[1;33m[\u001b[0m\u001b[0mpredictions\u001b[0m\u001b[1;33m[\u001b[0m\u001b[0mk\u001b[0m\u001b[1;33m]\u001b[0m \u001b[1;33m>=\u001b[0m \u001b[0mb_d_thresholds\u001b[0m\u001b[1;33m[\u001b[0m\u001b[0mk\u001b[0m\u001b[1;33m-\u001b[0m\u001b[1;36m1\u001b[0m\u001b[1;33m]\u001b[0m\u001b[1;33m]\u001b[0m \u001b[1;33m=\u001b[0m \u001b[0mk\u001b[0m\u001b[1;33m\u001b[0m\u001b[1;33m\u001b[0m\u001b[0m\n\u001b[0;32m     74\u001b[0m         \u001b[1;32melse\u001b[0m\u001b[1;33m:\u001b[0m\u001b[1;33m\u001b[0m\u001b[1;33m\u001b[0m\u001b[0m\n\u001b[1;32m---> 75\u001b[1;33m             \u001b[0mfinal_mask\u001b[0m\u001b[1;33m[\u001b[0m\u001b[0mpredictions\u001b[0m\u001b[1;33m[\u001b[0m\u001b[0mk\u001b[0m\u001b[1;33m]\u001b[0m \u001b[1;33m>=\u001b[0m \u001b[0mp\u001b[0m\u001b[1;33m]\u001b[0m \u001b[1;33m=\u001b[0m \u001b[0mk\u001b[0m\u001b[1;33m\u001b[0m\u001b[1;33m\u001b[0m\u001b[0m\n\u001b[0m\u001b[0;32m     76\u001b[0m \u001b[1;33m\u001b[0m\u001b[0m\n\u001b[0;32m     77\u001b[0m     \u001b[1;32mreturn\u001b[0m \u001b[0mnp\u001b[0m\u001b[1;33m.\u001b[0m\u001b[0mnan_to_num\u001b[0m\u001b[1;33m(\u001b[0m\u001b[0mfinal_mask\u001b[0m\u001b[1;33m)\u001b[0m \u001b[1;31m# replace all nan values with 0\u001b[0m\u001b[1;33m\u001b[0m\u001b[1;33m\u001b[0m\u001b[0m\n",
      "\u001b[1;31mValueError\u001b[0m: could not convert string to float: 'whole'"
     ]
    }
   ],
   "source": [
    "fmask = ensemble_functions.create_mask(p, 1, 240, p=0.564)"
   ]
  },
  {
   "cell_type": "code",
   "execution_count": 44,
   "metadata": {},
   "outputs": [],
   "source": [
    "fmask =  np.zeros((240,240))\n",
    "fmask[p[\"whole\"][0][0] > 0.564] = 1\n",
    "fmask[p[\"core\"][0][0] > 0.564] = 2\n",
    "fmask[p[\"enhancing\"][0][0] > 0.564] = 4"
   ]
  },
  {
   "cell_type": "code",
   "execution_count": 45,
   "metadata": {
    "scrolled": true
   },
   "outputs": [
    {
     "name": "stdout",
     "output_type": "stream",
     "text": [
      "[0. 1. 2. 4.]\n"
     ]
    },
    {
     "data": {
      "image/png": "[encoded data removed]",
      "text/plain": [
       "<Figure size 432x288 with 1 Axes>"
      ]
     },
     "metadata": {
      "needs_background": "light"
     },
     "output_type": "display_data"
    }
   ],
   "source": [
    "print(np.unique(fmask))\n",
    "imgplot = pyplot.imshow(fmask)\n",
    "pyplot.show()"
   ]
  },
  {
   "cell_type": "code",
   "execution_count": 47,
   "metadata": {},
   "outputs": [
    {
     "name": "stdout",
     "output_type": "stream",
     "text": [
      "[0. 1. 2. 4.]\n"
     ]
    },
    {
     "data": {
      "image/png": "[encoded data removed]",
      "text/plain": [
       "<Figure size 432x288 with 1 Axes>"
      ]
     },
     "metadata": {
      "needs_background": "light"
     },
     "output_type": "display_data"
    }
   ],
   "source": [
    "mask = y_val[3][0][102][0]\n",
    "\n",
    "mm = np.zeros((240, 240))\n",
    "mm[mask == 1] = 1\n",
    "mm[mask == 2] = 2\n",
    "mm[mask == 4] = 4\n",
    "print(np.unique(mm))\n",
    "imgplot = pyplot.imshow(mm)\n",
    "pyplot.show()"
   ]
  },
  {
   "cell_type": "code",
   "execution_count": 18,
   "metadata": {},
   "outputs": [
    {
     "data": {
      "image/png": "[encoded data removed]",
      "text/plain": [
       "<Figure size 432x288 with 1 Axes>"
      ]
     },
     "metadata": {
      "needs_background": "light"
     },
     "output_type": "display_data"
    }
   ],
   "source": [
    "pat = y_val[2][0][87][0]\n",
    "imgplot = pyplot.imshow(pat == 1)\n",
    "pyplot.show()"
   ]
  },
  {
   "cell_type": "code",
   "execution_count": null,
   "metadata": {},
   "outputs": [],
   "source": []
  },
  {
   "cell_type": "code",
   "execution_count": null,
   "metadata": {},
   "outputs": [],
   "source": []
  },
  {
   "cell_type": "code",
   "execution_count": null,
   "metadata": {},
   "outputs": [],
   "source": []
  },
  {
   "cell_type": "code",
   "execution_count": null,
   "metadata": {},
   "outputs": [],
   "source": []
  },
  {
   "cell_type": "code",
   "execution_count": null,
   "metadata": {},
   "outputs": [],
   "source": []
  },
  {
   "cell_type": "code",
   "execution_count": 8,
   "metadata": {},
   "outputs": [],
   "source": [
    "def evaluate_ensemble(x_val, y_val, models, image_size, final_mask_threshold, verbose):\n",
    "    # Evaluation pipeline:\n",
    "    \n",
    "    tumor_regions = [\"enhancing\", \"whole\", \"core\"]\n",
    "\n",
    "    evaluations = {\n",
    "        \"enhancing\": [],\n",
    "        \"whole\": [],\n",
    "        \"core\": []\n",
    "    }\n",
    "    \n",
    "    if verbose:\n",
    "        print(\"Models loaded\")\n",
    "\n",
    "    for i in range(num_patients):\n",
    "        \n",
    "        if verbose:\n",
    "            print(\"Evaluating patient {}\".format(i))\n",
    "        \n",
    "        predictions = {}\n",
    "        for t in tumor_regions:\n",
    "            print(t)\n",
    "            predictions[t] = models[t].predict(x_val[i])\n",
    "        \n",
    "        # Create final mask\n",
    "        final_mask = np.zeros((num_slices, 1, image_size, image_size))\n",
    "        for idx, t in enumerate(tumor_regions):\n",
    "            print(idx, t)\n",
    "            final_mask[predictions[t] >= 0.564] = idx + 1 \n",
    "        \n",
    "        for tumor_region in tumor_regions:\n",
    "            evaluations[tumor_region].append(ensemble_functions.evaluate_tumor_region(y_val[i][0], final_mask, image_size, tumor_region))\n",
    "\n",
    "    results = {}\n",
    "    for tumor_region in tumor_regions:\n",
    "        results[tumor_region] = {\n",
    "            \"mean\": round(np.array(evaluations[tumor_region]).mean() * 100, 2),\n",
    "            \"stdDev\": round(np.std(np.array(evaluations[tumor_region])) * 100, 2),\n",
    "            \"median\": round(np.median(np.array(evaluations[tumor_region])) * 100, 2)\n",
    "        }\n",
    "\n",
    "    # Cleanup\n",
    "    del models\n",
    "    del predictions\n",
    "    \n",
    "    return results"
   ]
  },
  {
   "cell_type": "code",
   "execution_count": 6,
   "metadata": {},
   "outputs": [],
   "source": [
    "path = \"C:/Users/krcma/Desktop/models/base_d_5_new/\"\n",
    "model_name = \"1_ensemble\"\n",
    "tumor_regions = [\"whole\", \"core\", \"enhancing\"]\n",
    "models = {}\n",
    "for t in tumor_regions:\n",
    "    models[t] = keras.models.load_model(path + \"/\" + model_name + \"_{}.h5\".format(t))"
   ]
  },
  {
   "cell_type": "code",
   "execution_count": 9,
   "metadata": {},
   "outputs": [
    {
     "name": "stdout",
     "output_type": "stream",
     "text": [
      "Models loaded\n",
      "Evaluating patient 0\n",
      "enhancing\n",
      "whole\n",
      "core\n",
      "0 enhancing\n",
      "1 whole\n",
      "2 core\n",
      "Evaluating patient 1\n",
      "enhancing\n",
      "whole\n",
      "core\n",
      "0 enhancing\n",
      "1 whole\n",
      "2 core\n",
      "Evaluating patient 2\n",
      "enhancing\n",
      "whole\n",
      "core\n",
      "0 enhancing\n",
      "1 whole\n",
      "2 core\n",
      "Evaluating patient 3\n",
      "enhancing\n",
      "whole\n",
      "core\n",
      "0 enhancing\n",
      "1 whole\n",
      "2 core\n",
      "Evaluating patient 4\n",
      "enhancing\n",
      "whole\n",
      "core\n",
      "0 enhancing\n",
      "1 whole\n",
      "2 core\n",
      "Evaluating patient 5\n",
      "enhancing\n",
      "whole\n",
      "core\n",
      "0 enhancing\n",
      "1 whole\n",
      "2 core\n",
      "Evaluating patient 6\n",
      "enhancing\n",
      "whole\n",
      "core\n",
      "0 enhancing\n",
      "1 whole\n",
      "2 core\n",
      "Evaluating patient 7\n",
      "enhancing\n",
      "whole\n",
      "core\n",
      "0 enhancing\n",
      "1 whole\n",
      "2 core\n",
      "Evaluating patient 8\n",
      "enhancing\n",
      "whole\n",
      "core\n",
      "0 enhancing\n",
      "1 whole\n",
      "2 core\n",
      "Evaluating patient 9\n",
      "enhancing\n",
      "whole\n",
      "core\n",
      "0 enhancing\n",
      "1 whole\n",
      "2 core\n",
      "Evaluating patient 10\n",
      "enhancing\n",
      "whole\n",
      "core\n",
      "0 enhancing\n",
      "1 whole\n",
      "2 core\n",
      "Evaluating patient 11\n",
      "enhancing\n",
      "whole\n",
      "core\n",
      "0 enhancing\n",
      "1 whole\n",
      "2 core\n",
      "Evaluating patient 12\n",
      "enhancing\n",
      "whole\n",
      "core\n",
      "0 enhancing\n",
      "1 whole\n",
      "2 core\n",
      "Evaluating patient 13\n",
      "enhancing\n",
      "whole\n",
      "core\n",
      "0 enhancing\n",
      "1 whole\n",
      "2 core\n",
      "Evaluating patient 14\n",
      "enhancing\n",
      "whole\n",
      "core\n",
      "0 enhancing\n",
      "1 whole\n",
      "2 core\n",
      "Evaluating patient 15\n",
      "enhancing\n",
      "whole\n",
      "core\n",
      "0 enhancing\n",
      "1 whole\n",
      "2 core\n",
      "Evaluating patient 16\n",
      "enhancing\n",
      "whole\n",
      "core\n",
      "0 enhancing\n",
      "1 whole\n",
      "2 core\n",
      "Evaluating patient 17\n",
      "enhancing\n",
      "whole\n",
      "core\n",
      "0 enhancing\n",
      "1 whole\n",
      "2 core\n",
      "Evaluating patient 18\n",
      "enhancing\n",
      "whole\n",
      "core\n",
      "0 enhancing\n",
      "1 whole\n",
      "2 core\n",
      "Evaluating patient 19\n",
      "enhancing\n",
      "whole\n",
      "core\n",
      "0 enhancing\n",
      "1 whole\n",
      "2 core\n",
      "Evaluating patient 20\n",
      "enhancing\n",
      "whole\n",
      "core\n",
      "0 enhancing\n",
      "1 whole\n",
      "2 core\n",
      "Evaluating patient 21\n",
      "enhancing\n",
      "whole\n",
      "core\n",
      "0 enhancing\n",
      "1 whole\n",
      "2 core\n",
      "Evaluating patient 22\n",
      "enhancing\n",
      "whole\n",
      "core\n",
      "0 enhancing\n",
      "1 whole\n",
      "2 core\n",
      "Evaluating patient 23\n",
      "enhancing\n",
      "whole\n",
      "core\n",
      "0 enhancing\n",
      "1 whole\n",
      "2 core\n",
      "Evaluating patient 24\n",
      "enhancing\n",
      "whole\n",
      "core\n",
      "0 enhancing\n",
      "1 whole\n",
      "2 core\n",
      "Evaluating patient 25\n",
      "enhancing\n",
      "whole\n",
      "core\n",
      "0 enhancing\n",
      "1 whole\n",
      "2 core\n",
      "Evaluating patient 26\n",
      "enhancing\n",
      "whole\n",
      "core\n",
      "0 enhancing\n",
      "1 whole\n",
      "2 core\n",
      "Evaluating patient 27\n",
      "enhancing\n",
      "whole\n",
      "core\n",
      "0 enhancing\n",
      "1 whole\n",
      "2 core\n",
      "Evaluating patient 28\n",
      "enhancing\n",
      "whole\n",
      "core\n",
      "0 enhancing\n",
      "1 whole\n",
      "2 core\n",
      "Evaluating patient 29\n",
      "enhancing\n",
      "whole\n",
      "core\n",
      "0 enhancing\n",
      "1 whole\n",
      "2 core\n",
      "Evaluating patient 30\n",
      "enhancing\n",
      "whole\n",
      "core\n",
      "0 enhancing\n",
      "1 whole\n",
      "2 core\n",
      "Evaluating patient 31\n",
      "enhancing\n",
      "whole\n",
      "core\n",
      "0 enhancing\n",
      "1 whole\n",
      "2 core\n",
      "Evaluating patient 32\n",
      "enhancing\n",
      "whole\n",
      "core\n",
      "0 enhancing\n",
      "1 whole\n",
      "2 core\n"
     ]
    }
   ],
   "source": [
    "r = evaluate_ensemble(x_val, y_val, \n",
    "                      models,\n",
    "                      image_size, \n",
    "                      final_mask_threshold, \n",
    "                      1)"
   ]
  },
  {
   "cell_type": "code",
   "execution_count": 10,
   "metadata": {},
   "outputs": [
    {
     "data": {
      "text/plain": [
       "{'enhancing': {'mean': 9.19, 'stdDev': 28.72, 'median': 0.01},\n",
       " 'whole': {'mean': 84.4, 'stdDev': 9.8, 'median': 87.99},\n",
       " 'core': {'mean': 66.56, 'stdDev': 27.87, 'median': 79.85}}"
      ]
     },
     "execution_count": 10,
     "metadata": {},
     "output_type": "execute_result"
    }
   ],
   "source": [
    "r"
   ]
  }
 ],
 "metadata": {
  "kernelspec": {
   "display_name": "Python 3",
   "language": "python",
   "name": "python3"
  },
  "language_info": {
   "codemirror_mode": {
    "name": "ipython",
    "version": 3
   },
   "file_extension": ".py",
   "mimetype": "text/x-python",
   "name": "python",
   "nbconvert_exporter": "python",
   "pygments_lexer": "ipython3",
   "version": "3.7.6"
  }
 },
 "nbformat": 4,
 "nbformat_minor": 4
}
