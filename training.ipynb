{
 "cells": [
  {
   "cell_type": "markdown",
   "metadata": {},
   "source": [
    "# U-Net Brain Tumor Segmentation"
   ]
  },
  {
   "cell_type": "code",
   "execution_count": 1,
   "metadata": {
    "scrolled": true
   },
   "outputs": [
    {
     "name": "stderr",
     "output_type": "stream",
     "text": [
      "Using TensorFlow backend.\n"
     ]
    },
    {
     "data": {
      "text/plain": [
       "<module 'ensemble_functions' from 'C:\\\\Users\\\\krcma\\\\Desktop\\\\tf_segmentation\\\\unet_segmentation\\\\ensemble_functions.py'>"
      ]
     },
     "execution_count": 1,
     "metadata": {},
     "output_type": "execute_result"
    }
   ],
   "source": [
    "import tensorflow as tf\n",
    "import keras\n",
    "from keras.callbacks import Callback\n",
    "from keras import backend as K\n",
    "from keras.preprocessing.image import ImageDataGenerator\n",
    "from tensorflow.python.keras.callbacks import TensorBoard\n",
    "\n",
    "import numpy as np\n",
    "import os\n",
    "import SimpleITK as sitka\n",
    "import random\n",
    "import matplotlib.pyplot as plt\n",
    "import importlib\n",
    "import time\n",
    "\n",
    "# Data augmentation\n",
    "import cv2\n",
    "from albumentations import (\n",
    "    Compose, HorizontalFlip, VerticalFlip, CLAHE, HueSaturationValue,\n",
    "    RandomBrightness, RandomContrast, RandomGamma,\n",
    "    ToFloat, ShiftScaleRotate, ElasticTransform, Rotate, RandomScale, GridDistortion, OpticalDistortion, OneOf\n",
    ")\n",
    "\n",
    "# Custom scripts\n",
    "import datagen\n",
    "import ensemble_functions\n",
    "import model as unet_model_script\n",
    "\n",
    "# Reload lib contents\n",
    "importlib.reload(datagen)\n",
    "importlib.reload(unet_model_script)\n",
    "importlib.reload(ensemble_functions)"
   ]
  },
  {
   "cell_type": "markdown",
   "metadata": {},
   "source": [
    "##  Hyperparemeters"
   ]
  },
  {
   "cell_type": "code",
   "execution_count": 2,
   "metadata": {},
   "outputs": [],
   "source": [
    "train_patients = 239 + 69\n",
    "valid_HGG_patients = 20\n",
    "slices_from_patient = 7\n",
    "\n",
    "slices_from = 0\n",
    "slices_to = 154\n",
    "\n",
    "image_size = 240\n",
    "channels = 4\n",
    "learning_rate = 1e-4\n",
    "epochs = 40\n",
    "batch_size = 7\n"
   ]
  },
  {
   "cell_type": "markdown",
   "metadata": {},
   "source": [
    "### U-Net model parameters\n",
    "\n",
    "Configuration dict."
   ]
  },
  {
   "cell_type": "code",
   "execution_count": 3,
   "metadata": {},
   "outputs": [],
   "source": [
    "conf = {\n",
    "    \"last_layer_activation\": \"sigmoid\",\n",
    "    \"dropout\": 0.05,\n",
    "    \"batch_norm\": False\n",
    "}"
   ]
  },
  {
   "cell_type": "code",
   "execution_count": 4,
   "metadata": {},
   "outputs": [],
   "source": [
    "training_model_conf = {\n",
    "    \"optimizer\": keras.optimizers.Adam(learning_rate=learning_rate),\n",
    "    \"loss\": \"binary_crossentropy\",\n",
    "    \"metrics\": [\"accuracy\"]\n",
    "}"
   ]
  },
  {
   "cell_type": "markdown",
   "metadata": {},
   "source": [
    "## Dataset"
   ]
  },
  {
   "cell_type": "code",
   "execution_count": 5,
   "metadata": {},
   "outputs": [
    {
     "name": "stdout",
     "output_type": "stream",
     "text": [
      "training data with the shape: (2114, 4, 240, 240) (2114, 1, 240, 240)\n",
      "Finished in 308.9605326652527\n"
     ]
    }
   ],
   "source": [
    "st = time.time()\n",
    "x_train, y_train = datagen.get_dataset(batch_size,\n",
    "                                        slices_from, slices_to,\n",
    "                                        file_path='../dataset/', \n",
    "                                        mode='training', \n",
    "                                        tumor_region=None,\n",
    "                                        glioma_type=['HGG', 'LGG'], \n",
    "                                        slices_w_tumor_only=100,\n",
    "                                        slices_w_less_brain=None,\n",
    "                                        image_size=image_size,\n",
    "                                        train_HGG_patients=train_patients) #\n",
    "print(\"Finished in\", time.time() - st)"
   ]
  },
  {
   "cell_type": "code",
   "execution_count": 6,
   "metadata": {},
   "outputs": [],
   "source": [
    "# x_valid, y_valid = datagen.get_dataset(batch_size, \n",
    "#                                        slices_from, slices_to,\n",
    "#                                         file_path='../dataset/', \n",
    "#                                         mode='validation', \n",
    "#                                        tumor_region=3,\n",
    "#                                         glioma_type=['HGG', 'LGG'], \n",
    "#                                         slices_w_tumor_only=False,\n",
    "#                                         slices_w_less_brain=100,\n",
    "#                                         image_size=image_size,\n",
    "#                                         train_HGG_patients=valid_HGG_patients)"
   ]
  },
  {
   "cell_type": "code",
   "execution_count": 7,
   "metadata": {
    "scrolled": true
   },
   "outputs": [
    {
     "name": "stdout",
     "output_type": "stream",
     "text": [
      "10\n"
     ]
    },
    {
     "data": {
      "text/plain": [
       "<matplotlib.image.AxesImage at 0x187eb51bec8>"
      ]
     },
     "execution_count": 7,
     "metadata": {},
     "output_type": "execute_result"
    },
    {
     "data": {
      "image/png": "[encoded data removed]",
      "text/plain": [
       "<Figure size 720x720 with 2 Axes>"
      ]
     },
     "metadata": {
      "needs_background": "light"
     },
     "output_type": "display_data"
    }
   ],
   "source": [
    "i = random.randint(0, 41)\n",
    "i = 10\n",
    "print(i)\n",
    "\n",
    "f, axarr = plt.subplots(1,2, figsize=(10,10))\n",
    "axarr[0].imshow(y_train[i][0])\n",
    "axarr[1].imshow(datagen.convert_labels_eval(y_train, \"enhancing\", image_size)[i][0])\n",
    "\n",
    "\n",
    "# axarr[0].imshow(x_train[i][0])\n",
    "# axarr[1].imshow(x_train[i][1])\n",
    "# axarr[2].imshow(x_train[i][2])\n",
    "# axarr[3].imshow(x_train[i][3])\n",
    "# axarr[4].imshow(y_train[i][0])"
   ]
  },
  {
   "cell_type": "markdown",
   "metadata": {},
   "source": [
    "## Data augmentation"
   ]
  },
  {
   "cell_type": "code",
   "execution_count": 8,
   "metadata": {},
   "outputs": [],
   "source": [
    "AUGMENTATIONS = Compose([\n",
    "    HorizontalFlip(p=0.5),\n",
    "    VerticalFlip(p=0.5),\n",
    "#     Rotate(limit=90, p=0.99),\n",
    "#     RandomGamma(gamma_limit=(80, 120), p=0.25),\n",
    "#     RandomScale(scale_limit=0.1, interpolation=cv2.INTER_NEAREST, p=0.25),\n",
    "#     ElasticTransform(alpha=1, p=0.5),\n",
    "#     OneOf([\n",
    "#         OpticalDistortion(p=0.3),\n",
    "#         GridDistortion(p=0.1),\n",
    "#     ], p=0.2),\n",
    "    OpticalDistortion(p=0.5),\n",
    "    GridDistortion(p=0.5),\n",
    "])"
   ]
  },
  {
   "cell_type": "markdown",
   "metadata": {},
   "source": [
    "## Callbacks"
   ]
  },
  {
   "cell_type": "code",
   "execution_count": 9,
   "metadata": {},
   "outputs": [],
   "source": [
    "class NegativeLoss(keras.callbacks.Callback):\n",
    "    def on_train_begin(self, logs={}):\n",
    "        pass\n",
    "\n",
    "    def on_batch_end(self, batch, logs={}):\n",
    "        if logs.get('loss') < 0:\n",
    "            print(\"\\nEarly stopping for negative loss ({}) at batch {}.\".format(logs.get('loss'), batch))\n",
    "            self.model.stop_training = True\n",
    "\n",
    "callbacks = [\n",
    "    NegativeLoss(),\n",
    "    keras.callbacks.callbacks.TerminateOnNaN(),\n",
    "    keras.callbacks.callbacks.EarlyStopping(monitor='accuracy', \n",
    "                                            min_delta=0.0001, \n",
    "                                            patience=10, \n",
    "                                            verbose=1, \n",
    "                                            mode='auto', \n",
    "                                            baseline=None, \n",
    "                                            restore_best_weights=True),\n",
    "    keras.callbacks.callbacks.ReduceLROnPlateau(factor=0.1, \n",
    "                                                patience=5, \n",
    "                                                min_lr=0.00001, \n",
    "                                                verbose=1),\n",
    "#     keras.callbacks.TensorBoard(log_dir=\"../logs/{}\".format(time.time()))\n",
    "]"
   ]
  },
  {
   "cell_type": "markdown",
   "metadata": {},
   "source": [
    "# Ensemble training"
   ]
  },
  {
   "cell_type": "code",
   "execution_count": 10,
   "metadata": {
    "scrolled": false
   },
   "outputs": [
    {
     "name": "stdout",
     "output_type": "stream",
     "text": [
      "(1409, 4, 240, 240) (705, 4, 240, 240)\n",
      "Training U-Net whole\n",
      "Epoch 1/40\n",
      "202/202 [==============================] - 92s 455ms/step - loss: 0.0429 - accuracy: 0.9915 - val_loss: 0.0423 - val_accuracy: 0.9919\n",
      "Epoch 2/40\n",
      "202/202 [==============================] - 85s 419ms/step - loss: 0.0305 - accuracy: 0.9912 - val_loss: 0.0155 - val_accuracy: 0.9953\n",
      "Epoch 3/40\n",
      "202/202 [==============================] - 86s 423ms/step - loss: 0.0250 - accuracy: 0.9921 - val_loss: 0.0107 - val_accuracy: 0.9965\n",
      "Epoch 4/40\n",
      "202/202 [==============================] - 85s 420ms/step - loss: 0.0219 - accuracy: 0.9928 - val_loss: 0.0091 - val_accuracy: 0.9970\n",
      "Epoch 5/40\n",
      "202/202 [==============================] - 84s 415ms/step - loss: 0.0218 - accuracy: 0.9929 - val_loss: 0.0154 - val_accuracy: 0.9947\n",
      "Epoch 6/40\n",
      "202/202 [==============================] - 84s 416ms/step - loss: 0.0202 - accuracy: 0.9932 - val_loss: 0.0113 - val_accuracy: 0.9968\n",
      "Epoch 7/40\n",
      "202/202 [==============================] - 84s 415ms/step - loss: 0.0187 - accuracy: 0.9936 - val_loss: 0.0089 - val_accuracy: 0.9970\n",
      "Epoch 8/40\n",
      "202/202 [==============================] - 84s 415ms/step - loss: 0.0193 - accuracy: 0.9935 - val_loss: 0.0087 - val_accuracy: 0.9969\n",
      "Epoch 9/40\n",
      "202/202 [==============================] - 84s 414ms/step - loss: 0.0199 - accuracy: 0.9936 - val_loss: 0.0088 - val_accuracy: 0.9971\n",
      "Epoch 10/40\n",
      "202/202 [==============================] - 84s 413ms/step - loss: 0.0180 - accuracy: 0.9938 - val_loss: 0.0077 - val_accuracy: 0.9973\n",
      "Epoch 11/40\n",
      "202/202 [==============================] - 84s 414ms/step - loss: 0.0172 - accuracy: 0.9942 - val_loss: 0.0073 - val_accuracy: 0.9974\n",
      "Epoch 12/40\n",
      "202/202 [==============================] - 84s 417ms/step - loss: 0.0176 - accuracy: 0.9940 - val_loss: 0.0077 - val_accuracy: 0.9974\n",
      "Epoch 13/40\n",
      "202/202 [==============================] - 84s 415ms/step - loss: 0.0177 - accuracy: 0.9939 - val_loss: 0.0097 - val_accuracy: 0.9966\n",
      "Epoch 14/40\n",
      "202/202 [==============================] - 84s 415ms/step - loss: 0.0164 - accuracy: 0.9945 - val_loss: 0.0075 - val_accuracy: 0.9974\n",
      "Epoch 15/40\n",
      "202/202 [==============================] - 84s 416ms/step - loss: 0.0176 - accuracy: 0.9939 - val_loss: 0.0087 - val_accuracy: 0.9973\n",
      "Epoch 16/40\n",
      "202/202 [==============================] - 84s 414ms/step - loss: 0.0150 - accuracy: 0.9947 - val_loss: 0.0068 - val_accuracy: 0.9976\n",
      "Epoch 17/40\n",
      "202/202 [==============================] - 84s 415ms/step - loss: 0.0165 - accuracy: 0.9942 - val_loss: 0.0068 - val_accuracy: 0.9976\n",
      "Epoch 18/40\n",
      "202/202 [==============================] - 85s 422ms/step - loss: 0.0173 - accuracy: 0.9943 - val_loss: 0.0068 - val_accuracy: 0.9975\n",
      "Epoch 19/40\n",
      "202/202 [==============================] - 87s 430ms/step - loss: 0.0150 - accuracy: 0.9947 - val_loss: 0.0062 - val_accuracy: 0.9977\n",
      "Epoch 20/40\n",
      "202/202 [==============================] - 86s 427ms/step - loss: 0.0146 - accuracy: 0.9947 - val_loss: 0.0084 - val_accuracy: 0.9973\n",
      "Epoch 21/40\n",
      "202/202 [==============================] - 84s 417ms/step - loss: 0.0160 - accuracy: 0.9943 - val_loss: 0.0068 - val_accuracy: 0.9976\n",
      "Epoch 22/40\n",
      "202/202 [==============================] - 84s 414ms/step - loss: 0.0145 - accuracy: 0.9949 - val_loss: 0.0074 - val_accuracy: 0.9975\n",
      "Epoch 23/40\n",
      "202/202 [==============================] - 83s 413ms/step - loss: 0.0158 - accuracy: 0.9945 - val_loss: 0.0066 - val_accuracy: 0.9976\n",
      "Epoch 24/40\n",
      "202/202 [==============================] - 84s 415ms/step - loss: 0.0147 - accuracy: 0.9949 - val_loss: 0.0073 - val_accuracy: 0.9976\n",
      "\n",
      "Epoch 00024: ReduceLROnPlateau reducing learning rate to 1e-05.\n",
      "Epoch 25/40\n",
      "202/202 [==============================] - 83s 413ms/step - loss: 0.0137 - accuracy: 0.9950 - val_loss: 0.0062 - val_accuracy: 0.9978\n",
      "Epoch 26/40\n",
      "202/202 [==============================] - 83s 413ms/step - loss: 0.0131 - accuracy: 0.9953 - val_loss: 0.0062 - val_accuracy: 0.9978\n",
      "Epoch 27/40\n",
      "202/202 [==============================] - 84s 415ms/step - loss: 0.0121 - accuracy: 0.9956 - val_loss: 0.0060 - val_accuracy: 0.9979\n",
      "Epoch 28/40\n",
      "202/202 [==============================] - 84s 414ms/step - loss: 0.0130 - accuracy: 0.9952 - val_loss: 0.0058 - val_accuracy: 0.9979\n",
      "Epoch 29/40\n",
      "202/202 [==============================] - 84s 414ms/step - loss: 0.0119 - accuracy: 0.9957 - val_loss: 0.0058 - val_accuracy: 0.9979\n",
      "Epoch 30/40\n",
      "202/202 [==============================] - 85s 421ms/step - loss: 0.0126 - accuracy: 0.9953 - val_loss: 0.0056 - val_accuracy: 0.9979\n",
      "Epoch 31/40\n",
      "202/202 [==============================] - 85s 419ms/step - loss: 0.0124 - accuracy: 0.9954 - val_loss: 0.0058 - val_accuracy: 0.9979\n",
      "Epoch 32/40\n",
      "202/202 [==============================] - 85s 420ms/step - loss: 0.0120 - accuracy: 0.9955 - val_loss: 0.0055 - val_accuracy: 0.9980\n",
      "Epoch 33/40\n",
      "202/202 [==============================] - 84s 418ms/step - loss: 0.0119 - accuracy: 0.9956 - val_loss: 0.0056 - val_accuracy: 0.9980\n",
      "Epoch 34/40\n",
      "202/202 [==============================] - 84s 414ms/step - loss: 0.0119 - accuracy: 0.9957 - val_loss: 0.0055 - val_accuracy: 0.9980\n",
      "Epoch 35/40\n",
      "202/202 [==============================] - 84s 414ms/step - loss: 0.0116 - accuracy: 0.9957 - val_loss: 0.0056 - val_accuracy: 0.9979\n",
      "Epoch 36/40\n",
      "202/202 [==============================] - 84s 414ms/step - loss: 0.0120 - accuracy: 0.9954 - val_loss: 0.0058 - val_accuracy: 0.9979\n",
      "Epoch 37/40\n",
      "202/202 [==============================] - 84s 414ms/step - loss: 0.0117 - accuracy: 0.9957 - val_loss: 0.0054 - val_accuracy: 0.9980\n",
      "Epoch 38/40\n",
      "202/202 [==============================] - 84s 415ms/step - loss: 0.0109 - accuracy: 0.9959 - val_loss: 0.0055 - val_accuracy: 0.9980\n",
      "Epoch 39/40\n",
      "202/202 [==============================] - 85s 420ms/step - loss: 0.0112 - accuracy: 0.9958 - val_loss: 0.0056 - val_accuracy: 0.9980\n",
      "Epoch 40/40\n",
      "202/202 [==============================] - 84s 414ms/step - loss: 0.0113 - accuracy: 0.9958 - val_loss: 0.0055 - val_accuracy: 0.9980\n",
      "(1410, 4, 240, 240) (704, 4, 240, 240)\n",
      "Training U-Net whole\n",
      "Epoch 1/40\n",
      "202/202 [==============================] - 88s 438ms/step - loss: 0.0397 - accuracy: 0.9940 - val_loss: 0.0175 - val_accuracy: 0.9943\n",
      "Epoch 2/40\n",
      "202/202 [==============================] - 84s 416ms/step - loss: 0.0214 - accuracy: 0.9931 - val_loss: 0.0175 - val_accuracy: 0.9943\n",
      "Epoch 3/40\n",
      "202/202 [==============================] - 84s 415ms/step - loss: 0.0178 - accuracy: 0.9939 - val_loss: 0.0157 - val_accuracy: 0.9946\n",
      "Epoch 4/40\n",
      " 87/202 [===========>..................] - ETA: 41s - loss: 0.0190 - accuracy: 0.9936"
     ]
    },
    {
     "ename": "KeyboardInterrupt",
     "evalue": "",
     "output_type": "error",
     "traceback": [
      "\u001b[1;31m---------------------------------------------------------------------------\u001b[0m",
      "\u001b[1;31mKeyboardInterrupt\u001b[0m                         Traceback (most recent call last)",
      "\u001b[1;32m<ipython-input-10-5d4f5fd9b63f>\u001b[0m in \u001b[0;36m<module>\u001b[1;34m\u001b[0m\n\u001b[0;32m     38\u001b[0m                                                                           \u001b[0mepochs\u001b[0m\u001b[1;33m=\u001b[0m\u001b[0mepochs\u001b[0m\u001b[1;33m,\u001b[0m\u001b[1;33m\u001b[0m\u001b[1;33m\u001b[0m\u001b[0m\n\u001b[0;32m     39\u001b[0m                                                                           \u001b[0mshuffle\u001b[0m\u001b[1;33m=\u001b[0m\u001b[1;32mTrue\u001b[0m\u001b[1;33m,\u001b[0m\u001b[1;33m\u001b[0m\u001b[1;33m\u001b[0m\u001b[0m\n\u001b[1;32m---> 40\u001b[1;33m                                                                           callbacks=callbacks)\n\u001b[0m\u001b[0;32m     41\u001b[0m \u001b[1;33m\u001b[0m\u001b[0m\n\u001b[0;32m     42\u001b[0m         \u001b[0mmodels\u001b[0m\u001b[1;33m[\u001b[0m\u001b[0mtumor_region\u001b[0m\u001b[1;33m]\u001b[0m\u001b[1;33m.\u001b[0m\u001b[0msave\u001b[0m\u001b[1;33m(\u001b[0m\u001b[1;34m\"../models/base_d_5_new/{}_ensemble_{}.h5\"\u001b[0m\u001b[1;33m.\u001b[0m\u001b[0mformat\u001b[0m\u001b[1;33m(\u001b[0m\u001b[0mk\u001b[0m\u001b[1;33m,\u001b[0m \u001b[0mtumor_region\u001b[0m\u001b[1;33m)\u001b[0m\u001b[1;33m)\u001b[0m\u001b[1;33m\u001b[0m\u001b[1;33m\u001b[0m\u001b[0m\n",
      "\u001b[1;32m~\\.conda\\envs\\tfgpu\\lib\\site-packages\\keras\\engine\\training.py\u001b[0m in \u001b[0;36mfit\u001b[1;34m(self, x, y, batch_size, epochs, verbose, callbacks, validation_split, validation_data, shuffle, class_weight, sample_weight, initial_epoch, steps_per_epoch, validation_steps, validation_freq, max_queue_size, workers, use_multiprocessing, **kwargs)\u001b[0m\n\u001b[0;32m   1145\u001b[0m                 \u001b[0muse_multiprocessing\u001b[0m\u001b[1;33m=\u001b[0m\u001b[0muse_multiprocessing\u001b[0m\u001b[1;33m,\u001b[0m\u001b[1;33m\u001b[0m\u001b[1;33m\u001b[0m\u001b[0m\n\u001b[0;32m   1146\u001b[0m                 \u001b[0mshuffle\u001b[0m\u001b[1;33m=\u001b[0m\u001b[0mshuffle\u001b[0m\u001b[1;33m,\u001b[0m\u001b[1;33m\u001b[0m\u001b[1;33m\u001b[0m\u001b[0m\n\u001b[1;32m-> 1147\u001b[1;33m                 initial_epoch=initial_epoch)\n\u001b[0m\u001b[0;32m   1148\u001b[0m \u001b[1;33m\u001b[0m\u001b[0m\n\u001b[0;32m   1149\u001b[0m         \u001b[1;31m# Case 2: Symbolic tensors or Numpy array-like.\u001b[0m\u001b[1;33m\u001b[0m\u001b[1;33m\u001b[0m\u001b[1;33m\u001b[0m\u001b[0m\n",
      "\u001b[1;32m~\\.conda\\envs\\tfgpu\\lib\\site-packages\\keras\\legacy\\interfaces.py\u001b[0m in \u001b[0;36mwrapper\u001b[1;34m(*args, **kwargs)\u001b[0m\n\u001b[0;32m     89\u001b[0m                 warnings.warn('Update your `' + object_name + '` call to the ' +\n\u001b[0;32m     90\u001b[0m                               'Keras 2 API: ' + signature, stacklevel=2)\n\u001b[1;32m---> 91\u001b[1;33m             \u001b[1;32mreturn\u001b[0m \u001b[0mfunc\u001b[0m\u001b[1;33m(\u001b[0m\u001b[1;33m*\u001b[0m\u001b[0margs\u001b[0m\u001b[1;33m,\u001b[0m \u001b[1;33m**\u001b[0m\u001b[0mkwargs\u001b[0m\u001b[1;33m)\u001b[0m\u001b[1;33m\u001b[0m\u001b[1;33m\u001b[0m\u001b[0m\n\u001b[0m\u001b[0;32m     92\u001b[0m         \u001b[0mwrapper\u001b[0m\u001b[1;33m.\u001b[0m\u001b[0m_original_function\u001b[0m \u001b[1;33m=\u001b[0m \u001b[0mfunc\u001b[0m\u001b[1;33m\u001b[0m\u001b[1;33m\u001b[0m\u001b[0m\n\u001b[0;32m     93\u001b[0m         \u001b[1;32mreturn\u001b[0m \u001b[0mwrapper\u001b[0m\u001b[1;33m\u001b[0m\u001b[1;33m\u001b[0m\u001b[0m\n",
      "\u001b[1;32m~\\.conda\\envs\\tfgpu\\lib\\site-packages\\keras\\engine\\training.py\u001b[0m in \u001b[0;36mfit_generator\u001b[1;34m(self, generator, steps_per_epoch, epochs, verbose, callbacks, validation_data, validation_steps, validation_freq, class_weight, max_queue_size, workers, use_multiprocessing, shuffle, initial_epoch)\u001b[0m\n\u001b[0;32m   1730\u001b[0m             \u001b[0muse_multiprocessing\u001b[0m\u001b[1;33m=\u001b[0m\u001b[0muse_multiprocessing\u001b[0m\u001b[1;33m,\u001b[0m\u001b[1;33m\u001b[0m\u001b[1;33m\u001b[0m\u001b[0m\n\u001b[0;32m   1731\u001b[0m             \u001b[0mshuffle\u001b[0m\u001b[1;33m=\u001b[0m\u001b[0mshuffle\u001b[0m\u001b[1;33m,\u001b[0m\u001b[1;33m\u001b[0m\u001b[1;33m\u001b[0m\u001b[0m\n\u001b[1;32m-> 1732\u001b[1;33m             initial_epoch=initial_epoch)\n\u001b[0m\u001b[0;32m   1733\u001b[0m \u001b[1;33m\u001b[0m\u001b[0m\n\u001b[0;32m   1734\u001b[0m     \u001b[1;33m@\u001b[0m\u001b[0minterfaces\u001b[0m\u001b[1;33m.\u001b[0m\u001b[0mlegacy_generator_methods_support\u001b[0m\u001b[1;33m\u001b[0m\u001b[1;33m\u001b[0m\u001b[0m\n",
      "\u001b[1;32m~\\.conda\\envs\\tfgpu\\lib\\site-packages\\keras\\engine\\training_generator.py\u001b[0m in \u001b[0;36mfit_generator\u001b[1;34m(model, generator, steps_per_epoch, epochs, verbose, callbacks, validation_data, validation_steps, validation_freq, class_weight, max_queue_size, workers, use_multiprocessing, shuffle, initial_epoch)\u001b[0m\n\u001b[0;32m    218\u001b[0m                                             \u001b[0msample_weight\u001b[0m\u001b[1;33m=\u001b[0m\u001b[0msample_weight\u001b[0m\u001b[1;33m,\u001b[0m\u001b[1;33m\u001b[0m\u001b[1;33m\u001b[0m\u001b[0m\n\u001b[0;32m    219\u001b[0m                                             \u001b[0mclass_weight\u001b[0m\u001b[1;33m=\u001b[0m\u001b[0mclass_weight\u001b[0m\u001b[1;33m,\u001b[0m\u001b[1;33m\u001b[0m\u001b[1;33m\u001b[0m\u001b[0m\n\u001b[1;32m--> 220\u001b[1;33m                                             reset_metrics=False)\n\u001b[0m\u001b[0;32m    221\u001b[0m \u001b[1;33m\u001b[0m\u001b[0m\n\u001b[0;32m    222\u001b[0m                 \u001b[0mouts\u001b[0m \u001b[1;33m=\u001b[0m \u001b[0mto_list\u001b[0m\u001b[1;33m(\u001b[0m\u001b[0mouts\u001b[0m\u001b[1;33m)\u001b[0m\u001b[1;33m\u001b[0m\u001b[1;33m\u001b[0m\u001b[0m\n",
      "\u001b[1;32m~\\.conda\\envs\\tfgpu\\lib\\site-packages\\keras\\engine\\training.py\u001b[0m in \u001b[0;36mtrain_on_batch\u001b[1;34m(self, x, y, sample_weight, class_weight, reset_metrics)\u001b[0m\n\u001b[0;32m   1512\u001b[0m             \u001b[0mins\u001b[0m \u001b[1;33m=\u001b[0m \u001b[0mx\u001b[0m \u001b[1;33m+\u001b[0m \u001b[0my\u001b[0m \u001b[1;33m+\u001b[0m \u001b[0msample_weights\u001b[0m\u001b[1;33m\u001b[0m\u001b[1;33m\u001b[0m\u001b[0m\n\u001b[0;32m   1513\u001b[0m         \u001b[0mself\u001b[0m\u001b[1;33m.\u001b[0m\u001b[0m_make_train_function\u001b[0m\u001b[1;33m(\u001b[0m\u001b[1;33m)\u001b[0m\u001b[1;33m\u001b[0m\u001b[1;33m\u001b[0m\u001b[0m\n\u001b[1;32m-> 1514\u001b[1;33m         \u001b[0moutputs\u001b[0m \u001b[1;33m=\u001b[0m \u001b[0mself\u001b[0m\u001b[1;33m.\u001b[0m\u001b[0mtrain_function\u001b[0m\u001b[1;33m(\u001b[0m\u001b[0mins\u001b[0m\u001b[1;33m)\u001b[0m\u001b[1;33m\u001b[0m\u001b[1;33m\u001b[0m\u001b[0m\n\u001b[0m\u001b[0;32m   1515\u001b[0m \u001b[1;33m\u001b[0m\u001b[0m\n\u001b[0;32m   1516\u001b[0m         \u001b[1;32mif\u001b[0m \u001b[0mreset_metrics\u001b[0m\u001b[1;33m:\u001b[0m\u001b[1;33m\u001b[0m\u001b[1;33m\u001b[0m\u001b[0m\n",
      "\u001b[1;32m~\\.conda\\envs\\tfgpu\\lib\\site-packages\\tensorflow_core\\python\\keras\\backend.py\u001b[0m in \u001b[0;36m__call__\u001b[1;34m(self, inputs)\u001b[0m\n\u001b[0;32m   3733\u001b[0m     return nest.pack_sequence_as(\n\u001b[0;32m   3734\u001b[0m         \u001b[0mself\u001b[0m\u001b[1;33m.\u001b[0m\u001b[0m_outputs_structure\u001b[0m\u001b[1;33m,\u001b[0m\u001b[1;33m\u001b[0m\u001b[1;33m\u001b[0m\u001b[0m\n\u001b[1;32m-> 3735\u001b[1;33m         \u001b[1;33m[\u001b[0m\u001b[0mx\u001b[0m\u001b[1;33m.\u001b[0m\u001b[0m_numpy\u001b[0m\u001b[1;33m(\u001b[0m\u001b[1;33m)\u001b[0m \u001b[1;32mfor\u001b[0m \u001b[0mx\u001b[0m \u001b[1;32min\u001b[0m \u001b[0moutputs\u001b[0m\u001b[1;33m]\u001b[0m\u001b[1;33m,\u001b[0m  \u001b[1;31m# pylint: disable=protected-access\u001b[0m\u001b[1;33m\u001b[0m\u001b[1;33m\u001b[0m\u001b[0m\n\u001b[0m\u001b[0;32m   3736\u001b[0m         expand_composites=True)\n\u001b[0;32m   3737\u001b[0m \u001b[1;33m\u001b[0m\u001b[0m\n",
      "\u001b[1;32m~\\.conda\\envs\\tfgpu\\lib\\site-packages\\tensorflow_core\\python\\keras\\backend.py\u001b[0m in \u001b[0;36m<listcomp>\u001b[1;34m(.0)\u001b[0m\n\u001b[0;32m   3733\u001b[0m     return nest.pack_sequence_as(\n\u001b[0;32m   3734\u001b[0m         \u001b[0mself\u001b[0m\u001b[1;33m.\u001b[0m\u001b[0m_outputs_structure\u001b[0m\u001b[1;33m,\u001b[0m\u001b[1;33m\u001b[0m\u001b[1;33m\u001b[0m\u001b[0m\n\u001b[1;32m-> 3735\u001b[1;33m         \u001b[1;33m[\u001b[0m\u001b[0mx\u001b[0m\u001b[1;33m.\u001b[0m\u001b[0m_numpy\u001b[0m\u001b[1;33m(\u001b[0m\u001b[1;33m)\u001b[0m \u001b[1;32mfor\u001b[0m \u001b[0mx\u001b[0m \u001b[1;32min\u001b[0m \u001b[0moutputs\u001b[0m\u001b[1;33m]\u001b[0m\u001b[1;33m,\u001b[0m  \u001b[1;31m# pylint: disable=protected-access\u001b[0m\u001b[1;33m\u001b[0m\u001b[1;33m\u001b[0m\u001b[0m\n\u001b[0m\u001b[0;32m   3736\u001b[0m         expand_composites=True)\n\u001b[0;32m   3737\u001b[0m \u001b[1;33m\u001b[0m\u001b[0m\n",
      "\u001b[1;32m~\\.conda\\envs\\tfgpu\\lib\\site-packages\\tensorflow_core\\python\\framework\\ops.py\u001b[0m in \u001b[0;36m_numpy\u001b[1;34m(self)\u001b[0m\n\u001b[0;32m    906\u001b[0m     \u001b[1;31m# pylint: disable=protected-access\u001b[0m\u001b[1;33m\u001b[0m\u001b[1;33m\u001b[0m\u001b[1;33m\u001b[0m\u001b[0m\n\u001b[0;32m    907\u001b[0m     \u001b[1;32mtry\u001b[0m\u001b[1;33m:\u001b[0m\u001b[1;33m\u001b[0m\u001b[1;33m\u001b[0m\u001b[0m\n\u001b[1;32m--> 908\u001b[1;33m       \u001b[1;32mreturn\u001b[0m \u001b[0mself\u001b[0m\u001b[1;33m.\u001b[0m\u001b[0m_numpy_internal\u001b[0m\u001b[1;33m(\u001b[0m\u001b[1;33m)\u001b[0m\u001b[1;33m\u001b[0m\u001b[1;33m\u001b[0m\u001b[0m\n\u001b[0m\u001b[0;32m    909\u001b[0m     \u001b[1;32mexcept\u001b[0m \u001b[0mcore\u001b[0m\u001b[1;33m.\u001b[0m\u001b[0m_NotOkStatusException\u001b[0m \u001b[1;32mas\u001b[0m \u001b[0me\u001b[0m\u001b[1;33m:\u001b[0m\u001b[1;33m\u001b[0m\u001b[1;33m\u001b[0m\u001b[0m\n\u001b[0;32m    910\u001b[0m       \u001b[0msix\u001b[0m\u001b[1;33m.\u001b[0m\u001b[0mraise_from\u001b[0m\u001b[1;33m(\u001b[0m\u001b[0mcore\u001b[0m\u001b[1;33m.\u001b[0m\u001b[0m_status_to_exception\u001b[0m\u001b[1;33m(\u001b[0m\u001b[0me\u001b[0m\u001b[1;33m.\u001b[0m\u001b[0mcode\u001b[0m\u001b[1;33m,\u001b[0m \u001b[0me\u001b[0m\u001b[1;33m.\u001b[0m\u001b[0mmessage\u001b[0m\u001b[1;33m)\u001b[0m\u001b[1;33m,\u001b[0m \u001b[1;32mNone\u001b[0m\u001b[1;33m)\u001b[0m\u001b[1;33m\u001b[0m\u001b[1;33m\u001b[0m\u001b[0m\n",
      "\u001b[1;31mKeyboardInterrupt\u001b[0m: "
     ]
    }
   ],
   "source": [
    "models = {}\n",
    "tumor_regions = [\"whole\", \"core\", \"enhancing\"]\n",
    "cv_x_train = np.array_split(x_train, 3)\n",
    "cv_y_train = np.array_split(y_train, 3)\n",
    "\n",
    "time_start = time.time()\n",
    "\n",
    "# Cross validation\n",
    "for k in range(2, 4):\n",
    "\n",
    "    x_v, y_v = cv_x_train[k - 1], cv_y_train[k - 1]\n",
    "    if k-1 == 0:\n",
    "        x_t, y_t = np.concatenate((cv_x_train[1], cv_x_train[2])), np.concatenate((cv_y_train[1], cv_y_train[2]))\n",
    "    elif k-1 == 1:\n",
    "        x_t, y_t = np.concatenate((cv_x_train[0], cv_x_train[2])), np.concatenate((cv_y_train[0], cv_y_train[2]))\n",
    "    else:\n",
    "        x_t, y_t =  np.concatenate((cv_x_train[0], cv_x_train[1])), np.concatenate((cv_y_train[0], cv_y_train[1]))\n",
    "    \n",
    "    print(x_t.shape, x_v.shape)\n",
    "    for tumor_region in [tumor_regions[0]]:\n",
    "\n",
    "        print(\"Training U-Net {}\".format(tumor_region))\n",
    "\n",
    "        # Get and compile model\n",
    "        models[tumor_region] = unet_model_script.UNet(channels, image_size, conf=conf)\n",
    "        models[tumor_region].compile(**training_model_conf)\n",
    "\n",
    "        # Convert mask labels to binary\n",
    "        train_masks = datagen.convert_labels_eval(y_t, tumor_region, image_size)\n",
    "        valid_masks = datagen.convert_labels_eval(y_v, tumor_region, image_size)\n",
    "\n",
    "        # Init datagen w augmentation\n",
    "        train_gen = datagen.AugmentationDatagen(x_t, train_masks, batch_size, AUGMENTATIONS)\n",
    "\n",
    "        # Start training\n",
    "        models[\"hist_{}\".format(tumor_region)] = models[tumor_region].fit(train_gen, \n",
    "                                                                          validation_data=(x_v, valid_masks), \n",
    "                                                                          epochs=epochs, \n",
    "                                                                          shuffle=True, \n",
    "                                                                          callbacks=callbacks)\n",
    "        \n",
    "        models[tumor_region].save(\"../models/base_d_5_new/{}_ensemble_{}.h5\".format(k, tumor_region))\n",
    "\n",
    "print(\"Training time: {}\".format(time.time()-time_start))"
   ]
  },
  {
   "cell_type": "markdown",
   "metadata": {},
   "source": [
    "### Results"
   ]
  },
  {
   "cell_type": "code",
   "execution_count": 12,
   "metadata": {},
   "outputs": [
    {
     "data": {
      "image/png": "[encoded data removed]",
      "text/plain": [
       "<Figure size 432x288 with 1 Axes>"
      ]
     },
     "metadata": {
      "needs_background": "light"
     },
     "output_type": "display_data"
    },
    {
     "data": {
      "image/png": "[encoded data removed]",
      "text/plain": [
       "<Figure size 432x288 with 1 Axes>"
      ]
     },
     "metadata": {
      "needs_background": "light"
     },
     "output_type": "display_data"
    }
   ],
   "source": [
    "tumor_region = \"enhancing\"\n",
    "\n",
    "# Plot training & validation accuracy values\n",
    "plt.plot(models[\"hist_{}\".format(tumor_region)].history['accuracy'])\n",
    "plt.plot(models[\"hist_{}\".format(tumor_region)].history['val_accuracy'])\n",
    "plt.title('Model accuracy')\n",
    "plt.ylabel('Accuracy')\n",
    "plt.xlabel('Epoch')\n",
    "plt.legend(['Train', 'Test'], loc='upper left')\n",
    "plt.show()\n",
    "\n",
    "# Plot training & validation loss values\n",
    "plt.plot(models[\"hist_{}\".format(tumor_region)].history['loss'])\n",
    "plt.plot(models[\"hist_{}\".format(tumor_region)].history['val_loss'])\n",
    "plt.title('Model loss')\n",
    "plt.ylabel('Loss')\n",
    "plt.xlabel('Epoch')\n",
    "plt.legend(['Train', 'Test'], loc='upper left')\n",
    "plt.show()"
   ]
  },
  {
   "cell_type": "code",
   "execution_count": null,
   "metadata": {},
   "outputs": [],
   "source": [
    "p = models[1].predict(x_train, verbose=1)"
   ]
  },
  {
   "cell_type": "code",
   "execution_count": null,
   "metadata": {},
   "outputs": [],
   "source": [
    "y_m = datagen.convert_labels(y_train, tumor_region, image_size)"
   ]
  },
  {
   "cell_type": "code",
   "execution_count": null,
   "metadata": {
    "scrolled": false
   },
   "outputs": [],
   "source": [
    "i = random.randint(0,2000)\n",
    "\n",
    "plt.figure()\n",
    "\n",
    "#subplot(r,c) provide the no. of rows and columns\n",
    "f, axarr = plt.subplots(1,2) \n",
    "\n",
    "# use the created array to output your multiple images. In this case I have stacked 4 images vertically\n",
    "axarr[0].imshow(p[i][0])\n",
    "axarr[1].imshow(y_m[i][0])"
   ]
  },
  {
   "cell_type": "code",
   "execution_count": null,
   "metadata": {},
   "outputs": [],
   "source": [
    "# i = random.randint(0, 50)\n",
    "# i = 3\n",
    "# pred = models[1].predict(np.array([x_valid[i]]), verbose=1)\n",
    "# f, axarr = plt.subplots(1,2, figsize=(10,10))\n",
    "# axarr[0].imshow(y_valid[i][0])\n",
    "# axarr[1].imshow(pred[0][0])"
   ]
  }
 ],
 "metadata": {
  "kernelspec": {
   "display_name": "tfgpu",
   "language": "python",
   "name": "tfgpu"
  },
  "language_info": {
   "codemirror_mode": {
    "name": "ipython",
    "version": 3
   },
   "file_extension": ".py",
   "mimetype": "text/x-python",
   "name": "python",
   "nbconvert_exporter": "python",
   "pygments_lexer": "ipython3",
   "version": "3.7.6"
  }
 },
 "nbformat": 4,
 "nbformat_minor": 4
}
