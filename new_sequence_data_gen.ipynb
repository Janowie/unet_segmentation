{
 "cells": [
  {
   "cell_type": "markdown",
   "metadata": {},
   "source": [
    "# New sequence data generator\n",
    "\n",
    "Depending on the batch size, the sequence data generator returns specified number of slices from each patient."
   ]
  },
  {
   "cell_type": "code",
   "execution_count": 341,
   "metadata": {
    "scrolled": true
   },
   "outputs": [],
   "source": [
    "import tensorflow as tf\n",
    "import keras\n",
    "from keras.callbacks import Callback\n",
    "from keras import backend as K\n",
    "from keras.preprocessing.image import ImageDataGenerator\n",
    "from tensorflow.python.keras.callbacks import TensorBoard\n",
    "\n",
    "import numpy as np\n",
    "import os\n",
    "import SimpleITK as sitka\n",
    "import random\n",
    "import matplotlib.pyplot as plt\n",
    "import importlib\n",
    "\n",
    "import time"
   ]
  },
  {
   "cell_type": "code",
   "execution_count": 342,
   "metadata": {},
   "outputs": [],
   "source": [
    "import datagen\n",
    "import model"
   ]
  },
  {
   "cell_type": "code",
   "execution_count": 343,
   "metadata": {},
   "outputs": [
    {
     "data": {
      "text/plain": [
       "<module 'model' from 'C:\\\\Users\\\\krcma\\\\Desktop\\\\tf_segmentation\\\\unet_segmentation\\\\model.py'>"
      ]
     },
     "execution_count": 343,
     "metadata": {},
     "output_type": "execute_result"
    }
   ],
   "source": [
    "# Reload lib contents\n",
    "importlib.reload(datagen)\n",
    "importlib.reload(model)"
   ]
  },
  {
   "cell_type": "markdown",
   "metadata": {},
   "source": [
    "##  Hyperparemeters"
   ]
  },
  {
   "cell_type": "code",
   "execution_count": 344,
   "metadata": {},
   "outputs": [],
   "source": [
    "train_HGG_patients = 239\n",
    "valid_HGG_patients = 20\n",
    "slices_from_patient = 15\n",
    "image_size = 240\n",
    "channels = 4\n",
    "# learning_rate = 0.0001\n",
    "learning_rate = 5e-1\n",
    "epochs = 25\n",
    "batch_size = 10"
   ]
  },
  {
   "cell_type": "markdown",
   "metadata": {},
   "source": [
    "## Dataset loading"
   ]
  },
  {
   "cell_type": "code",
   "execution_count": 345,
   "metadata": {},
   "outputs": [
    {
     "name": "stdout",
     "output_type": "stream",
     "text": [
      "training data with shape: (3585, 4, 240, 240) (3585, 1, 240, 240)\n"
     ]
    }
   ],
   "source": [
    "x_train, y_train = datagen.get_dataset(slices_from_patient, \n",
    "                file_path='../dataset/', \n",
    "                mode='training', \n",
    "                glioma_type=['HGG'], \n",
    "                tumor_region=-1, \n",
    "                slices_w_tumor_only=False,\n",
    "                slices_w_less_brain=None,\n",
    "                image_size=image_size,\n",
    "                train_HGG_patients=train_HGG_patients)"
   ]
  },
  {
   "cell_type": "code",
   "execution_count": 346,
   "metadata": {},
   "outputs": [
    {
     "name": "stdout",
     "output_type": "stream",
     "text": [
      "validation data with shape: (300, 4, 240, 240) (300, 1, 240, 240)\n"
     ]
    }
   ],
   "source": [
    "x_valid, y_valid = datagen.get_dataset(slices_from_patient, \n",
    "                file_path='../dataset/', \n",
    "                mode='validation', \n",
    "                glioma_type=['HGG'], \n",
    "                tumor_region=-1, \n",
    "                slices_w_tumor_only=False,\n",
    "                slices_w_less_brain=None,\n",
    "                image_size=240,\n",
    "                train_HGG_patients=valid_HGG_patients)"
   ]
  },
  {
   "cell_type": "markdown",
   "metadata": {},
   "source": [
    "## U-Net"
   ]
  },
  {
   "cell_type": "code",
   "execution_count": 347,
   "metadata": {},
   "outputs": [
    {
     "name": "stdout",
     "output_type": "stream",
     "text": [
      "Compiled with input shape (None, 4, 240, 240)\n"
     ]
    }
   ],
   "source": [
    "model = model.UNet(channels, image_size)\n",
    "adam_optimizer = keras.optimizers.Adam(learning_rate=learning_rate, \n",
    "                                       beta_1=0.9, \n",
    "                                       beta_2=0.999)\n",
    "sgd_optimizer = keras.optimizers.SGD(learning_rate=learning_rate, \n",
    "                                     momentum=0.5, \n",
    "                                     nesterov=True)\n",
    "model.compile(optimizer=adam_optimizer,\n",
    "              loss=\"categorical_crossentropy\",\n",
    "              metrics=[\"accuracy\"]\n",
    "             )"
   ]
  },
  {
   "cell_type": "markdown",
   "metadata": {},
   "source": [
    "## Slice  augmentation"
   ]
  },
  {
   "cell_type": "code",
   "execution_count": 358,
   "metadata": {},
   "outputs": [],
   "source": [
    "data_gen_args = dict(data_format=\"channels_first\",\n",
    "#                      fill_mode=\"constant\",\n",
    "#                      cval=0,\n",
    "                     width_shift_range=0.2,\n",
    "                     height_shift_range=0.2,\n",
    "                     rotation_range=20,\n",
    "                     horizontal_flip=True,\n",
    "                     vertical_flip=True)\n",
    "seed = 2048"
   ]
  },
  {
   "cell_type": "code",
   "execution_count": 359,
   "metadata": {},
   "outputs": [],
   "source": [
    "image_datagen = ImageDataGenerator(**data_gen_args)\n",
    "mask_datagen = ImageDataGenerator(**data_gen_args)"
   ]
  },
  {
   "cell_type": "code",
   "execution_count": 360,
   "metadata": {},
   "outputs": [],
   "source": [
    "image_datagen.fit(x_train, augment=True, seed=seed)\n",
    "mask_datagen.fit(y_train, augment=True, seed=seed)"
   ]
  },
  {
   "cell_type": "code",
   "execution_count": 361,
   "metadata": {},
   "outputs": [],
   "source": [
    "x_train_datagen = image_datagen.flow(x_train, batch_size=batch_size, seed=seed)\n",
    "y_train_datagen = mask_datagen.flow(y_train, batch_size=batch_size, seed=seed)"
   ]
  },
  {
   "cell_type": "code",
   "execution_count": 362,
   "metadata": {},
   "outputs": [],
   "source": [
    "datagen = zip(x_train_datagen, y_train_datagen)"
   ]
  },
  {
   "cell_type": "code",
   "execution_count": 363,
   "metadata": {},
   "outputs": [
    {
     "name": "stdout",
     "output_type": "stream",
     "text": [
      "(10, 4, 240, 240)\n"
     ]
    }
   ],
   "source": [
    "for i, v in enumerate(datagen):\n",
    "    if i == 1: break\n",
    "    print(v[0].shape)"
   ]
  },
  {
   "cell_type": "code",
   "execution_count": 364,
   "metadata": {},
   "outputs": [],
   "source": [
    "i = random.randint(0,238)"
   ]
  },
  {
   "cell_type": "code",
   "execution_count": 365,
   "metadata": {},
   "outputs": [
    {
     "name": "stdout",
     "output_type": "stream",
     "text": [
      "Values testing \n",
      "(240, 240)\n",
      "[0.]\n"
     ]
    }
   ],
   "source": [
    "print(\"Values testing \")\n",
    "print(y_train[i][0].shape)\n",
    "print(np.unique(y_train[i][0]))"
   ]
  },
  {
   "cell_type": "code",
   "execution_count": 366,
   "metadata": {},
   "outputs": [
    {
     "name": "stdout",
     "output_type": "stream",
     "text": [
      "Values testing after data augmentation\n",
      "(240, 240)\n",
      "number of unique values 1\n"
     ]
    }
   ],
   "source": [
    "im = y_train_datagen.__getitem__(i)[0][0]\n",
    "print(\"Values testing after data augmentation\")\n",
    "print(im.shape)\n",
    "print(\"number of unique values\", len(np.unique(im)))\n",
    "# print(np.unique(im))"
   ]
  },
  {
   "cell_type": "code",
   "execution_count": 367,
   "metadata": {},
   "outputs": [
    {
     "data": {
      "text/plain": [
       "<matplotlib.image.AxesImage at 0x1fe95e5cd48>"
      ]
     },
     "execution_count": 367,
     "metadata": {},
     "output_type": "execute_result"
    },
    {
     "data": {
      "image/png": "[encoded data removed]",
      "text/plain": [
       "<Figure size 432x288 with 2 Axes>"
      ]
     },
     "metadata": {
      "needs_background": "light"
     },
     "output_type": "display_data"
    }
   ],
   "source": [
    "# i = random.randint(0,238)\n",
    "map_1 = y_train_datagen.__getitem__(i)[0][0]\n",
    "map_1[map_1 == 0] = np.nan\n",
    "map_2 = y_train[i][0]\n",
    "map_2[map_2 == 0] = np.nan\n",
    "\n",
    "f, axarr = plt.subplots(1,2)\n",
    "axarr[0].imshow(x_train_datagen.__getitem__(i)[0][0]) #, cmap='gray', vmin=0\n",
    "axarr[0].imshow(map_1, alpha=0.5)\n",
    "# axarr[1].imshow(x_train[i][0]) #, cmap='gray', vmin=0\n",
    "# axarr[1].imshow(map_2, alpha=0.9)"
   ]
  },
  {
   "cell_type": "markdown",
   "metadata": {},
   "source": [
    "## Callbacks"
   ]
  },
  {
   "cell_type": "code",
   "execution_count": 31,
   "metadata": {},
   "outputs": [],
   "source": [
    "callbacks = [\n",
    "    keras.callbacks.callbacks.TerminateOnNaN(),\n",
    "    keras.callbacks.callbacks.EarlyStopping(monitor='val_loss', \n",
    "                                            min_delta=0.0001, \n",
    "                                            patience=10, \n",
    "                                            verbose=1, \n",
    "                                            mode='auto', \n",
    "                                            baseline=None, \n",
    "                                            restore_best_weights=True)\n",
    "    TensorBoard(log_dir=\"logs/{}\".format(time()))\n",
    "]"
   ]
  },
  {
   "cell_type": "markdown",
   "metadata": {},
   "source": [
    "# Training"
   ]
  },
  {
   "cell_type": "code",
   "execution_count": 33,
   "metadata": {
    "scrolled": false
   },
   "outputs": [
    {
     "name": "stdout",
     "output_type": "stream",
     "text": [
      "Epoch 1/25\n",
      "239/239 [==============================] - 151s 633ms/step - loss: 56.7678 - accuracy: 0.0237 - val_loss: 81.1330 - val_accuracy: 0.0240\n",
      "Epoch 2/25\n",
      "239/239 [==============================] - 150s 627ms/step - loss: 54.1522 - accuracy: 0.0267 - val_loss: 77.6502 - val_accuracy: 0.0179\n",
      "Epoch 3/25\n",
      "239/239 [==============================] - 148s 619ms/step - loss: 53.5299 - accuracy: 0.0322 - val_loss: 80.0883 - val_accuracy: 0.0286\n",
      "Epoch 4/25\n",
      "239/239 [==============================] - 148s 619ms/step - loss: 53.9716 - accuracy: 0.0213 - val_loss: 77.7981 - val_accuracy: 0.0309\n",
      "Epoch 5/25\n",
      "239/239 [==============================] - 149s 621ms/step - loss: 51.6187 - accuracy: 0.0198 - val_loss: 77.4820 - val_accuracy: 0.0096\n",
      "Epoch 6/25\n",
      "239/239 [==============================] - 148s 617ms/step - loss: 54.3820 - accuracy: 0.0212 - val_loss: 78.7108 - val_accuracy: 0.0154\n",
      "Epoch 7/25\n",
      "239/239 [==============================] - 147s 616ms/step - loss: 53.5930 - accuracy: 0.0304 - val_loss: 76.6343 - val_accuracy: 0.0234\n",
      "Epoch 8/25\n",
      "239/239 [==============================] - 147s 617ms/step - loss: 52.4457 - accuracy: 0.0356 - val_loss: 77.1106 - val_accuracy: 0.0244\n",
      "Epoch 9/25\n",
      "239/239 [==============================] - 148s 618ms/step - loss: 53.7034 - accuracy: 0.0371 - val_loss: 76.2962 - val_accuracy: 0.0213\n",
      "Epoch 10/25\n",
      "239/239 [==============================] - 146s 612ms/step - loss: 51.8620 - accuracy: 0.0389 - val_loss: 76.6025 - val_accuracy: 0.0485\n",
      "Epoch 11/25\n",
      "239/239 [==============================] - 146s 611ms/step - loss: 55.2178 - accuracy: 0.0384 - val_loss: 77.2283 - val_accuracy: 0.0283\n",
      "Epoch 12/25\n",
      "239/239 [==============================] - 146s 612ms/step - loss: 51.8161 - accuracy: 0.0429 - val_loss: 76.1901 - val_accuracy: 0.0566\n",
      "Epoch 13/25\n",
      "239/239 [==============================] - 147s 615ms/step - loss: 52.1763 - accuracy: 0.0472 - val_loss: 76.8345 - val_accuracy: 0.0670\n",
      "Epoch 14/25\n",
      "239/239 [==============================] - 147s 616ms/step - loss: 52.8947 - accuracy: 0.0503 - val_loss: 75.8234 - val_accuracy: 0.0484\n",
      "Epoch 15/25\n",
      "239/239 [==============================] - 146s 612ms/step - loss: 52.7919 - accuracy: 0.0525 - val_loss: 76.6639 - val_accuracy: 0.0600\n",
      "Epoch 16/25\n",
      "239/239 [==============================] - 148s 618ms/step - loss: 51.6504 - accuracy: 0.0507 - val_loss: 76.1988 - val_accuracy: 0.0621\n",
      "Epoch 17/25\n",
      "239/239 [==============================] - 150s 626ms/step - loss: 52.0772 - accuracy: 0.1283 - val_loss: 79.3071 - val_accuracy: 0.0622\n",
      "Epoch 18/25\n",
      "239/239 [==============================] - 149s 625ms/step - loss: 54.1918 - accuracy: 0.0534 - val_loss: 77.9333 - val_accuracy: 0.0533\n",
      "Epoch 19/25\n",
      "239/239 [==============================] - 151s 631ms/step - loss: 52.4892 - accuracy: 0.0522 - val_loss: 77.5703 - val_accuracy: 0.0427\n",
      "Epoch 20/25\n",
      "239/239 [==============================] - 150s 627ms/step - loss: 52.5468 - accuracy: 0.0550 - val_loss: 76.0011 - val_accuracy: 0.0648\n",
      "Epoch 21/25\n",
      "239/239 [==============================] - 150s 628ms/step - loss: 52.0228 - accuracy: 0.0497 - val_loss: 76.5122 - val_accuracy: 0.0712\n",
      "Epoch 22/25\n",
      "239/239 [==============================] - 150s 626ms/step - loss: 53.9168 - accuracy: 0.0543 - val_loss: 76.6854 - val_accuracy: 0.0710\n",
      "Epoch 23/25\n",
      "239/239 [==============================] - 149s 624ms/step - loss: 51.6598 - accuracy: 0.0502 - val_loss: 76.8221 - val_accuracy: 0.0445\n",
      "Epoch 24/25\n",
      "239/239 [==============================] - 151s 631ms/step - loss: 51.7754 - accuracy: 0.0912 - val_loss: 75.8860 - val_accuracy: 0.0542\n",
      "Restoring model weights from the end of the best epoch\n",
      "Epoch 00024: early stopping\n"
     ]
    }
   ],
   "source": [
    "train_steps = train_HGG_patients * slice_per_patient\n",
    "valid_steps = valid_HGG_patients * slice_per_patient\n",
    "\n",
    "# hist = model.fit(train_gen, validation_data=valid_gen, steps_per_epoch=train_steps, validation_steps=valid_steps, \n",
    "#                     epochs=epochs, shuffle=True, callbacks=callbacks)\n",
    "\n",
    "# hist = model.fit(x=x_train, y=y_train, validation_data=(x_valid, y_valid), \n",
    "#                     epochs=epochs, callbacks=callbacks, batch_size=batch_size)\n",
    "\n",
    "hist = model.fit_generator(datagen, validation_data=(x_valid, y_valid), steps_per_epoch=train_steps,\n",
    "                    epochs=epochs, callbacks=callbacks)\n",
    "\n",
    "# model.save(\"../models/2020040100.h5\")"
   ]
  },
  {
   "cell_type": "markdown",
   "metadata": {},
   "source": [
    "### Results"
   ]
  },
  {
   "cell_type": "code",
   "execution_count": 34,
   "metadata": {},
   "outputs": [
    {
     "data": {
      "image/png": "[encoded data removed]",
      "text/plain": [
       "<Figure size 432x288 with 1 Axes>"
      ]
     },
     "metadata": {
      "needs_background": "light"
     },
     "output_type": "display_data"
    },
    {
     "data": {
      "image/png": "[encoded data removed]",
      "text/plain": [
       "<Figure size 432x288 with 1 Axes>"
      ]
     },
     "metadata": {
      "needs_background": "light"
     },
     "output_type": "display_data"
    }
   ],
   "source": [
    "# Plot training & validation accuracy values\n",
    "plt.plot(hist.history['accuracy'])\n",
    "plt.plot(hist.history['val_accuracy'])\n",
    "plt.title('Model accuracy')\n",
    "plt.ylabel('Accuracy')\n",
    "plt.xlabel('Epoch')\n",
    "plt.legend(['Train', 'Test'], loc='upper left')\n",
    "plt.show()\n",
    "\n",
    "# Plot training & validation loss values\n",
    "plt.plot(hist.history['loss'])\n",
    "plt.plot(hist.history['val_loss'])\n",
    "plt.title('Model loss')\n",
    "plt.ylabel('Loss')\n",
    "plt.xlabel('Epoch')\n",
    "plt.legend(['Train', 'Test'], loc='upper left')\n",
    "plt.show()"
   ]
  },
  {
   "cell_type": "code",
   "execution_count": 48,
   "metadata": {},
   "outputs": [
    {
     "name": "stdout",
     "output_type": "stream",
     "text": [
      "['__class__', '__delattr__', '__dir__', '__doc__', '__eq__', '__format__', '__ge__', '__getattribute__', '__gt__', '__hash__', '__init__', '__init_subclass__', '__iter__', '__le__', '__lt__', '__ne__', '__new__', '__next__', '__reduce__', '__reduce_ex__', '__repr__', '__setattr__', '__sizeof__', '__str__', '__subclasshook__']\n"
     ]
    },
    {
     "ename": "TypeError",
     "evalue": "'zip' object is not subscriptable",
     "output_type": "error",
     "traceback": [
      "\u001b[1;31m---------------------------------------------------------------------------\u001b[0m",
      "\u001b[1;31mTypeError\u001b[0m                                 Traceback (most recent call last)",
      "\u001b[1;32m<ipython-input-48-2c111897f219>\u001b[0m in \u001b[0;36m<module>\u001b[1;34m\u001b[0m\n\u001b[0;32m      1\u001b[0m \u001b[0mprint\u001b[0m\u001b[1;33m(\u001b[0m\u001b[0mdir\u001b[0m\u001b[1;33m(\u001b[0m\u001b[0mdatagen\u001b[0m\u001b[1;33m)\u001b[0m\u001b[1;33m)\u001b[0m\u001b[1;33m\u001b[0m\u001b[1;33m\u001b[0m\u001b[0m\n\u001b[1;32m----> 2\u001b[1;33m \u001b[0mprint\u001b[0m\u001b[1;33m(\u001b[0m\u001b[0mdatagen\u001b[0m\u001b[1;33m.\u001b[0m\u001b[0m__iter__\u001b[0m\u001b[1;33m(\u001b[0m\u001b[1;33m)\u001b[0m\u001b[1;33m[\u001b[0m\u001b[1;36m0\u001b[0m\u001b[1;33m]\u001b[0m\u001b[1;33m)\u001b[0m\u001b[1;33m\u001b[0m\u001b[1;33m\u001b[0m\u001b[0m\n\u001b[0m\u001b[0;32m      3\u001b[0m \u001b[0mprint\u001b[0m\u001b[1;33m(\u001b[0m\u001b[0mx_valid\u001b[0m\u001b[1;33m.\u001b[0m\u001b[0mshape\u001b[0m\u001b[1;33m)\u001b[0m\u001b[1;33m\u001b[0m\u001b[1;33m\u001b[0m\u001b[0m\n",
      "\u001b[1;31mTypeError\u001b[0m: 'zip' object is not subscriptable"
     ]
    }
   ],
   "source": [
    "print(dir(datagen))\n",
    "print(datagen.__iter__()[0])\n",
    "print(x_valid.shape)"
   ]
  },
  {
   "cell_type": "code",
   "execution_count": 39,
   "metadata": {},
   "outputs": [
    {
     "ename": "NameError",
     "evalue": "name 'pred' is not defined",
     "output_type": "error",
     "traceback": [
      "\u001b[1;31m---------------------------------------------------------------------------\u001b[0m",
      "\u001b[1;31mNameError\u001b[0m                                 Traceback (most recent call last)",
      "\u001b[1;32m<ipython-input-39-99beb111c39e>\u001b[0m in \u001b[0;36m<module>\u001b[1;34m\u001b[0m\n\u001b[0;32m      2\u001b[0m \u001b[0maxarr\u001b[0m\u001b[1;33m[\u001b[0m\u001b[1;36m0\u001b[0m\u001b[1;33m]\u001b[0m\u001b[1;33m.\u001b[0m\u001b[0mimshow\u001b[0m\u001b[1;33m(\u001b[0m\u001b[0mx_valid\u001b[0m\u001b[1;33m[\u001b[0m\u001b[1;36m0\u001b[0m\u001b[1;33m]\u001b[0m\u001b[1;33m[\u001b[0m\u001b[1;36m0\u001b[0m\u001b[1;33m]\u001b[0m\u001b[1;33m)\u001b[0m \u001b[1;31m#, cmap='gray', vmin=0\u001b[0m\u001b[1;33m\u001b[0m\u001b[1;33m\u001b[0m\u001b[0m\n\u001b[0;32m      3\u001b[0m \u001b[0maxarr\u001b[0m\u001b[1;33m[\u001b[0m\u001b[1;36m1\u001b[0m\u001b[1;33m]\u001b[0m\u001b[1;33m.\u001b[0m\u001b[0mimshow\u001b[0m\u001b[1;33m(\u001b[0m\u001b[0my_valid\u001b[0m\u001b[1;33m[\u001b[0m\u001b[1;36m0\u001b[0m\u001b[1;33m]\u001b[0m\u001b[1;33m[\u001b[0m\u001b[1;36m0\u001b[0m\u001b[1;33m]\u001b[0m\u001b[1;33m)\u001b[0m \u001b[1;31m#, cmap='gray', vmin=0\u001b[0m\u001b[1;33m\u001b[0m\u001b[1;33m\u001b[0m\u001b[0m\n\u001b[1;32m----> 4\u001b[1;33m \u001b[0maxarr\u001b[0m\u001b[1;33m[\u001b[0m\u001b[1;36m2\u001b[0m\u001b[1;33m]\u001b[0m\u001b[1;33m.\u001b[0m\u001b[0mimshow\u001b[0m\u001b[1;33m(\u001b[0m\u001b[0mpred\u001b[0m\u001b[1;33m[\u001b[0m\u001b[1;36m0\u001b[0m\u001b[1;33m]\u001b[0m\u001b[1;33m[\u001b[0m\u001b[1;36m0\u001b[0m\u001b[1;33m]\u001b[0m\u001b[1;33m)\u001b[0m \u001b[1;31m#, cmap='gray', vmin=0\u001b[0m\u001b[1;33m\u001b[0m\u001b[1;33m\u001b[0m\u001b[0m\n\u001b[0m",
      "\u001b[1;31mNameError\u001b[0m: name 'pred' is not defined"
     ]
    },
    {
     "data": {
      "image/png": "[encoded data removed]",
      "text/plain": [
       "<Figure size 432x288 with 3 Axes>"
      ]
     },
     "metadata": {
      "needs_background": "light"
     },
     "output_type": "display_data"
    }
   ],
   "source": [
    "f, axarr = plt.subplots(1,3)\n",
    "axarr[0].imshow(x_valid[0][0]) #, cmap='gray', vmin=0\n",
    "axarr[1].imshow(y_valid[0][0]) #, cmap='gray', vmin=0\n",
    "axarr[2].imshow(pred[0][0]) #, cmap='gray', vmin=0"
   ]
  }
 ],
 "metadata": {
  "kernelspec": {
   "display_name": "tfgpu",
   "language": "python",
   "name": "tfgpu"
  },
  "language_info": {
   "codemirror_mode": {
    "name": "ipython",
    "version": 3
   },
   "file_extension": ".py",
   "mimetype": "text/x-python",
   "name": "python",
   "nbconvert_exporter": "python",
   "pygments_lexer": "ipython3",
   "version": "3.7.6"
  }
 },
 "nbformat": 4,
 "nbformat_minor": 4
}
