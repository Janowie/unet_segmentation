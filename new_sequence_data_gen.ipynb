{
 "cells": [
  {
   "cell_type": "markdown",
   "metadata": {},
   "source": [
    "# New sequence data generator\n",
    "\n",
    "Depending on the batch size, the sequence data generator returns specified number of slices from each patient."
   ]
  },
  {
   "cell_type": "code",
   "execution_count": 202,
   "metadata": {
    "scrolled": true
   },
   "outputs": [],
   "source": [
    "import tensorflow as tf\n",
    "import keras\n",
    "from keras.callbacks import Callback\n",
    "from keras import backend as K\n",
    "\n",
    "import numpy as np\n",
    "import os\n",
    "import SimpleITK as sitka\n",
    "import random\n",
    "import matplotlib.pyplot as plt"
   ]
  },
  {
   "cell_type": "markdown",
   "metadata": {},
   "source": [
    "##  Hyperparemeters"
   ]
  },
  {
   "cell_type": "code",
   "execution_count": 203,
   "metadata": {},
   "outputs": [],
   "source": [
    "train_HGG_patients = 239\n",
    "valid_HGG_patients = 20\n",
    "image_size = 240\n",
    "channels = 4\n",
    "learning_rate = 5e-4\n",
    "epochs = 200\n",
    "batch_size = 10"
   ]
  },
  {
   "cell_type": "markdown",
   "metadata": {},
   "source": [
    "## SequenceDataGenerator\n",
    "\n",
    "The `SequenceDataGenerator` returns desired number of tensors (based on the batch\\_size) as numpy array, where each tensor consists of 4 channels, each representing one of the imaging sequences acquired for every patient.\n",
    "\n",
    "### Methods\n",
    "`__init__` method initializes the _dir\\_path array_ with all patients directories, based on inputs _mode_ and _glioma\\_type_. \n",
    "\n",
    "`__normalise__` takes a tensor and normalises the brain region on each channel individually\n",
    "\n",
    "`__get_images_masks__` loopes through directories and creates tensors\n",
    "\n",
    "### Tumor regions and their codes\n",
    "all: -1, edema: 1, non-enhancing: 2, enhancing: 3, necrosis: 4"
   ]
  },
  {
   "cell_type": "code",
   "execution_count": 206,
   "metadata": {},
   "outputs": [],
   "source": [
    "class SequenceDataGenerator(keras.utils.Sequence):\n",
    "\n",
    "    def __init__(self, \n",
    "                 batch_size, \n",
    "                 file_path='../dataset/', \n",
    "                 mode='training', \n",
    "                 glioma_type=['HGG'], \n",
    "                 tumor_region=-1, \n",
    "                 random_slices=False, \n",
    "                 slices_w_tumor_only=False,\n",
    "                 slices_w_less_brain=None):\n",
    "        \n",
    "        self.dir_paths = []\n",
    "        for glioma in glioma_type:\n",
    "            for directory in os.listdir(file_path + mode + \"/\" + glioma):\n",
    "                self.dir_paths.append(os.path.join(file_path, mode, glioma, directory))\n",
    "        self.mode = mode\n",
    "        self.batch_size = batch_size\n",
    "        self.tumor_region = tumor_region\n",
    "        self.random_slices = random_slices\n",
    "        self.slices_w_tumor_only = slices_w_tumor_only\n",
    "        self.slices_w_less_brain = slices_w_less_brain\n",
    "\n",
    "    def __len__(self):\n",
    "        return int(np.ceil(len(self.dir_paths) / float(self.batch_size)))\n",
    "    \n",
    "    def __get_image_array__(self, file_path):\n",
    "            return sitka.GetArrayFromImage(sitka.ReadImage(file_path, sitka.sitkFloat32))\n",
    "    \n",
    "    def __normalise__(self, tensor):\n",
    "\n",
    "        for idx_channel, channel in enumerate(tensor):\n",
    "\n",
    "            b_rows, b_cols = np.nonzero(channel.astype(bool))\n",
    "            brain_values = []\n",
    "            for coords in zip(b_rows, b_cols):\n",
    "                y, x = coords\n",
    "                brain_values.append(channel[y][x])\n",
    "            brain = np.array(brain_values)\n",
    "\n",
    "            if np.count_nonzero(brain): # only normalise slices with a brain region\n",
    "                b_mean = brain.mean()\n",
    "                b_std = brain.std()\n",
    "                if b_mean and b_std:\n",
    "                    brain = (brain - b_mean) / b_std\n",
    "\n",
    "            channel = np.zeros((image_size, image_size)) # Reset background\n",
    "            for idx,coords in enumerate(zip(b_rows, b_cols)):\n",
    "                y, x = coords\n",
    "                channel[y, x] = brain[idx]\n",
    "            \n",
    "            tensor[idx_channel] = channel\n",
    "            \n",
    "        return tensor\n",
    "    \n",
    "    def __select_tumor_region__(self, mask):\n",
    "        if self.tumor_region != -1: # only apply if specific labels are requested\n",
    "            for i, channel in enumerate(mask):\n",
    "                mask[i][mask[i] >= self.tumor_region] = self.tumor_region\n",
    "                mask[i][mask[i] < self.tumor_region] = 0\n",
    "        return mask\n",
    "    \n",
    "    def __get_slice_idxs_w_tumor(self, mask, num):     \n",
    "        mask_idxs = []\n",
    "        slice_offset = 40\n",
    "        for i, s in enumerate(mask[slice_offset:]):\n",
    "            if np.count_nonzero(s > 0) > self.slices_w_tumor_only:\n",
    "                mask_idxs.append(i + slice_offset)\n",
    "            if len(mask_idxs) == num:\n",
    "                return mask_idxs\n",
    "\n",
    "    def __get_images_masks__(self, patient_dir, batch_size):\n",
    "        \n",
    "        imaging_sequence_sufixes = [\"_flair.nii\", \"_t1.nii\", \"_t1ce.nii\", \"_t2.nii\"]\n",
    "        mask_sufix = \"_seg.nii\"\n",
    "        num_slices_per_image = 159\n",
    "        # Slices with expected high ratio of brain campared with its background\n",
    "        slices_from = 60\n",
    "        slices_to = 100\n",
    "        \n",
    "        # Declare and initialize numpy arrays to return\n",
    "        tensor = np.zeros((batch_size, len(imaging_sequence_sufixes), 240, 240))\n",
    "        mask = np.zeros((batch_size, 1, 240, 240))\n",
    "        \n",
    "        # Open patients images\n",
    "        mask_img = self.__get_image_array__(patient_dir + \"/\" + patient_dir[patient_dir.rfind('\\\\') + 1:] + mask_sufix)\n",
    "        tensors = []\n",
    "        for sufix in imaging_sequence_sufixes:\n",
    "            tensors.append(self.__get_image_array__(patient_dir + \"/\" + patient_dir[patient_dir.rfind('\\\\') + 1:] + sufix))\n",
    "        \n",
    "        # Create field to iterate through\n",
    "        slice_indexes = None\n",
    "        if self.random_slices:\n",
    "            slice_indexes = np.random.choice(range(slices_from, slices_to), self.batch_size, replace=False)\n",
    "        else:\n",
    "            # Fill numpy arrays with desired number of slices from patients images\n",
    "            slice_indexes = list(range(int(num_slices_per_image / 2 - batch_size / 2), int(num_slices_per_image / 2 + batch_size / 2)))\n",
    "        \n",
    "        # include slices with less brain - picks 2 or given number of slices from range 30-60 and (or) 100-120\n",
    "        if self.slices_w_less_brain:\n",
    "            if type(self.slices_w_less_brain) == int and self.slices_w_less_brain > 0:\n",
    "                for i in range(self.slices_w_less_brain):\n",
    "                    slice_indexes[i] = random.randint(*random.choice([(slices_from-20, slices_from), (slices_to, slices_to+20)]))\n",
    "        \n",
    "        # if selected, replace all slices without tumor with slices that contain tumor\n",
    "        if self.slices_w_tumor_only and self.mode == \"training\":\n",
    "            indexes_w_tumor = self.__get_slice_idxs_w_tumor(mask_img, len(slice_indexes))\n",
    "            for i, slice_i in enumerate(slice_indexes):\n",
    "                if np.count_nonzero(mask_img[slice_i] > 0) < self.slices_w_tumor_only:\n",
    "                    slice_indexes[i] = indexes_w_tumor[i]\n",
    "            slice_indexes = indexes_w_tumor\n",
    "        \n",
    "        # Loop through slice indexes and fill values in to the \"to be returned\" tensor\n",
    "        for final_tensor_i, slice_i in enumerate(slice_indexes):\n",
    "            for tensors_i in range(len(imaging_sequence_sufixes)):\n",
    "                tensor[final_tensor_i][tensors_i] = tensors[tensors_i][slice_i]\n",
    "        \n",
    "            mask[final_tensor_i] = mask_img[slice_i]\n",
    "            \n",
    "            # Normalise tensor\n",
    "            tensor[final_tensor_i] = self.__normalise__(tensor[final_tensor_i])\n",
    "            \n",
    "        return tensor, mask\n",
    "\n",
    "    def __getitem__(self, idx):\n",
    "        \n",
    "        patient_dir = self.dir_paths[idx:idx + 1] \n",
    "        return self.__get_images_masks__(patient_dir[0], self.batch_size)"
   ]
  },
  {
   "cell_type": "markdown",
   "metadata": {},
   "source": [
    "TEST"
   ]
  },
  {
   "cell_type": "code",
   "execution_count": 207,
   "metadata": {
    "scrolled": true
   },
   "outputs": [
    {
     "name": "stdout",
     "output_type": "stream",
     "text": [
      "(10, 4, 240, 240) (10, 1, 240, 240)\n"
     ]
    }
   ],
   "source": [
    "gen = SequenceDataGenerator(batch_size=batch_size, mode=\"training\", tumor_region=-1, random_slices=True, slices_w_tumor_only=500, slices_w_less_brain=2)\n",
    "x, y = gen.__getitem__(152)\n",
    "print(x.shape, y.shape)"
   ]
  },
  {
   "cell_type": "code",
   "execution_count": 208,
   "metadata": {},
   "outputs": [
    {
     "data": {
      "text/plain": [
       "<matplotlib.image.AxesImage at 0x228524dce88>"
      ]
     },
     "execution_count": 208,
     "metadata": {},
     "output_type": "execute_result"
    },
    {
     "data": {
      "image/png": "[encoded data removed]",
      "text/plain": [
       "<Figure size 432x288 with 2 Axes>"
      ]
     },
     "metadata": {
      "needs_background": "light"
     },
     "output_type": "display_data"
    }
   ],
   "source": [
    "fig = plt.figure()\n",
    "fig.subplots_adjust(hspace=0.4, wspace=0.4)\n",
    "ax = fig.add_subplot(1, 2, 1)\n",
    "ax.imshow(x[0][3])\n",
    "ax = fig.add_subplot(1, 2, 2)\n",
    "ax.imshow(y[0][0])"
   ]
  },
  {
   "cell_type": "markdown",
   "metadata": {},
   "source": [
    "## U-Net"
   ]
  },
  {
   "cell_type": "code",
   "execution_count": 209,
   "metadata": {},
   "outputs": [],
   "source": [
    "def conv_relu_block(input_tensor, num_of_filters):\n",
    "\n",
    "    conv_relu = keras.layers.Conv2D(activation='relu',\n",
    "                                    filters=num_of_filters,\n",
    "                                    kernel_size=(3, 3),\n",
    "                                    strides=1,\n",
    "                                    padding='same',\n",
    "                                    data_format='channels_first')(input_tensor)\n",
    "    conv_relu = keras.layers.Conv2D(activation='relu',\n",
    "                                    filters=num_of_filters,\n",
    "                                    kernel_size=(3, 3),\n",
    "                                    strides=1,\n",
    "                                    padding='same',\n",
    "                                    data_format='channels_first')(conv_relu)\n",
    "\n",
    "    return conv_relu"
   ]
  },
  {
   "cell_type": "code",
   "execution_count": 210,
   "metadata": {},
   "outputs": [],
   "source": [
    "def max_pool(input_tensor):\n",
    "    return keras.layers.MaxPooling2D(pool_size=(2, 2),\n",
    "                                     strides=None,\n",
    "                                     padding='same',\n",
    "                                     data_format='channels_first')(input_tensor)"
   ]
  },
  {
   "cell_type": "code",
   "execution_count": 211,
   "metadata": {},
   "outputs": [],
   "source": [
    "def up_sample(input_tensor, encode_input_tensor):\n",
    "    us = keras.layers.UpSampling2D(size=(2, 2),\n",
    "                                   data_format='channels_first')(input_tensor)\n",
    "    concat = keras.layers.Concatenate(axis=1)(inputs=[us, encode_input_tensor])\n",
    "    return concat"
   ]
  },
  {
   "cell_type": "code",
   "execution_count": 212,
   "metadata": {},
   "outputs": [],
   "source": [
    "def UNet():\n",
    "\n",
    "    filters = [1, 64, 128, 256, 512, 1024]\n",
    "\n",
    "    input_data = keras.layers.Input(shape=(channels, image_size, image_size))\n",
    "    \n",
    "    print(input_data.shape)\n",
    "\n",
    "    # encode\n",
    "    cr1 = conv_relu_block(input_data, filters[1])\n",
    "    md1 = max_pool(cr1)\n",
    "    cr2 = conv_relu_block(md1, filters[2])\n",
    "    md2 = max_pool(cr2)\n",
    "    cr3 = conv_relu_block(md2, filters[3])\n",
    "    md3 = max_pool(cr3)\n",
    "    cr4 = conv_relu_block(md3, filters[4])\n",
    "    md4 = max_pool(cr4)\n",
    "\n",
    "    # bottom\n",
    "    cr5 = conv_relu_block(md4, filters[5])\n",
    "\n",
    "    # decode\n",
    "    us1 = up_sample(cr5, cr4)\n",
    "    cr6 = conv_relu_block(us1, filters[4])\n",
    "    us2 = up_sample(cr6, cr3)\n",
    "    cr7 = conv_relu_block(us2, filters[3])\n",
    "    us3 = up_sample(cr7, cr2)\n",
    "    cr8 = conv_relu_block(us3, filters[2])\n",
    "    us4 = up_sample(cr8, cr1)\n",
    "    cr9 = conv_relu_block(us4, filters[1])\n",
    "\n",
    "    output_data = keras.layers.Conv2D(filters=filters[0],\n",
    "                                      kernel_size=(1, 1),\n",
    "                                      padding=\"same\",\n",
    "                                      activation=\"sigmoid\",\n",
    "                                      data_format='channels_first')(cr9)\n",
    "\n",
    "    model = keras.models.Model(input_data,\n",
    "                               output_data,\n",
    "                               name=\"UNet\")\n",
    "\n",
    "    return model"
   ]
  },
  {
   "cell_type": "code",
   "execution_count": 243,
   "metadata": {},
   "outputs": [
    {
     "name": "stdout",
     "output_type": "stream",
     "text": [
      "(None, 4, 240, 240)\n"
     ]
    }
   ],
   "source": [
    "model = UNet()\n",
    "adam_optimizer = keras.optimizers.Adam(learning_rate=learning_rate)\n",
    "model.compile(optimizer=adam_optimizer,\n",
    "              loss=\"categorical_crossentropy\",\n",
    "              metrics=[\"accuracy\"]\n",
    "             )"
   ]
  },
  {
   "cell_type": "code",
   "execution_count": 244,
   "metadata": {},
   "outputs": [],
   "source": [
    "callbacks = [\n",
    "    keras.callbacks.callbacks.EarlyStopping(monitor='val_loss', min_delta=0.0001, patience=25, verbose=1, mode='auto', baseline=None, restore_best_weights=True)\n",
    "]"
   ]
  },
  {
   "cell_type": "code",
   "execution_count": 215,
   "metadata": {
    "scrolled": false
   },
   "outputs": [
    {
     "name": "stdout",
     "output_type": "stream",
     "text": [
      "Epoch 1/200\n",
      "239/239 [==============================] - 357s 1s/step - loss: 51.9835 - accuracy: 0.0490 - val_loss: 33.6567 - val_accuracy: 0.0044\n",
      "Epoch 2/200\n",
      "239/239 [==============================] - 357s 1s/step - loss: 47.2410 - accuracy: 0.0571 - val_loss: 22.5237 - val_accuracy: 0.0058\n",
      "Epoch 3/200\n",
      "239/239 [==============================] - 355s 1s/step - loss: 49.0491 - accuracy: 0.1030 - val_loss: 32.5217 - val_accuracy: 0.0264\n",
      "Epoch 4/200\n",
      "239/239 [==============================] - 355s 1s/step - loss: 47.7468 - accuracy: 0.0469 - val_loss: 23.6542 - val_accuracy: 0.0296\n",
      "Epoch 5/200\n",
      "239/239 [==============================] - 369s 2s/step - loss: 46.6549 - accuracy: 0.0419 - val_loss: 30.8519 - val_accuracy: 0.0173\n",
      "Epoch 6/200\n",
      "239/239 [==============================] - 355s 1s/step - loss: 30.6329 - accuracy: 0.3179 - val_loss: 7.7466e-07 - val_accuracy: 0.7234\n",
      "Epoch 7/200\n",
      "239/239 [==============================] - 351s 1s/step - loss: 1.5569e-06 - accuracy: 0.7711 - val_loss: 8.8687e-07 - val_accuracy: 0.7263\n",
      "Epoch 8/200\n",
      "239/239 [==============================] - 351s 1s/step - loss: 1.5527e-06 - accuracy: 0.7719 - val_loss: 7.3642e-07 - val_accuracy: 0.7204\n",
      "Epoch 9/200\n",
      "239/239 [==============================] - 350s 1s/step - loss: 1.5598e-06 - accuracy: 0.7708 - val_loss: 1.1070e-06 - val_accuracy: 0.7236\n",
      "Epoch 10/200\n",
      "239/239 [==============================] - 351s 1s/step - loss: 1.5399e-06 - accuracy: 0.7727 - val_loss: 7.8748e-07 - val_accuracy: 0.7176\n",
      "Epoch 11/200\n",
      "239/239 [==============================] - 349s 1s/step - loss: 1.5592e-06 - accuracy: 0.7712 - val_loss: 1.0031e-06 - val_accuracy: 0.7114\n",
      "Epoch 12/200\n",
      "239/239 [==============================] - 350s 1s/step - loss: 1.5553e-06 - accuracy: 0.7712 - val_loss: 1.0149e-06 - val_accuracy: 0.7225\n",
      "Epoch 13/200\n",
      "239/239 [==============================] - 352s 1s/step - loss: 1.5566e-06 - accuracy: 0.7723 - val_loss: 1.0761e-06 - val_accuracy: 0.7321\n",
      "Epoch 14/200\n",
      "239/239 [==============================] - 346s 1s/step - loss: 1.5534e-06 - accuracy: 0.7709 - val_loss: 1.0674e-06 - val_accuracy: 0.7200\n",
      "Epoch 15/200\n",
      "239/239 [==============================] - 347s 1s/step - loss: 1.5569e-06 - accuracy: 0.7710 - val_loss: 7.4441e-07 - val_accuracy: 0.7244\n",
      "Epoch 16/200\n",
      "239/239 [==============================] - 346s 1s/step - loss: 1.5467e-06 - accuracy: 0.7733 - val_loss: 8.2046e-07 - val_accuracy: 0.7197\n",
      "Epoch 17/200\n",
      "239/239 [==============================] - 350s 1s/step - loss: 1.5538e-06 - accuracy: 0.7710 - val_loss: 7.8658e-07 - val_accuracy: 0.7215\n",
      "Epoch 18/200\n",
      "239/239 [==============================] - 347s 1s/step - loss: 1.5570e-06 - accuracy: 0.7714 - val_loss: 1.0386e-06 - val_accuracy: 0.7206\n",
      "Epoch 19/200\n",
      "239/239 [==============================] - 347s 1s/step - loss: 1.5551e-06 - accuracy: 0.7714 - val_loss: 8.9347e-07 - val_accuracy: 0.7163\n",
      "Epoch 20/200\n",
      "239/239 [==============================] - 346s 1s/step - loss: 1.5559e-06 - accuracy: 0.7705 - val_loss: 8.0809e-07 - val_accuracy: 0.7302\n",
      "Epoch 21/200\n",
      "239/239 [==============================] - 347s 1s/step - loss: 1.5437e-06 - accuracy: 0.7730 - val_loss: 5.8919e-07 - val_accuracy: 0.7252\n",
      "Epoch 22/200\n",
      "239/239 [==============================] - 347s 1s/step - loss: 1.5639e-06 - accuracy: 0.7712 - val_loss: 7.2052e-07 - val_accuracy: 0.7270\n",
      "Epoch 23/200\n",
      "239/239 [==============================] - 347s 1s/step - loss: 1.5527e-06 - accuracy: 0.7713 - val_loss: 9.9391e-07 - val_accuracy: 0.7213\n",
      "Epoch 24/200\n",
      "239/239 [==============================] - 349s 1s/step - loss: 1.5530e-06 - accuracy: 0.7717 - val_loss: 9.1707e-07 - val_accuracy: 0.7208\n",
      "Epoch 25/200\n",
      "239/239 [==============================] - 342s 1s/step - loss: 1.5523e-06 - accuracy: 0.7715 - val_loss: 8.2965e-07 - val_accuracy: 0.7185\n",
      "Epoch 26/200\n",
      "239/239 [==============================] - 357s 1s/step - loss: 1.5579e-06 - accuracy: 0.7713 - val_loss: 1.2572e-06 - val_accuracy: 0.7115\n",
      "Epoch 27/200\n",
      "239/239 [==============================] - 354s 1s/step - loss: 1.5529e-06 - accuracy: 0.7720 - val_loss: 1.0994e-06 - val_accuracy: 0.7240\n",
      "Epoch 28/200\n",
      "239/239 [==============================] - 353s 1s/step - loss: 1.5602e-06 - accuracy: 0.7709 - val_loss: 1.2632e-06 - val_accuracy: 0.7192\n",
      "Epoch 29/200\n",
      "239/239 [==============================] - 352s 1s/step - loss: 1.5437e-06 - accuracy: 0.7719 - val_loss: 6.6325e-07 - val_accuracy: 0.7221\n",
      "Epoch 30/200\n",
      "239/239 [==============================] - 350s 1s/step - loss: 1.5610e-06 - accuracy: 0.7716 - val_loss: 9.8005e-07 - val_accuracy: 0.7220\n",
      "Epoch 31/200\n",
      "239/239 [==============================] - 351s 1s/step - loss: 1.5524e-06 - accuracy: 0.7714 - val_loss: 1.1443e-06 - val_accuracy: 0.7268\n",
      "Restoring model weights from the end of the best epoch\n",
      "Epoch 00031: early stopping\n"
     ]
    }
   ],
   "source": [
    "train_gen = SequenceDataGenerator(batch_size=batch_size, \n",
    "                                  mode=\"training\", \n",
    "                                  random_slices=None, \n",
    "                                  slices_w_less_brain=None, \n",
    "                                  slices_w_tumor_only=500)\n",
    "valid_gen = SequenceDataGenerator(batch_size=batch_size, \n",
    "                                  mode=\"validation\",\n",
    "                                  random_slices=None, \n",
    "                                  slices_w_less_brain=None, \n",
    "                                  Sslices_w_tumor_only=500)\n",
    "\n",
    "train_steps = train_HGG_patients\n",
    "valid_steps = valid_HGG_patients\n",
    "\n",
    "hist = model.fit(train_gen, validation_data=valid_gen, steps_per_epoch=train_steps, validation_steps=valid_steps, \n",
    "                    epochs=epochs, shuffle=True, callbacks=callbacks)\n",
    "\n",
    "model.save(\"../models/2020032600.h5\")"
   ]
  },
  {
   "cell_type": "code",
   "execution_count": 242,
   "metadata": {
    "scrolled": true
   },
   "outputs": [
    {
     "name": "stdout",
     "output_type": "stream",
     "text": [
      "[33.65667724609375, 22.523740768432617, 32.521697998046875, 23.654186248779297, 30.85188865661621, 7.746617711745785e-07, 8.86867610461195e-07, 7.364155294453667e-07, 1.106957824958954e-06, 7.874767788962345e-07, 1.0031463943960262e-06, 1.0149183253815863e-06, 1.0760627446870785e-06, 1.0674200439098058e-06, 7.444124889843806e-07, 8.204581263271393e-07, 7.865828024478105e-07, 1.038611117110122e-06, 8.934737252275227e-07, 8.080900784079859e-07, 5.891919840905757e-07, 7.205209726635076e-07, 9.93907633528579e-07, 9.170673251901462e-07, 8.296472060465021e-07, 1.2571614433909417e-06, 1.0994078820658615e-06, 1.2631716117539327e-06, 6.632507734138926e-07, 9.800495490708272e-07, 1.1443099765529041e-06]\n"
     ]
    }
   ],
   "source": [
    "print(hist.history['val_loss'])"
   ]
  },
  {
   "cell_type": "markdown",
   "metadata": {},
   "source": [
    "### Results"
   ]
  },
  {
   "cell_type": "code",
   "execution_count": 216,
   "metadata": {},
   "outputs": [
    {
     "data": {
      "image/png": "[encoded data removed]",
      "text/plain": [
       "<Figure size 432x288 with 1 Axes>"
      ]
     },
     "metadata": {
      "needs_background": "light"
     },
     "output_type": "display_data"
    },
    {
     "data": {
      "image/png": "[encoded data removed]",
      "text/plain": [
       "<Figure size 432x288 with 1 Axes>"
      ]
     },
     "metadata": {
      "needs_background": "light"
     },
     "output_type": "display_data"
    }
   ],
   "source": [
    "# Plot training & validation accuracy values\n",
    "plt.plot(hist.history['accuracy'])\n",
    "plt.plot(hist.history['val_accuracy'])\n",
    "plt.title('Model accuracy')\n",
    "plt.ylabel('Accuracy')\n",
    "plt.xlabel('Epoch')\n",
    "plt.legend(['Train', 'Test'], loc='upper left')\n",
    "plt.show()\n",
    "\n",
    "# Plot training & validation loss values\n",
    "plt.plot(hist.history['loss'])\n",
    "plt.plot(hist.history['val_loss'])\n",
    "plt.title('Model loss')\n",
    "plt.ylabel('Loss')\n",
    "plt.xlabel('Epoch')\n",
    "plt.legend(['Train', 'Test'], loc='upper left')\n",
    "plt.show()"
   ]
  },
  {
   "cell_type": "code",
   "execution_count": 239,
   "metadata": {},
   "outputs": [],
   "source": [
    "x, y = valid_gen.__getitem__(random.randint(0, 19))\n",
    "pred = model.predict(x)"
   ]
  },
  {
   "cell_type": "code",
   "execution_count": 240,
   "metadata": {},
   "outputs": [
    {
     "data": {
      "text/plain": [
       "<matplotlib.image.AxesImage at 0x2285445a1c8>"
      ]
     },
     "execution_count": 240,
     "metadata": {},
     "output_type": "execute_result"
    },
    {
     "data": {
      "image/png": "[encoded data removed]",
      "text/plain": [
       "<Figure size 432x288 with 3 Axes>"
      ]
     },
     "metadata": {
      "needs_background": "light"
     },
     "output_type": "display_data"
    }
   ],
   "source": [
    "f, axarr = plt.subplots(1,3)\n",
    "axarr[0].imshow(x[0][0]) #, cmap='gray', vmin=0\n",
    "axarr[1].imshow(y[0][0]) #, cmap='gray', vmin=0\n",
    "axarr[2].imshow(pred[0][0]) #, cmap='gray', vmin=0"
   ]
  },
  {
   "cell_type": "code",
   "execution_count": 80,
   "metadata": {},
   "outputs": [],
   "source": [
    "model.save(\"../models/2020032501.h5\")"
   ]
  }
 ],
 "metadata": {
  "kernelspec": {
   "display_name": "tfgpu",
   "language": "python",
   "name": "tfgpu"
  },
  "language_info": {
   "codemirror_mode": {
    "name": "ipython",
    "version": 3
   },
   "file_extension": ".py",
   "mimetype": "text/x-python",
   "name": "python",
   "nbconvert_exporter": "python",
   "pygments_lexer": "ipython3",
   "version": "3.7.6"
  }
 },
 "nbformat": 4,
 "nbformat_minor": 4
}
