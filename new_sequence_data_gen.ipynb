{
 "cells": [
  {
   "cell_type": "markdown",
   "metadata": {},
   "source": [
    "# U-Net Brain Tumor Segmentation"
   ]
  },
  {
   "cell_type": "code",
   "execution_count": 1,
   "metadata": {
    "scrolled": true
   },
   "outputs": [
    {
     "name": "stderr",
     "output_type": "stream",
     "text": [
      "Using TensorFlow backend.\n"
     ]
    }
   ],
   "source": [
    "import tensorflow as tf\n",
    "import keras\n",
    "from keras.callbacks import Callback\n",
    "from keras import backend as K\n",
    "from keras.preprocessing.image import ImageDataGenerator\n",
    "from tensorflow.python.keras.callbacks import TensorBoard\n",
    "\n",
    "import numpy as np\n",
    "import os\n",
    "import SimpleITK as sitka\n",
    "import random\n",
    "import matplotlib.pyplot as plt\n",
    "import importlib\n",
    "\n",
    "import time\n",
    "\n",
    "# Data augmentation\n",
    "import cv2\n",
    "from albumentations import (\n",
    "    Compose, HorizontalFlip, VerticalFlip, CLAHE, HueSaturationValue,\n",
    "    RandomBrightness, RandomContrast, RandomGamma,\n",
    "    ToFloat, ShiftScaleRotate, ElasticTransform, Rotate, RandomScale, GridDistortion, OpticalDistortion, OneOf\n",
    ")"
   ]
  },
  {
   "cell_type": "code",
   "execution_count": 2,
   "metadata": {},
   "outputs": [],
   "source": [
    "import datagen\n",
    "import model as unet_model_script"
   ]
  },
  {
   "cell_type": "code",
   "execution_count": 3,
   "metadata": {},
   "outputs": [
    {
     "data": {
      "text/plain": [
       "<module 'model' from 'C:\\\\Users\\\\krcma\\\\Desktop\\\\tf_segmentation\\\\unet_segmentation\\\\model.py'>"
      ]
     },
     "execution_count": 3,
     "metadata": {},
     "output_type": "execute_result"
    }
   ],
   "source": [
    "# Reload lib contents\n",
    "importlib.reload(datagen)\n",
    "importlib.reload(unet_model_script)"
   ]
  },
  {
   "cell_type": "markdown",
   "metadata": {},
   "source": [
    "##  Hyperparemeters"
   ]
  },
  {
   "cell_type": "code",
   "execution_count": 4,
   "metadata": {},
   "outputs": [],
   "source": [
    "train_HGG_patients = 239\n",
    "valid_HGG_patients = 20\n",
    "slices_from_patient = 15\n",
    "image_size = 240\n",
    "channels = 4\n",
    "learning_rate = 1e-4 # 0.0001\n",
    "# learning_rate = 5e-1 # 0.5\n",
    "epochs = 250\n",
    "batch_size = 8\n",
    "dropout = False # 0.5\n",
    "batch_norm = False"
   ]
  },
  {
   "cell_type": "markdown",
   "metadata": {},
   "source": [
    "## Dataset"
   ]
  },
  {
   "cell_type": "code",
   "execution_count": 5,
   "metadata": {},
   "outputs": [
    {
     "name": "stdout",
     "output_type": "stream",
     "text": [
      "training data with shape: (3585, 4, 240, 240) (3585, 1, 240, 240)\n"
     ]
    }
   ],
   "source": [
    "x_train, y_train = datagen.get_dataset(slices_from_patient, \n",
    "                file_path='../dataset/', \n",
    "                mode='training', \n",
    "                glioma_type=['HGG'], \n",
    "                tumor_region=-1, \n",
    "                slices_w_tumor_only=500,\n",
    "                slices_w_less_brain=None,\n",
    "                image_size=image_size,\n",
    "                train_HGG_patients=train_HGG_patients)"
   ]
  },
  {
   "cell_type": "code",
   "execution_count": 6,
   "metadata": {},
   "outputs": [
    {
     "name": "stdout",
     "output_type": "stream",
     "text": [
      "validation data with shape: (300, 4, 240, 240) (300, 1, 240, 240)\n"
     ]
    }
   ],
   "source": [
    "x_valid, y_valid = datagen.get_dataset(slices_from_patient, \n",
    "                file_path='../dataset/', \n",
    "                mode='validation', \n",
    "                glioma_type=['HGG'], \n",
    "                tumor_region=-1, \n",
    "                slices_w_tumor_only=False,\n",
    "                slices_w_less_brain=None,\n",
    "                image_size=240,\n",
    "                train_HGG_patients=valid_HGG_patients)"
   ]
  },
  {
   "cell_type": "markdown",
   "metadata": {},
   "source": [
    "## Model (U-Net)"
   ]
  },
  {
   "cell_type": "markdown",
   "metadata": {},
   "source": [
    "### Optimizers"
   ]
  },
  {
   "cell_type": "code",
   "execution_count": 7,
   "metadata": {},
   "outputs": [],
   "source": [
    "adam_optimizer = keras.optimizers.Adam(learning_rate=learning_rate, \n",
    "                                       beta_1=0.9, \n",
    "                                       beta_2=0.999)\n",
    "sgd_optimizer = keras.optimizers.SGD(learning_rate=learning_rate, \n",
    "                                     momentum=0.5, \n",
    "                                     nesterov=True)"
   ]
  },
  {
   "cell_type": "markdown",
   "metadata": {},
   "source": [
    "### Loses"
   ]
  },
  {
   "cell_type": "code",
   "execution_count": 8,
   "metadata": {},
   "outputs": [],
   "source": [
    "def focal_loss(gamma=2., alpha=.25):\n",
    "    '''\n",
    "    Focal loss adapts the standard Cross entropy (CE) to deal with extreme foreground-background class imbalance, \n",
    "    where the loss assigned to well-classified examples is reduced.\n",
    "    \n",
    "    (source: https://medium.com/@junma11/loss-functions-for-medical-image-segmentation-a-taxonomy-cefa5292eec0)\n",
    "    '''\n",
    "    def focal_loss_fixed(y_true, y_pred):\n",
    "        pt_1 = tf.where(tf.equal(y_true, 1), y_pred, tf.ones_like(y_pred))\n",
    "        pt_0 = tf.where(tf.equal(y_true, 0), y_pred, tf.zeros_like(y_pred))        \n",
    "        \n",
    "#         return -K.mean(alpha * K.pow(1. - pt_1, gamma) * K.log(pt_1)) - K.mean((1 - alpha) * K.pow(pt_0, gamma) * K.log(1. - pt_0))\n",
    "        return -K.mean(alpha * K.pow(1. - pt_1, gamma) * K.log(tf.clip_by_value(pt_1, 1e-20, 1e20))) - K.mean((1 - alpha) * K.pow(pt_0, gamma) * K.log(tf.clip_by_value(1. - pt_0, 1e-20, 1e20)))\n",
    "    return focal_loss_fixed\n",
    "\n",
    "\n",
    "def dice_loss(y_true, y_pred):\n",
    "    numerator = 2 * tf.reduce_sum(y_true * y_pred, axis=-1)\n",
    "    denominator = tf.reduce_sum(y_true + y_pred, axis=-1)\n",
    "\n",
    "    return 1 - (numerator + 1) / (denominator + 1)\n",
    "\n",
    "def de_cce_loss(y_true, y_pred):\n",
    "    \"\"\"\n",
    "    Combination of Dice Loss and Cross Entropy\n",
    "    \n",
    "    (source: https://lars76.github.io/neural-networks/object-detection/losses-for-segmentation/)\n",
    "    \"\"\"\n",
    "    def dice_loss(y_true, y_pred):\n",
    "        numerator = 2 * tf.reduce_sum(y_true * y_pred, axis=(1,2,3))\n",
    "        denominator = tf.reduce_sum(y_true + y_pred, axis=(1,2,3))\n",
    "\n",
    "        return tf.reshape(1 - numerator / denominator, (-1, 1, 1))\n",
    "\n",
    "    return keras.losses.crossentropy(y_true, y_pred) + dice_loss(y_true, y_pred)\n",
    "\n",
    "def de_focal_loss(y_true, y_pred):\n",
    "    \"\"\"\n",
    "    Combination of Dice Loss and Cross Entropy\n",
    "    \n",
    "    (source: https://lars76.github.io/neural-networks/object-detection/losses-for-segmentation/)\n",
    "    \"\"\"\n",
    "    def dice_loss(y_true, y_pred):\n",
    "        numerator = 2 * tf.reduce_sum(y_true * y_pred, axis=(1,2,3))\n",
    "        denominator = tf.reduce_sum(y_true + y_pred, axis=(1,2,3))\n",
    "\n",
    "        return tf.reshape(1 - numerator / denominator, (-1, 1, 1))\n",
    "    \n",
    "    def focal_loss_fixed(y_true, y_pred):\n",
    "        gamma=2.\n",
    "        alpha=.25\n",
    "        pt_1 = tf.where(tf.equal(y_true, 1), y_pred, tf.ones_like(y_pred))\n",
    "        pt_0 = tf.where(tf.equal(y_true, 0), y_pred, tf.zeros_like(y_pred))        \n",
    "        \n",
    "#         return -K.mean(alpha * K.pow(1. - pt_1, gamma) * K.log(pt_1)) - K.mean((1 - alpha) * K.pow(pt_0, gamma) * K.log(1. - pt_0))\n",
    "        return -K.mean(alpha * K.pow(1. - pt_1, gamma) * K.log(tf.clip_by_value(pt_1, 1e-20, 1e20))) - K.mean((1 - alpha) * K.pow(pt_0, gamma) * K.log(tf.clip_by_value(1. - pt_0, 1e-20, 1e20)))\n",
    "\n",
    "    return focal_loss_fixed(y_true, y_pred) + dice_loss(y_true, y_pred)"
   ]
  },
  {
   "cell_type": "code",
   "execution_count": 9,
   "metadata": {},
   "outputs": [
    {
     "name": "stdout",
     "output_type": "stream",
     "text": [
      "args: 4 240 False False\n",
      "Compiled with input shape (None, 4, 240, 240) -- sigmoid\n"
     ]
    }
   ],
   "source": [
    "model = unet_model_script.UNet(channels, image_size, dropout, batch_norm)\n",
    "model.compile(optimizer=adam_optimizer,\n",
    "              loss=dice_loss, # \"categorical_crossentropy\"\n",
    "              metrics=[\"accuracy\"]\n",
    "             )"
   ]
  },
  {
   "cell_type": "code",
   "execution_count": 10,
   "metadata": {},
   "outputs": [],
   "source": [
    "AUGMENTATIONS = Compose([\n",
    "    HorizontalFlip(p=0.5),\n",
    "    VerticalFlip(p=0.5),\n",
    "#     Rotate(limit=90, p=0.99),\n",
    "#     RandomGamma(gamma_limit=(80, 120), p=0.25),\n",
    "#     RandomScale(scale_limit=0.1, interpolation=cv2.INTER_NEAREST, p=0.25),\n",
    "#     ElasticTransform(alpha=1, p=0.5),\n",
    "#     OneOf([\n",
    "#         OpticalDistortion(p=0.3),\n",
    "#         GridDistortion(p=0.1),\n",
    "#     ], p=0.2),\n",
    "    OpticalDistortion(p=0.5),\n",
    "    GridDistortion(p=0.5),\n",
    "])"
   ]
  },
  {
   "cell_type": "code",
   "execution_count": 11,
   "metadata": {},
   "outputs": [],
   "source": [
    "class Datagen(keras.utils.Sequence):\n",
    "    def __init__(self, x_set, y_set, batch_size, augmentations):\n",
    "        self.x, self.y = x_set, y_set\n",
    "        self.x_aug, self.y_aug = x_set, y_set\n",
    "        self.batch_size = batch_size\n",
    "        self.augment = augmentations\n",
    "\n",
    "    def __len__(self):\n",
    "        return int(np.ceil(len(self.x) / float(self.batch_size)))\n",
    "\n",
    "    def __getitem__(self, idx):\n",
    "        \n",
    "        batch_x = np.array(self.x_aug[idx * self.batch_size:(idx + 1) * self.batch_size])\n",
    "        batch_y = np.array(self.y_aug[idx * self.batch_size:(idx + 1) * self.batch_size])            \n",
    "        return batch_x, batch_y\n",
    "    \n",
    "    def on_epoch_end(self):\n",
    "        data_x = []\n",
    "        data_y = []\n",
    "        \n",
    "        if self.augment:\n",
    "            for img, mask in zip(self.x, self.y):\n",
    "                \n",
    "                if np.count_nonzero(mask): # Final control if mask contains tumor labels\n",
    "                    \n",
    "                    try:\n",
    "                        augmented = self.augment(image=img, mask=mask)\n",
    "#                         print(\"Test print\", img.shape, mask.shape)\n",
    "                    except Exception as e:\n",
    "#                         print(e)\n",
    "                        f, axarr = plt.subplots(1,2)\n",
    "                        axarr[0].imshow(img[0]) #, cmap='gray', vmin=0\n",
    "                        axarr[1].imshow(mask[0], alpha=1)\n",
    "                    data_x.append(augmented[\"image\"])\n",
    "                    data_y.append(augmented[\"mask\"])\n",
    "                else:\n",
    "                    data_x.append(img)\n",
    "                    data_y.append(mask)\n",
    "        else:\n",
    "            data_x, data_y = selg.x_aug, selg.y_aug\n",
    "            \n",
    "        self.x_aug = np.array(data_x)\n",
    "        self.y_aug = np.array(data_y)"
   ]
  },
  {
   "cell_type": "code",
   "execution_count": 12,
   "metadata": {},
   "outputs": [],
   "source": [
    "train_gen = Datagen(x_train, y_train, batch_size, AUGMENTATIONS)"
   ]
  },
  {
   "cell_type": "code",
   "execution_count": 13,
   "metadata": {},
   "outputs": [
    {
     "name": "stdout",
     "output_type": "stream",
     "text": [
      "Mask values: [0. 1. 2. 4.]\n",
      "(240, 240) (240, 240)\n"
     ]
    },
    {
     "data": {
      "text/plain": [
       "<matplotlib.image.AxesImage at 0x2a97b355f08>"
      ]
     },
     "execution_count": 13,
     "metadata": {},
     "output_type": "execute_result"
    },
    {
     "data": {
      "image/png": "[encoded data removed]",
      "text/plain": [
       "<Figure size 432x288 with 2 Axes>"
      ]
     },
     "metadata": {
      "needs_background": "light"
     },
     "output_type": "display_data"
    }
   ],
   "source": [
    "i = random.randint(0,238)\n",
    "foo_x, foo_y = train_gen.__getitem__(i)\n",
    "im = foo_x[0][0]\n",
    "m = foo_y[0][0]\n",
    "\n",
    "print(\"Mask values:\", np.unique(m))\n",
    "\n",
    "print(im.shape, m.shape)\n",
    "m[m == 0] = np.nan\n",
    "\n",
    "f, axarr = plt.subplots(1,2)\n",
    "axarr[0].imshow(im)\n",
    "axarr[1].imshow(m, alpha=1)"
   ]
  },
  {
   "cell_type": "markdown",
   "metadata": {},
   "source": [
    "- 4 U-Nety, paralelne pocitanie, fuzovanie vystupov do jedneho..\n",
    "- pripadne skusit zretazit U-Nety priamo, treba osetrit LOSS Funkciou\n",
    "- trenovanie --> skusit zastavit az Early stopom \n",
    "- do prace: systematicky vyhodnotit experimenty, ktore sa uvedu do prace.\n",
    "\n",
    "------ vybrat si hyperparametre, ktore sa budu vyhodnocovat, na nich to nechat dlho trenovat a tieto experimenty budeme vyhodnocovat. Z toho vyjde zaver, co je najlepsia moznost"
   ]
  },
  {
   "cell_type": "markdown",
   "metadata": {},
   "source": [
    "## Callbacks"
   ]
  },
  {
   "cell_type": "code",
   "execution_count": 14,
   "metadata": {},
   "outputs": [],
   "source": [
    "callbacks = [\n",
    "    keras.callbacks.callbacks.TerminateOnNaN(),\n",
    "    keras.callbacks.callbacks.EarlyStopping(monitor='accuracy', \n",
    "                                            min_delta=0.0001, \n",
    "                                            patience=100, \n",
    "                                            verbose=1, \n",
    "                                            mode='auto', \n",
    "                                            baseline=None, \n",
    "                                            restore_best_weights=True),\n",
    "#     TensorBoard(log_dir=\"logs/{}\".format(time()))\n",
    "]"
   ]
  },
  {
   "cell_type": "markdown",
   "metadata": {},
   "source": [
    "# Training"
   ]
  },
  {
   "cell_type": "code",
   "execution_count": null,
   "metadata": {
    "scrolled": false
   },
   "outputs": [
    {
     "name": "stdout",
     "output_type": "stream",
     "text": [
      "Epoch 1/4000\n",
      " 90/449 [=====>........................] - ETA: 8:59 - loss: 0.3207 - accuracy: 0.6568"
     ]
    }
   ],
   "source": [
    "train_steps = train_HGG_patients * slices_from_patient\n",
    "valid_steps = valid_HGG_patients * slices_from_patient\n",
    "\n",
    "hist = model.fit(train_gen, validation_data=(x_valid, y_valid), epochs=4000, shuffle=True, callbacks=callbacks)\n",
    "\n",
    "# hist = model.fit(x=x_train, y=y_train, validation_data=(x_valid, y_valid), \n",
    "#                     epochs=epochs, callbacks=callbacks, batch_size=batch_size)\n",
    "\n",
    "# hist = model.fit_generator(train_gen, validation_data=(x_valid, y_valid), steps_per_epoch=train_steps,\n",
    "#                     epochs=epochs, callbacks=callbacks)\n",
    "\n",
    "# model.save(\"../models/2020040100.h5\")"
   ]
  },
  {
   "cell_type": "markdown",
   "metadata": {},
   "source": [
    "### Results"
   ]
  },
  {
   "cell_type": "code",
   "execution_count": null,
   "metadata": {},
   "outputs": [],
   "source": [
    "# Plot training & validation accuracy values\n",
    "plt.plot(hist.history['accuracy'])\n",
    "plt.plot(hist.history['val_accuracy'])\n",
    "plt.title('Model accuracy')\n",
    "plt.ylabel('Accuracy')\n",
    "plt.xlabel('Epoch')\n",
    "plt.legend(['Train', 'Test'], loc='upper left')\n",
    "plt.show()\n",
    "\n",
    "# Plot training & validation loss values\n",
    "plt.plot(hist.history['loss'])\n",
    "plt.plot(hist.history['val_loss'])\n",
    "plt.title('Model loss')\n",
    "plt.ylabel('Loss')\n",
    "plt.xlabel('Epoch')\n",
    "plt.legend(['Train', 'Test'], loc='upper left')\n",
    "plt.show()"
   ]
  },
  {
   "cell_type": "code",
   "execution_count": null,
   "metadata": {},
   "outputs": [],
   "source": [
    "pred = model.predict(x_valid, verbose=1)"
   ]
  },
  {
   "cell_type": "code",
   "execution_count": null,
   "metadata": {},
   "outputs": [],
   "source": [
    "i = random.randint(0, 238)\n",
    "f, axarr = plt.subplots(1,3)\n",
    "axarr[0].imshow(x_valid[i][0]) #, cmap='gray', vmin=0\n",
    "axarr[1].imshow(y_valid[i][0]) #, cmap='gray', vmin=0\n",
    "axarr[2].imshow(pred[i][0]) #, cmap='gray', vmin=0"
   ]
  }
 ],
 "metadata": {
  "kernelspec": {
   "display_name": "tfgpu",
   "language": "python",
   "name": "tfgpu"
  },
  "language_info": {
   "codemirror_mode": {
    "name": "ipython",
    "version": 3
   },
   "file_extension": ".py",
   "mimetype": "text/x-python",
   "name": "python",
   "nbconvert_exporter": "python",
   "pygments_lexer": "ipython3",
   "version": "3.7.6"
  }
 },
 "nbformat": 4,
 "nbformat_minor": 4
}
