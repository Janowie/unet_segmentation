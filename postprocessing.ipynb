{
 "cells": [
  {
   "cell_type": "code",
   "execution_count": 1,
   "metadata": {},
   "outputs": [
    {
     "name": "stderr",
     "output_type": "stream",
     "text": [
      "Using TensorFlow backend.\n"
     ]
    }
   ],
   "source": [
    "import numpy as np\n",
    "import tensorflow as tf\n",
    "import keras\n",
    "from keras import backend as K\n",
    "import cv2\n",
    "import datagen\n",
    "import ensemble_functions\n",
    "import model as unet_model_script\n",
    "import random\n",
    "import matplotlib.pyplot as plt\n",
    "import importlib\n",
    "from sklearn.metrics import classification_report, roc_curve, precision_recall_curve"
   ]
  },
  {
   "cell_type": "code",
   "execution_count": 2,
   "metadata": {
    "scrolled": true
   },
   "outputs": [
    {
     "data": {
      "text/plain": [
       "<module 'ensemble_functions' from 'C:\\\\Users\\\\krcma\\\\Desktop\\\\tf_segmentation\\\\unet_segmentation\\\\ensemble_functions.py'>"
      ]
     },
     "execution_count": 2,
     "metadata": {},
     "output_type": "execute_result"
    }
   ],
   "source": [
    "importlib.reload(datagen)\n",
    "importlib.reload(unet_model_script)\n",
    "importlib.reload(ensemble_functions)"
   ]
  },
  {
   "cell_type": "code",
   "execution_count": 3,
   "metadata": {},
   "outputs": [],
   "source": [
    "image_size = 240\n",
    "num_slices = 155"
   ]
  },
  {
   "cell_type": "code",
   "execution_count": null,
   "metadata": {},
   "outputs": [],
   "source": [
    "ensemble_functions.evaluate_ensemble(\"../models/2020051001/\", \"3_ensemble\", 10, image_size, 0.8, 1)"
   ]
  },
  {
   "cell_type": "markdown",
   "metadata": {},
   "source": [
    "# Image postprocessing"
   ]
  },
  {
   "cell_type": "markdown",
   "metadata": {},
   "source": [
    "-- min, max chyba, std, mean pre kazdeho pacienta\n",
    "-- skusit hybat prah 0.5 na 0.45 0.55\n",
    "-- vyhodnotit: base, base + dropout(0.5), base + dropout(0.2), \n",
    "-- skusit uzavriet regiony a porovnat chyby\n",
    "-- postprocessing -- uzatvara diery v segmentacii. Da sa to d obinaru, zoberie sa vonkajsia kontura.. (openCV"
   ]
  },
  {
   "cell_type": "markdown",
   "metadata": {},
   "source": [
    "-- spravne vyfarbit jednotlive kategorie + pridat legendu, aby bolo jasne vidno co kam patri\n",
    "-- zvyraznit hustotu tkaniva \n",
    "\n",
    "-- vyhodnotit pomocou cisel hlavne\n",
    "-- pridat vizualizacie, aby sa lahsie vysvetlovali vystupy,"
   ]
  },
  {
   "cell_type": "code",
   "execution_count": 4,
   "metadata": {},
   "outputs": [],
   "source": [
    "x_val, y_val = datagen.get_whole_patient(number=1, \n",
    "                  file_path='../dataset/', \n",
    "                  mode='test', \n",
    "                  glioma_type=['HGG'], \n",
    "                  image_size=240                     \n",
    "                )"
   ]
  },
  {
   "cell_type": "code",
   "execution_count": 5,
   "metadata": {},
   "outputs": [
    {
     "name": "stdout",
     "output_type": "stream",
     "text": [
      "Loading model ../models/2020051001/1_ensemble_1.h5\n",
      "Loading model ../models/2020051001/1_ensemble_2.h5\n",
      "Loading model ../models/2020051001/1_ensemble_3.h5\n",
      "Loading model ../models/2020051001/1_ensemble_4.h5\n"
     ]
    }
   ],
   "source": [
    "models = ensemble_functions.get_models(\"../models/2020051001/\", \"1_ensemble\", 1, 4, verbose=1)"
   ]
  },
  {
   "cell_type": "code",
   "execution_count": 6,
   "metadata": {},
   "outputs": [
    {
     "name": "stdout",
     "output_type": "stream",
     "text": [
      "Model 1 predictions\n",
      "155/155 [==============================] - 8s 50ms/step\n",
      "Model 2 predictions\n",
      "155/155 [==============================] - 2s 13ms/step\n",
      "Model 3 predictions\n",
      "155/155 [==============================] - 2s 13ms/step\n",
      "Model 4 predictions\n",
      "155/155 [==============================] - 2s 13ms/step\n"
     ]
    }
   ],
   "source": [
    "predictions = ensemble_functions.get_predictions(models, x_val[0], 1, 4, verbose=1)"
   ]
  },
  {
   "cell_type": "code",
   "execution_count": 7,
   "metadata": {},
   "outputs": [],
   "source": [
    "final_mask = ensemble_functions.create_mask(predictions, num_slices, image_size, p=0.8)"
   ]
  },
  {
   "cell_type": "code",
   "execution_count": 8,
   "metadata": {},
   "outputs": [
    {
     "name": "stdout",
     "output_type": "stream",
     "text": [
      "(1, 1, 155, 1, 240, 240) (1, 155, 4, 240, 240) (155, 1, 240, 240) (155, 1, 240, 240)\n"
     ]
    }
   ],
   "source": [
    "print(y_val.shape, x_val.shape, predictions[1].shape, final_mask.shape)"
   ]
  },
  {
   "cell_type": "code",
   "execution_count": 16,
   "metadata": {},
   "outputs": [
    {
     "name": "stdout",
     "output_type": "stream",
     "text": [
      "[0. 1. 2. 3. 4.]\n",
      "[0. 1. 2. 4.]\n"
     ]
    },
    {
     "data": {
      "text/plain": [
       "<matplotlib.image.AxesImage at 0x1d4f7e0ce48>"
      ]
     },
     "execution_count": 16,
     "metadata": {},
     "output_type": "execute_result"
    },
    {
     "data": {
      "image/png": "[encoded data removed]",
      "text/plain": [
       "<Figure size 720x720 with 3 Axes>"
      ]
     },
     "metadata": {
      "needs_background": "light"
     },
     "output_type": "display_data"
    }
   ],
   "source": [
    "pslice = random.randint(60, 100)\n",
    "# # i=76\n",
    "print(np.unique(final_mask[pslice]))\n",
    "print(np.unique(y_val[0][0][pslice]))\n",
    "\n",
    "# # Plot\n",
    "f, axarr = plt.subplots(1,3, figsize=(10,10))\n",
    "axarr[0].imshow(final_mask[pslice][0])\n",
    "axarr[1].imshow(y_val[0][0][pslice][0])\n",
    "axarr[2].imshow(x_val[0][pslice][0])"
   ]
  },
  {
   "cell_type": "code",
   "execution_count": null,
   "metadata": {},
   "outputs": [],
   "source": [
    "# tumor_region = 1\n",
    "\n",
    "# fpr, tpr, thresholds = roc_curve(np.matrix.flatten(datagen.convert_labels(y_val[0][0], tumor_region, image_size)), \n",
    "#                                  np.matrix.flatten(predictions[tumor_region]))\n",
    "# # calculate the g-mean for each threshold\n",
    "# gmeans = np.sqrt(tpr * (1-fpr))\n",
    "# # locate the index of the largest g-mean\n",
    "# ix = np.argmax(gmeans)\n",
    "# print('Best Threshold=%f, G-Mean=%.3f' % (thresholds[ix], gmeans[ix]))\n",
    "\n",
    "# plt.figure()\n",
    "# plt.plot(fpr, tpr, color='darkorange', linestyle=':', linewidth=4)\n",
    "# plt.xlim([0.0, 1.0])\n",
    "# plt.ylim([0.0, 1.05])\n",
    "# plt.xlabel('False Positive Rate')\n",
    "# plt.ylabel('True Positive Rate')\n",
    "# plt.title('Some extension of Receiver operating characteristic to multi-class')\n",
    "# plt.legend(loc=\"lower right\")\n",
    "# plt.show()"
   ]
  },
  {
   "cell_type": "code",
   "execution_count": null,
   "metadata": {},
   "outputs": [],
   "source": [
    "# tumor_region = 4\n",
    "# precision, recall, thresholds = precision_recall_curve(np.matrix.flatten(datagen.convert_labels(y_val[0][0], tumor_region, image_size)), \n",
    "#                                  np.matrix.flatten(predictions[tumor_region]))"
   ]
  },
  {
   "cell_type": "code",
   "execution_count": null,
   "metadata": {},
   "outputs": [],
   "source": [
    "# best_precision = np.argmax(precision)\n",
    "# best_recall = np.argmax(recall)\n",
    "# # print(recall)\n",
    "# # print(thresholds)\n",
    "# print(\"best_precision\", thresholds[best_precision])\n",
    "# print(\"best_recall\", thresholds[best_recall])"
   ]
  }
 ],
 "metadata": {
  "kernelspec": {
   "display_name": "tfgpu",
   "language": "python",
   "name": "tfgpu"
  },
  "language_info": {
   "codemirror_mode": {
    "name": "ipython",
    "version": 3
   },
   "file_extension": ".py",
   "mimetype": "text/x-python",
   "name": "python",
   "nbconvert_exporter": "python",
   "pygments_lexer": "ipython3",
   "version": "3.7.6"
  }
 },
 "nbformat": 4,
 "nbformat_minor": 4
}
