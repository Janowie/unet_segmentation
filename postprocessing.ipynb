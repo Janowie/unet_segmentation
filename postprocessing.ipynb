{
 "cells": [
  {
   "cell_type": "code",
   "execution_count": 1,
   "metadata": {},
   "outputs": [
    {
     "name": "stderr",
     "output_type": "stream",
     "text": [
      "Using TensorFlow backend.\n"
     ]
    }
   ],
   "source": [
    "import numpy as np\n",
    "import tensorflow as tf\n",
    "import keras\n",
    "from keras import backend as K\n",
    "import cv2\n",
    "import datagen\n",
    "import ensemble_functions\n",
    "import model as unet_model_script\n",
    "import random\n",
    "import matplotlib.pyplot as plt\n",
    "from matplotlib import pyplot\n",
    "import importlib\n",
    "from sklearn.metrics import classification_report, roc_curve, precision_recall_curve"
   ]
  },
  {
   "cell_type": "code",
   "execution_count": 2,
   "metadata": {
    "scrolled": true
   },
   "outputs": [
    {
     "data": {
      "text/plain": [
       "<module 'ensemble_functions' from 'C:\\\\Users\\\\krcma\\\\Desktop\\\\tf_segmentation\\\\unet_segmentation\\\\ensemble_functions.py'>"
      ]
     },
     "execution_count": 2,
     "metadata": {},
     "output_type": "execute_result"
    }
   ],
   "source": [
    "importlib.reload(datagen)\n",
    "importlib.reload(unet_model_script)\n",
    "importlib.reload(ensemble_functions)"
   ]
  },
  {
   "cell_type": "code",
   "execution_count": 3,
   "metadata": {},
   "outputs": [],
   "source": [
    "image_size = 240\n",
    "num_slices = 155\n",
    "num_patients = 33"
   ]
  },
  {
   "cell_type": "code",
   "execution_count": 4,
   "metadata": {},
   "outputs": [],
   "source": [
    "x_val, y_val = datagen.get_whole_patient(number=3, # num_patients\n",
    "                    file_path='../dataset/', \n",
    "                    mode='test', \n",
    "                    glioma_type=['HGG'], \n",
    "                    image_size=240                     \n",
    "                    )"
   ]
  },
  {
   "cell_type": "code",
   "execution_count": 5,
   "metadata": {},
   "outputs": [
    {
     "data": {
      "text/plain": [
       "{'enhancing': {'mean': 59.32, 'stdDev': 26.93, 'median': 70.07},\n",
       " 'whole': {'mean': 81.94, 'stdDev': 11.45, 'median': 84.76},\n",
       " 'core': {'mean': 59.81, 'stdDev': 23.37, 'median': 65.85}}"
      ]
     },
     "execution_count": 5,
     "metadata": {},
     "output_type": "execute_result"
    }
   ],
   "source": [
    "ensemble_functions.evaluate_ensemble(x_val, y_val, \"../models/base_d_5/\", \"3_ensemble\", num_patients, image_size, None, 0)"
   ]
  },
  {
   "cell_type": "markdown",
   "metadata": {},
   "source": [
    "# Image postprocessing"
   ]
  },
  {
   "cell_type": "code",
   "execution_count": 26,
   "metadata": {},
   "outputs": [],
   "source": [
    " tumor_regions = [\"enhancing\", \"whole\", \"core\"]"
   ]
  },
  {
   "cell_type": "code",
   "execution_count": 31,
   "metadata": {},
   "outputs": [],
   "source": [
    "ar = [\n",
    "{'enhancing': {'mean': 10.73, 'stdDev': 11.54, 'median': 5.38},\n",
    " 'whole': {'mean': 55.14, 'stdDev': 11.69, 'median': 55.66},\n",
    " 'core': {'mean': 22.25, 'stdDev': 19.88, 'median': 16.52}},\n",
    "{'enhancing': {'mean': 17.97, 'stdDev': 20.49, 'median': 8.85},\n",
    " 'whole': {'mean': 60.88, 'stdDev': 15.23, 'median': 61.68},\n",
    " 'core': {'mean': 22.63, 'stdDev': 21.73, 'median': 15.1}},\n",
    "{'enhancing': {'mean': 41.49, 'stdDev': 22.29, 'median': 39.86},\n",
    " 'whole': {'mean': 70.04, 'stdDev': 14.18, 'median': 71.27},\n",
    " 'core': {'mean': 31.81, 'stdDev': 20.08, 'median': 27.83}}\n",
    "]"
   ]
  },
  {
   "cell_type": "code",
   "execution_count": 32,
   "metadata": {},
   "outputs": [
    {
     "data": {
      "text/plain": [
       "{'enhancing': {'mean': 23.4, 'stdDev': 18.11, 'median': 18.03},\n",
       " 'whole': {'mean': 62.02, 'stdDev': 13.7, 'median': 62.87},\n",
       " 'core': {'mean': 25.56, 'stdDev': 20.56, 'median': 19.82}}"
      ]
     },
     "execution_count": 32,
     "metadata": {},
     "output_type": "execute_result"
    }
   ],
   "source": [
    "ensemble_functions.cross_val_avg(tumor_regions, ar)"
   ]
  },
  {
   "cell_type": "code",
   "execution_count": 5,
   "metadata": {},
   "outputs": [],
   "source": [
    "patient = 2"
   ]
  },
  {
   "cell_type": "code",
   "execution_count": 6,
   "metadata": {},
   "outputs": [],
   "source": [
    "models = {} # ensemble_functions.get_models(\"../models/base_d_5_new/\", \"3_ensemble\", 1, 4, verbose=0)"
   ]
  },
  {
   "cell_type": "code",
   "execution_count": 7,
   "metadata": {},
   "outputs": [],
   "source": [
    "for i in range(1,5):\n",
    "    models[i] = keras.models.load_model(\"../models/base_d_5/1_ensemble_{}.h5\".format(i))"
   ]
  },
  {
   "cell_type": "code",
   "execution_count": 8,
   "metadata": {},
   "outputs": [],
   "source": [
    "predictions = {}\n",
    "for i in range(1,5):\n",
    "    predictions[i] = models[i].predict(x_val[patient])"
   ]
  },
  {
   "cell_type": "code",
   "execution_count": 9,
   "metadata": {},
   "outputs": [],
   "source": [
    "final_mask = ensemble_functions.create_mask(predictions, 155, image_size, p=None)"
   ]
  },
  {
   "cell_type": "code",
   "execution_count": 10,
   "metadata": {},
   "outputs": [
    {
     "data": {
      "text/plain": [
       "(155, 1, 240, 240)"
      ]
     },
     "execution_count": 10,
     "metadata": {},
     "output_type": "execute_result"
    }
   ],
   "source": [
    "final_mask.shape"
   ]
  },
  {
   "cell_type": "code",
   "execution_count": null,
   "metadata": {},
   "outputs": [],
   "source": [
    "slic = 68\n",
    "\n",
    "f, axarr = plt.subplots(2,3, figsize=(8, 8)) \n",
    "axarr[0,0].imshow(datagen.convert_labels_eval(final_mask, \"whole\", image_size)[slic][0])\n",
    "axarr[0,1].imshow(datagen.convert_labels_eval(final_mask, \"core\", image_size)[slic][0])\n",
    "axarr[0,2].imshow(datagen.convert_labels_eval(final_mask, \"enhancing\", image_size)[slic][0])\n",
    "\n",
    "axarr[1,0].imshow(datagen.convert_labels_eval(y_val[patient][0], \"whole\", image_size)[slic][0])\n",
    "axarr[1,1].imshow(datagen.convert_labels_eval(y_val[patient][0], \"core\", image_size)[slic][0])\n",
    "axarr[1,2].imshow(datagen.convert_labels_eval(y_val[patient][0], \"enhancing\", image_size)[slic][0])"
   ]
  },
  {
   "cell_type": "code",
   "execution_count": 25,
   "metadata": {},
   "outputs": [
    {
     "name": "stdout",
     "output_type": "stream",
     "text": [
      "87\n"
     ]
    },
    {
     "data": {
      "text/plain": [
       "<matplotlib.image.AxesImage at 0x24374861dc8>"
      ]
     },
     "execution_count": 25,
     "metadata": {},
     "output_type": "execute_result"
    },
    {
     "data": {
      "image/png": "[encoded data removed]",
      "text/plain": [
       "<Figure size 720x720 with 2 Axes>"
      ]
     },
     "metadata": {
      "needs_background": "light"
     },
     "output_type": "display_data"
    }
   ],
   "source": [
    "slic = random.randint(60, 100)\n",
    "print(slic)\n",
    "# slic=100\n",
    "f, axarr = plt.subplots(1,2, figsize=(10,10))\n",
    "axarr[0].imshow(final_mask[slic][0])\n",
    "axarr[1].imshow(y_val[patient][0][slic][0])"
   ]
  },
  {
   "cell_type": "code",
   "execution_count": 12,
   "metadata": {},
   "outputs": [
    {
     "data": {
      "text/plain": [
       "(155, 4, 240, 240)"
      ]
     },
     "execution_count": 12,
     "metadata": {},
     "output_type": "execute_result"
    }
   ],
   "source": [
    "x_val[patient].shape"
   ]
  }
 ],
 "metadata": {
  "kernelspec": {
   "display_name": "tfgpu",
   "language": "python",
   "name": "tfgpu"
  },
  "language_info": {
   "codemirror_mode": {
    "name": "ipython",
    "version": 3
   },
   "file_extension": ".py",
   "mimetype": "text/x-python",
   "name": "python",
   "nbconvert_exporter": "python",
   "pygments_lexer": "ipython3",
   "version": "3.7.6"
  }
 },
 "nbformat": 4,
 "nbformat_minor": 4
}
