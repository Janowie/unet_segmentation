{
 "cells": [
  {
   "cell_type": "code",
   "execution_count": 1,
   "metadata": {},
   "outputs": [
    {
     "name": "stderr",
     "output_type": "stream",
     "text": [
      "Using TensorFlow backend.\n"
     ]
    }
   ],
   "source": [
    "import numpy as np\n",
    "import tensorflow as tf\n",
    "import keras\n",
    "import cv2\n",
    "import datagen\n",
    "import model as unet_model_script\n",
    "import random\n",
    "import matplotlib.pyplot as plt\n",
    "import importlib\n",
    "from sklearn.metrics import classification_report"
   ]
  },
  {
   "cell_type": "code",
   "execution_count": 2,
   "metadata": {},
   "outputs": [
    {
     "data": {
      "text/plain": [
       "<module 'model' from 'C:\\\\Users\\\\krcma\\\\Desktop\\\\tf_segmentation\\\\unet_segmentation\\\\model.py'>"
      ]
     },
     "execution_count": 2,
     "metadata": {},
     "output_type": "execute_result"
    }
   ],
   "source": [
    "importlib.reload(datagen)\n",
    "importlib.reload(unet_model_script)"
   ]
  },
  {
   "cell_type": "markdown",
   "metadata": {},
   "source": [
    "# Image postprocessing"
   ]
  },
  {
   "cell_type": "code",
   "execution_count": 3,
   "metadata": {},
   "outputs": [],
   "source": [
    "def get_everything(valid_HGG_patients):\n",
    "    models = {}\n",
    "    data = {}\n",
    "    predictions = {}\n",
    "    for tumor_region in range(1, 5):\n",
    "        models[tumor_region] = keras.models.load_model(\"../models/unet_tumor_region_{}.h5\".format(tumor_region))\n",
    "        data[tumor_region] = {}\n",
    "        data[tumor_region][\"x\"], data[tumor_region][\"y\"] = datagen.get_dataset(1, \n",
    "                                                            file_path='../dataset/', \n",
    "                                                            mode='validation', \n",
    "                                                            glioma_type=['HGG'], \n",
    "                                                            tumor_region=tumor_region,\n",
    "                                                            randomize_slices=False,\n",
    "                                                            slices_w_tumor_only=False,\n",
    "                                                            slices_w_less_brain=None,\n",
    "                                                            image_size=240,\n",
    "                                                            train_HGG_patients=valid_HGG_patients)\n",
    "        predictions[tumor_region] = models[tumor_region].predict(data[tumor_region][\"x\"])\n",
    "    return models, data, predictions"
   ]
  },
  {
   "cell_type": "code",
   "execution_count": 4,
   "metadata": {},
   "outputs": [
    {
     "name": "stdout",
     "output_type": "stream",
     "text": [
      "validation data with shape: (20, 4, 240, 240) (20, 1, 240, 240)\n",
      "validation data with shape: (20, 4, 240, 240) (20, 1, 240, 240)\n",
      "validation data with shape: (20, 4, 240, 240) (20, 1, 240, 240)\n",
      "validation data with shape: (20, 4, 240, 240) (20, 1, 240, 240)\n"
     ]
    }
   ],
   "source": [
    "models, data, predictions = get_everything(valid_HGG_patients=20)"
   ]
  },
  {
   "cell_type": "code",
   "execution_count": 24,
   "metadata": {},
   "outputs": [
    {
     "name": "stdout",
     "output_type": "stream",
     "text": [
      "validation data with shape: (400, 4, 240, 240) (400, 1, 240, 240)\n"
     ]
    }
   ],
   "source": [
    "x_o, y_o = datagen.get_dataset(20, \n",
    "                                file_path='../dataset/', \n",
    "                                mode='validation', \n",
    "                                glioma_type=['HGG'], \n",
    "                                tumor_region=-1,\n",
    "                                randomize_slices=False,\n",
    "                                slices_w_tumor_only=False,\n",
    "                                slices_w_less_brain=None,\n",
    "                                image_size=240,\n",
    "                                train_HGG_patients=20)"
   ]
  },
  {
   "cell_type": "code",
   "execution_count": 25,
   "metadata": {},
   "outputs": [],
   "source": [
    "p1 = models[1].predict(x_o)"
   ]
  },
  {
   "cell_type": "code",
   "execution_count": 26,
   "metadata": {},
   "outputs": [],
   "source": [
    "p2 = models[2].predict(x_o)"
   ]
  },
  {
   "cell_type": "code",
   "execution_count": 27,
   "metadata": {},
   "outputs": [],
   "source": [
    "p3 = models[3].predict(x_o)"
   ]
  },
  {
   "cell_type": "code",
   "execution_count": 28,
   "metadata": {},
   "outputs": [],
   "source": [
    "p4 = models[4].predict(x_o)"
   ]
  },
  {
   "cell_type": "code",
   "execution_count": null,
   "metadata": {},
   "outputs": [],
   "source": []
  },
  {
   "cell_type": "code",
   "execution_count": 12,
   "metadata": {},
   "outputs": [],
   "source": [
    "mm = create_mask(p1[0], p2[0], p3[0], p4[0])"
   ]
  },
  {
   "cell_type": "code",
   "execution_count": 13,
   "metadata": {},
   "outputs": [
    {
     "data": {
      "image/png": "[encoded data removed]",
      "text/plain": [
       "<Figure size 720x720 with 1 Axes>"
      ]
     },
     "metadata": {
      "needs_background": "light"
     },
     "output_type": "display_data"
    }
   ],
   "source": [
    "plt.figure(figsize=(10, 10))\n",
    "img = mm[0]\n",
    "img[img == 0] = np.nan\n",
    "plt.imshow(img) \n",
    "plt.show()  # display it"
   ]
  },
  {
   "cell_type": "code",
   "execution_count": 11,
   "metadata": {},
   "outputs": [],
   "source": [
    "def create_mask(m1, m2, m3, m4):\n",
    "    final_mask = np.zeros((1, 240,240))\n",
    "    final_mask[m1 >= 0.5] = 1\n",
    "    final_mask[m2 >= 0.5] = 2\n",
    "    final_mask[m3 >= 0.5] = 3\n",
    "    final_mask[m4 >= 0.5] = 4\n",
    "    return final_mask"
   ]
  },
  {
   "cell_type": "code",
   "execution_count": 94,
   "metadata": {},
   "outputs": [
    {
     "name": "stdout",
     "output_type": "stream",
     "text": [
      "248\n",
      "[0. 1. 2. 3. 4.]\n",
      "[0. 1. 2. 4.]\n"
     ]
    },
    {
     "data": {
      "text/plain": [
       "<matplotlib.image.AxesImage at 0x246e53729c8>"
      ]
     },
     "execution_count": 94,
     "metadata": {},
     "output_type": "execute_result"
    },
    {
     "data": {
      "image/png": "[encoded data removed]",
      "text/plain": [
       "<Figure size 720x720 with 3 Axes>"
      ]
     },
     "metadata": {
      "needs_background": "light"
     },
     "output_type": "display_data"
    }
   ],
   "source": [
    "i = random.randint(0, 399)\n",
    "print(i)\n",
    "# i = 18\n",
    "\n",
    "# Get mask\n",
    "pred_final_mask = create_mask(p1[i], p2[i], p3[i], p4[i])\n",
    "\n",
    "print(np.unique(gt_final_mask[0]))\n",
    "print(np.unique(y_o[i][0]))\n",
    "\n",
    "# Plot\n",
    "f, axarr = plt.subplots(1,3, figsize=(10,10))\n",
    "axarr[0].imshow(pred_final_mask[0])\n",
    "axarr[1].imshow(y_o[i][0])\n",
    "axarr[2].imshow(x_o[i][0])"
   ]
  },
  {
   "cell_type": "markdown",
   "metadata": {},
   "source": [
    "-- min, max chyba, std, mean pre kazdeho pacienta\n",
    "-- skusit hybat prah 0.5 na 0.45 0.55\n",
    "-- vyhodnotit: base, base + dropout(0.5), base + dropout(0.2), \n",
    "-- skusit uzavriet regiony a porovnat chyby\n",
    "-- postprocessing -- uzatvara diery v segmentacii. Da sa to d obinaru, zoberie sa vonkajsia kontura.. (openCV"
   ]
  },
  {
   "cell_type": "code",
   "execution_count": null,
   "metadata": {
    "scrolled": true
   },
   "outputs": [],
   "source": [
    "print(\"accuracy: \", np.mean(keras.metrics.accuracy(y_o[18][0], pred_final_mask)))\n",
    "print(\"binary accuracy: \", np.mean(keras.metrics.binary_accuracy(y_o[18][0], pred_final_mask)))\n",
    "print(\"categorical accuracy: \", np.mean(keras.metrics.categorical_accuracy(y_o[18][0], pred_final_mask)))"
   ]
  },
  {
   "cell_type": "code",
   "execution_count": null,
   "metadata": {},
   "outputs": [],
   "source": [
    "print(\"accuracy: \", keras.metrics.accuracy(y_o[18], pred_final_mask))\n",
    "print(\"binary accuracy: \", keras.metrics.binary_accuracy(y_o[18], pred_final_mask))\n",
    "print(\"categorical accuracy: \", keras.metrics.categorical_accuracy(y_o[18], pred_final_mask))"
   ]
  },
  {
   "cell_type": "markdown",
   "metadata": {},
   "source": [
    "-- spravne vyfarbit jednotlive kategorie + pridat legendu, aby bolo jasne vidno co kam patri\n",
    "-- zvyraznit hustotu tkaniva \n",
    "\n",
    "-- vyhodnotit pomocou cisel hlavne\n",
    "-- pridat vizualizacie, aby sa lahsie vysvetlovali vystupy,"
   ]
  },
  {
   "cell_type": "code",
   "execution_count": null,
   "metadata": {},
   "outputs": [],
   "source": []
  }
 ],
 "metadata": {
  "kernelspec": {
   "display_name": "tfgpu",
   "language": "python",
   "name": "tfgpu"
  },
  "language_info": {
   "codemirror_mode": {
    "name": "ipython",
    "version": 3
   },
   "file_extension": ".py",
   "mimetype": "text/x-python",
   "name": "python",
   "nbconvert_exporter": "python",
   "pygments_lexer": "ipython3",
   "version": "3.7.6"
  }
 },
 "nbformat": 4,
 "nbformat_minor": 4
}
