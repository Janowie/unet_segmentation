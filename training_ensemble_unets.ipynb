{
 "cells": [
  {
   "cell_type": "markdown",
   "metadata": {},
   "source": [
    "# U-Net Brain Tumor Segmentation"
   ]
  },
  {
   "cell_type": "code",
   "execution_count": 1,
   "metadata": {
    "scrolled": true
   },
   "outputs": [
    {
     "name": "stderr",
     "output_type": "stream",
     "text": [
      "Using TensorFlow backend.\n"
     ]
    },
    {
     "data": {
      "text/plain": [
       "<module 'model' from 'C:\\\\Users\\\\krcma\\\\Desktop\\\\tf_segmentation\\\\unet_segmentation\\\\model.py'>"
      ]
     },
     "execution_count": 1,
     "metadata": {},
     "output_type": "execute_result"
    }
   ],
   "source": [
    "import tensorflow as tf\n",
    "import keras\n",
    "from keras.callbacks import Callback\n",
    "from keras import backend as K\n",
    "from keras.preprocessing.image import ImageDataGenerator\n",
    "from tensorflow.python.keras.callbacks import TensorBoard\n",
    "\n",
    "import numpy as np\n",
    "import os\n",
    "import SimpleITK as sitka\n",
    "import random\n",
    "import matplotlib.pyplot as plt\n",
    "import importlib\n",
    "import time\n",
    "\n",
    "# Data augmentation\n",
    "import cv2\n",
    "from albumentations import (\n",
    "    Compose, HorizontalFlip, VerticalFlip, CLAHE, HueSaturationValue,\n",
    "    RandomBrightness, RandomContrast, RandomGamma,\n",
    "    ToFloat, ShiftScaleRotate, ElasticTransform, Rotate, RandomScale, GridDistortion, OpticalDistortion, OneOf\n",
    ")\n",
    "\n",
    "# Custom scripts\n",
    "import datagen\n",
    "import model as unet_model_script\n",
    "\n",
    "# Reload lib contents\n",
    "importlib.reload(datagen)\n",
    "importlib.reload(unet_model_script)"
   ]
  },
  {
   "cell_type": "markdown",
   "metadata": {},
   "source": [
    "##  Hyperparemeters"
   ]
  },
  {
   "cell_type": "code",
   "execution_count": 2,
   "metadata": {},
   "outputs": [],
   "source": [
    "train_patients = 239 + 69\n",
    "valid_HGG_patients = 20\n",
    "slices_from_patient = 7\n",
    "\n",
    "slices_from = 60\n",
    "slices_to = 100\n",
    "\n",
    "image_size = 240\n",
    "channels = 4\n",
    "learning_rate = 1e-4\n",
    "epochs = 25\n",
    "batch_size = 7\n"
   ]
  },
  {
   "cell_type": "markdown",
   "metadata": {},
   "source": [
    "### U-Net model parameters\n",
    "\n",
    "Configuration dict."
   ]
  },
  {
   "cell_type": "code",
   "execution_count": 3,
   "metadata": {},
   "outputs": [],
   "source": [
    "conf = {\n",
    "    \"last_layer_activation\": \"sigmoid\",\n",
    "    \"dropout\": 0.5,\n",
    "    \"batch_norm\": True\n",
    "}"
   ]
  },
  {
   "cell_type": "code",
   "execution_count": 4,
   "metadata": {},
   "outputs": [],
   "source": [
    "training_model_conf = {\n",
    "    \"optimizer\": keras.optimizers.Adam(learning_rate=learning_rate),\n",
    "    \"loss\": \"binary_crossentropy\",\n",
    "    \"metrics\": [\"accuracy\"]\n",
    "}"
   ]
  },
  {
   "cell_type": "markdown",
   "metadata": {},
   "source": [
    "## Dataset"
   ]
  },
  {
   "cell_type": "code",
   "execution_count": 5,
   "metadata": {},
   "outputs": [
    {
     "name": "stdout",
     "output_type": "stream",
     "text": [
      "training data with the shape: (2114, 4, 240, 240) (2114, 1, 240, 240)\n",
      "Finished in 365.3979346752167\n"
     ]
    }
   ],
   "source": [
    "st = time.time()\n",
    "x_train, y_train = datagen.get_dataset(batch_size,\n",
    "                                        slices_from, slices_to,\n",
    "                                        file_path='../dataset/', \n",
    "                                        mode='training', \n",
    "                                        tumor_region=None,\n",
    "                                        glioma_type=['HGG', 'LGG'], \n",
    "                                        slices_w_tumor_only=100,\n",
    "                                        slices_w_less_brain=None,\n",
    "                                        image_size=image_size,\n",
    "                                        train_HGG_patients=train_patients) #\n",
    "print(\"Finished in\", time.time() - st)"
   ]
  },
  {
   "cell_type": "code",
   "execution_count": 6,
   "metadata": {},
   "outputs": [],
   "source": [
    "# x_valid, y_valid = datagen.get_dataset(batch_size, \n",
    "#                                        slices_from, slices_to,\n",
    "#                                         file_path='../dataset/', \n",
    "#                                         mode='validation', \n",
    "#                                        tumor_region=3,\n",
    "#                                         glioma_type=['HGG', 'LGG'], \n",
    "#                                         slices_w_tumor_only=False,\n",
    "#                                         slices_w_less_brain=100,\n",
    "#                                         image_size=image_size,\n",
    "#                                         train_HGG_patients=valid_HGG_patients)"
   ]
  },
  {
   "cell_type": "code",
   "execution_count": 7,
   "metadata": {},
   "outputs": [
    {
     "name": "stdout",
     "output_type": "stream",
     "text": [
      "24\n"
     ]
    },
    {
     "data": {
      "text/plain": [
       "<matplotlib.image.AxesImage at 0x267c8f3cc08>"
      ]
     },
     "execution_count": 7,
     "metadata": {},
     "output_type": "execute_result"
    },
    {
     "data": {
      "image/png": "[encoded data removed]",
      "text/plain": [
       "<Figure size 720x720 with 5 Axes>"
      ]
     },
     "metadata": {
      "needs_background": "light"
     },
     "output_type": "display_data"
    }
   ],
   "source": [
    "i = random.randint(0, 29)\n",
    "# i=15\n",
    "print(i)\n",
    "\n",
    "f, axarr = plt.subplots(1,5, figsize=(10,10))\n",
    "# axarr[0].imshow(y_train[i][0])\n",
    "axarr[0].imshow(x_train[i][0])\n",
    "axarr[1].imshow(x_train[i][1])\n",
    "axarr[2].imshow(x_train[i][2])\n",
    "axarr[3].imshow(x_train[i][3])\n",
    "axarr[4].imshow(y_train[i][0])"
   ]
  },
  {
   "cell_type": "markdown",
   "metadata": {},
   "source": [
    "## Data augmentation"
   ]
  },
  {
   "cell_type": "code",
   "execution_count": 8,
   "metadata": {},
   "outputs": [],
   "source": [
    "AUGMENTATIONS = Compose([\n",
    "    HorizontalFlip(p=0.5),\n",
    "    VerticalFlip(p=0.5),\n",
    "#     Rotate(limit=90, p=0.99),\n",
    "#     RandomGamma(gamma_limit=(80, 120), p=0.25),\n",
    "#     RandomScale(scale_limit=0.1, interpolation=cv2.INTER_NEAREST, p=0.25),\n",
    "#     ElasticTransform(alpha=1, p=0.5),\n",
    "#     OneOf([\n",
    "#         OpticalDistortion(p=0.3),\n",
    "#         GridDistortion(p=0.1),\n",
    "#     ], p=0.2),\n",
    "    OpticalDistortion(p=0.5),\n",
    "    GridDistortion(p=0.5),\n",
    "])"
   ]
  },
  {
   "cell_type": "markdown",
   "metadata": {},
   "source": [
    "## Callbacks"
   ]
  },
  {
   "cell_type": "code",
   "execution_count": 9,
   "metadata": {},
   "outputs": [],
   "source": [
    "class NegativeLoss(keras.callbacks.Callback):\n",
    "    def on_train_begin(self, logs={}):\n",
    "        pass\n",
    "\n",
    "    def on_batch_end(self, batch, logs={}):\n",
    "        if logs.get('loss') < 0:\n",
    "            print(\"\\nEarly stopping for negative loss ({}) at batch {}.\".format(logs.get('loss'), batch))\n",
    "            self.model.stop_training = True\n",
    "\n",
    "callbacks = [\n",
    "    NegativeLoss(),\n",
    "    keras.callbacks.callbacks.TerminateOnNaN(),\n",
    "    keras.callbacks.callbacks.EarlyStopping(monitor='accuracy', \n",
    "                                            min_delta=0.0001, \n",
    "                                            patience=10, \n",
    "                                            verbose=1, \n",
    "                                            mode='auto', \n",
    "                                            baseline=None, \n",
    "                                            restore_best_weights=True),\n",
    "    keras.callbacks.callbacks.ReduceLROnPlateau(factor=0.1, \n",
    "                                                patience=5, \n",
    "                                                min_lr=0.00001, \n",
    "                                                verbose=1),\n",
    "#     keras.callbacks.TensorBoard(log_dir=\"../logs/{}\".format(time.time()))\n",
    "]"
   ]
  },
  {
   "cell_type": "markdown",
   "metadata": {},
   "source": [
    "# Ensemble training"
   ]
  },
  {
   "cell_type": "code",
   "execution_count": 10,
   "metadata": {
    "scrolled": false
   },
   "outputs": [
    {
     "name": "stdout",
     "output_type": "stream",
     "text": [
      "(1410, 4, 240, 240) (704, 4, 240, 240)\n",
      "Training U-Net 1\n",
      "Epoch 1/20\n",
      "202/202 [==============================] - 122s 606ms/step - loss: 0.1191 - accuracy: 0.9830 - val_loss: 0.0699 - val_accuracy: 0.9887\n",
      "Epoch 2/20\n",
      "202/202 [==============================] - 113s 560ms/step - loss: 0.0710 - accuracy: 0.9838 - val_loss: 0.0636 - val_accuracy: 0.9817\n",
      "Epoch 3/20\n",
      "202/202 [==============================] - 113s 559ms/step - loss: 0.0525 - accuracy: 0.9875 - val_loss: 0.0520 - val_accuracy: 0.9868\n",
      "Epoch 4/20\n",
      "202/202 [==============================] - 114s 564ms/step - loss: 0.0454 - accuracy: 0.9880 - val_loss: 0.0444 - val_accuracy: 0.9882\n",
      "Epoch 5/20\n",
      "202/202 [==============================] - 113s 559ms/step - loss: 0.0399 - accuracy: 0.9892 - val_loss: 0.0460 - val_accuracy: 0.9879\n",
      "Epoch 6/20\n",
      "202/202 [==============================] - 113s 558ms/step - loss: 0.0364 - accuracy: 0.9895 - val_loss: 0.0422 - val_accuracy: 0.9877\n",
      "Epoch 7/20\n",
      "202/202 [==============================] - 113s 559ms/step - loss: 0.0352 - accuracy: 0.9895 - val_loss: 0.0415 - val_accuracy: 0.9877\n",
      "Epoch 8/20\n",
      "202/202 [==============================] - 113s 561ms/step - loss: 0.0325 - accuracy: 0.9902 - val_loss: 0.0396 - val_accuracy: 0.9880\n",
      "Epoch 9/20\n",
      "202/202 [==============================] - 113s 558ms/step - loss: 0.0311 - accuracy: 0.9904 - val_loss: 0.0327 - val_accuracy: 0.9897\n",
      "Epoch 10/20\n",
      "202/202 [==============================] - 113s 558ms/step - loss: 0.0313 - accuracy: 0.9899 - val_loss: 0.0328 - val_accuracy: 0.9894\n",
      "Epoch 11/20\n",
      "202/202 [==============================] - 113s 558ms/step - loss: 0.0292 - accuracy: 0.9904 - val_loss: 0.0314 - val_accuracy: 0.9903\n",
      "Epoch 12/20\n",
      "202/202 [==============================] - 113s 559ms/step - loss: 0.0273 - accuracy: 0.9911 - val_loss: 0.0359 - val_accuracy: 0.9890\n",
      "Epoch 13/20\n",
      "202/202 [==============================] - 113s 558ms/step - loss: 0.0271 - accuracy: 0.9908 - val_loss: 0.0312 - val_accuracy: 0.9907\n",
      "Epoch 14/20\n",
      "202/202 [==============================] - 113s 560ms/step - loss: 0.0265 - accuracy: 0.9909 - val_loss: 0.0360 - val_accuracy: 0.9894\n",
      "Epoch 15/20\n",
      "202/202 [==============================] - 113s 558ms/step - loss: 0.0247 - accuracy: 0.9916 - val_loss: 0.0394 - val_accuracy: 0.9882\n",
      "Epoch 16/20\n",
      "202/202 [==============================] - 113s 559ms/step - loss: 0.0251 - accuracy: 0.9912 - val_loss: 0.0383 - val_accuracy: 0.9880\n",
      "Epoch 17/20\n",
      "202/202 [==============================] - 114s 564ms/step - loss: 0.0246 - accuracy: 0.9913 - val_loss: 0.0443 - val_accuracy: 0.9878\n",
      "Epoch 18/20\n",
      "202/202 [==============================] - 114s 566ms/step - loss: 0.0239 - accuracy: 0.9916 - val_loss: 0.0439 - val_accuracy: 0.9870\n",
      "\n",
      "Epoch 00018: ReduceLROnPlateau reducing learning rate to 1e-05.\n",
      "Epoch 19/20\n",
      "202/202 [==============================] - 114s 567ms/step - loss: 0.0216 - accuracy: 0.9926 - val_loss: 0.0431 - val_accuracy: 0.9872\n",
      "Epoch 20/20\n",
      "202/202 [==============================] - 113s 558ms/step - loss: 0.0216 - accuracy: 0.9924 - val_loss: 0.0440 - val_accuracy: 0.9869\n",
      "Training U-Net 2\n",
      "Epoch 1/20\n",
      "202/202 [==============================] - 116s 577ms/step - loss: 0.1656 - accuracy: 0.9785 - val_loss: 0.1097 - val_accuracy: 0.9850\n",
      "Epoch 2/20\n",
      "202/202 [==============================] - 113s 559ms/step - loss: 0.0972 - accuracy: 0.9813 - val_loss: 0.0857 - val_accuracy: 0.9839\n",
      "Epoch 3/20\n",
      "202/202 [==============================] - 113s 559ms/step - loss: 0.0803 - accuracy: 0.9827 - val_loss: 0.0762 - val_accuracy: 0.9833\n",
      "Epoch 4/20\n",
      "202/202 [==============================] - 113s 559ms/step - loss: 0.0712 - accuracy: 0.9838 - val_loss: 0.0721 - val_accuracy: 0.9835\n",
      "Epoch 5/20\n",
      "202/202 [==============================] - 114s 564ms/step - loss: 0.0662 - accuracy: 0.9843 - val_loss: 0.0670 - val_accuracy: 0.9834\n",
      "Epoch 6/20\n",
      "202/202 [==============================] - 113s 558ms/step - loss: 0.0605 - accuracy: 0.9858 - val_loss: 0.0633 - val_accuracy: 0.9842\n",
      "Epoch 7/20\n",
      "202/202 [==============================] - 113s 559ms/step - loss: 0.0571 - accuracy: 0.9862 - val_loss: 0.0637 - val_accuracy: 0.9841\n",
      "Epoch 8/20\n",
      "202/202 [==============================] - 113s 559ms/step - loss: 0.0539 - accuracy: 0.9868 - val_loss: 0.0624 - val_accuracy: 0.9836\n",
      "Epoch 9/20\n",
      "202/202 [==============================] - 113s 559ms/step - loss: 0.0513 - accuracy: 0.9874 - val_loss: 0.0609 - val_accuracy: 0.9843\n",
      "Epoch 10/20\n",
      "202/202 [==============================] - 113s 559ms/step - loss: 0.0492 - accuracy: 0.9878 - val_loss: 0.0593 - val_accuracy: 0.9842\n",
      "Epoch 11/20\n",
      "202/202 [==============================] - 113s 559ms/step - loss: 0.0477 - accuracy: 0.9880 - val_loss: 0.0582 - val_accuracy: 0.9841\n",
      "Epoch 12/20\n",
      "202/202 [==============================] - 113s 561ms/step - loss: 0.0462 - accuracy: 0.9882 - val_loss: 0.0580 - val_accuracy: 0.9844\n",
      "Epoch 13/20\n",
      "202/202 [==============================] - 113s 559ms/step - loss: 0.0440 - accuracy: 0.9885 - val_loss: 0.0578 - val_accuracy: 0.9844\n",
      "Epoch 14/20\n",
      "202/202 [==============================] - 113s 560ms/step - loss: 0.0425 - accuracy: 0.9887 - val_loss: 0.0550 - val_accuracy: 0.9843\n",
      "Epoch 15/20\n",
      "202/202 [==============================] - 113s 559ms/step - loss: 0.0430 - accuracy: 0.9882 - val_loss: 0.0556 - val_accuracy: 0.9838\n",
      "Epoch 16/20\n",
      "202/202 [==============================] - 113s 559ms/step - loss: 0.0420 - accuracy: 0.9884 - val_loss: 0.0532 - val_accuracy: 0.9847\n",
      "Epoch 17/20\n",
      "202/202 [==============================] - 113s 559ms/step - loss: 0.0411 - accuracy: 0.9886 - val_loss: 0.0526 - val_accuracy: 0.9844\n",
      "Epoch 18/20\n",
      "202/202 [==============================] - 113s 559ms/step - loss: 0.0390 - accuracy: 0.9890 - val_loss: 0.0517 - val_accuracy: 0.9840\n",
      "Epoch 19/20\n",
      "202/202 [==============================] - 115s 568ms/step - loss: 0.0388 - accuracy: 0.9889 - val_loss: 0.0521 - val_accuracy: 0.9840\n",
      "Epoch 20/20\n",
      "202/202 [==============================] - 113s 559ms/step - loss: 0.0381 - accuracy: 0.9890 - val_loss: 0.0521 - val_accuracy: 0.9838\n",
      "Training U-Net 3\n",
      "Epoch 1/20\n",
      "202/202 [==============================] - 116s 577ms/step - loss: 0.4905 - accuracy: 0.8544 - val_loss: 0.4426 - val_accuracy: 0.9447\n",
      "Epoch 2/20\n",
      "202/202 [==============================] - 113s 560ms/step - loss: 0.2748 - accuracy: 0.9886 - val_loss: 0.3642 - val_accuracy: 0.9708\n",
      "Epoch 3/20\n",
      "202/202 [==============================] - 113s 559ms/step - loss: 0.2346 - accuracy: 0.9919 - val_loss: 0.2434 - val_accuracy: 0.9959\n",
      "Epoch 4/20\n",
      "202/202 [==============================] - 114s 563ms/step - loss: 0.2095 - accuracy: 0.9928 - val_loss: 0.2315 - val_accuracy: 0.9962\n",
      "Epoch 5/20\n",
      "202/202 [==============================] - 113s 561ms/step - loss: 0.1944 - accuracy: 0.9931 - val_loss: 0.2209 - val_accuracy: 0.9961\n",
      "Epoch 6/20\n",
      "202/202 [==============================] - 113s 560ms/step - loss: 0.1840 - accuracy: 0.9932 - val_loss: 0.2150 - val_accuracy: 0.9962\n",
      "Epoch 7/20\n",
      "202/202 [==============================] - 113s 560ms/step - loss: 0.1739 - accuracy: 0.9933 - val_loss: 0.2048 - val_accuracy: 0.9964\n",
      "Epoch 8/20\n",
      "202/202 [==============================] - 113s 559ms/step - loss: 0.1709 - accuracy: 0.9926 - val_loss: 0.1958 - val_accuracy: 0.9964\n",
      "Epoch 9/20\n",
      "202/202 [==============================] - 113s 560ms/step - loss: 0.1606 - accuracy: 0.9933 - val_loss: 0.1892 - val_accuracy: 0.9964\n",
      "Epoch 10/20\n",
      "202/202 [==============================] - 113s 560ms/step - loss: 0.1522 - accuracy: 0.9935 - val_loss: 0.1814 - val_accuracy: 0.9964\n",
      "Epoch 11/20\n",
      "202/202 [==============================] - 113s 560ms/step - loss: 0.1459 - accuracy: 0.9935 - val_loss: 0.1732 - val_accuracy: 0.9964\n",
      "Epoch 12/20\n",
      "202/202 [==============================] - 113s 560ms/step - loss: 0.1399 - accuracy: 0.9936 - val_loss: 0.1699 - val_accuracy: 0.9964\n",
      "Epoch 13/20\n",
      "202/202 [==============================] - 113s 560ms/step - loss: 0.1347 - accuracy: 0.9936 - val_loss: 0.1654 - val_accuracy: 0.9964\n",
      "Epoch 14/20\n",
      "202/202 [==============================] - 113s 560ms/step - loss: 0.1296 - accuracy: 0.9936 - val_loss: 0.1613 - val_accuracy: 0.9964\n",
      "Epoch 15/20\n",
      "202/202 [==============================] - 113s 560ms/step - loss: 0.1253 - accuracy: 0.9936 - val_loss: 0.1550 - val_accuracy: 0.9963\n"
     ]
    },
    {
     "name": "stdout",
     "output_type": "stream",
     "text": [
      "Epoch 16/20\n",
      "202/202 [==============================] - 113s 560ms/step - loss: 0.1205 - accuracy: 0.9937 - val_loss: 0.1511 - val_accuracy: 0.9964\n",
      "Epoch 17/20\n",
      "202/202 [==============================] - 113s 560ms/step - loss: 0.1164 - accuracy: 0.9937 - val_loss: 0.1468 - val_accuracy: 0.9964\n",
      "Epoch 18/20\n",
      "202/202 [==============================] - 113s 559ms/step - loss: 0.1125 - accuracy: 0.9936 - val_loss: 0.1454 - val_accuracy: 0.9964\n",
      "Epoch 19/20\n",
      "202/202 [==============================] - 113s 560ms/step - loss: 0.1087 - accuracy: 0.9938 - val_loss: 0.1423 - val_accuracy: 0.9964\n",
      "Epoch 20/20\n",
      "202/202 [==============================] - 113s 560ms/step - loss: 0.1053 - accuracy: 0.9937 - val_loss: 0.1362 - val_accuracy: 0.9964\n",
      "Training U-Net 4\n",
      "Epoch 1/20\n",
      "202/202 [==============================] - 117s 578ms/step - loss: 0.2155 - accuracy: 0.9751 - val_loss: 0.1585 - val_accuracy: 0.9920\n",
      "Epoch 2/20\n",
      "202/202 [==============================] - 113s 561ms/step - loss: 0.0914 - accuracy: 0.9933 - val_loss: 0.1001 - val_accuracy: 0.9975\n",
      "Epoch 3/20\n",
      "202/202 [==============================] - 114s 565ms/step - loss: 0.0722 - accuracy: 0.9937 - val_loss: 0.0805 - val_accuracy: 0.9970\n",
      "Epoch 4/20\n",
      "202/202 [==============================] - 113s 560ms/step - loss: 0.0642 - accuracy: 0.9938 - val_loss: 0.0722 - val_accuracy: 0.9967\n",
      "Epoch 5/20\n",
      "202/202 [==============================] - 113s 560ms/step - loss: 0.0590 - accuracy: 0.9938 - val_loss: 0.0666 - val_accuracy: 0.9965\n",
      "Epoch 6/20\n",
      "202/202 [==============================] - 113s 561ms/step - loss: 0.0560 - accuracy: 0.9939 - val_loss: 0.0630 - val_accuracy: 0.9964\n",
      "Epoch 7/20\n",
      "202/202 [==============================] - 113s 559ms/step - loss: 0.0531 - accuracy: 0.9939 - val_loss: 0.0594 - val_accuracy: 0.9964\n",
      "Epoch 8/20\n",
      "202/202 [==============================] - 114s 564ms/step - loss: 0.0500 - accuracy: 0.9940 - val_loss: 0.0574 - val_accuracy: 0.9964\n",
      "Epoch 9/20\n",
      "202/202 [==============================] - 113s 560ms/step - loss: 0.0477 - accuracy: 0.9940 - val_loss: 0.0546 - val_accuracy: 0.9964\n",
      "Epoch 10/20\n",
      "202/202 [==============================] - 113s 560ms/step - loss: 0.0459 - accuracy: 0.9941 - val_loss: 0.0519 - val_accuracy: 0.9964\n",
      "Epoch 11/20\n",
      "202/202 [==============================] - 113s 560ms/step - loss: 0.0437 - accuracy: 0.9942 - val_loss: 0.0499 - val_accuracy: 0.9964\n",
      "Epoch 12/20\n",
      "202/202 [==============================] - 113s 561ms/step - loss: 0.0422 - accuracy: 0.9943 - val_loss: 0.0481 - val_accuracy: 0.9964\n",
      "Epoch 13/20\n",
      "202/202 [==============================] - 113s 562ms/step - loss: 0.0409 - accuracy: 0.9943 - val_loss: 0.0462 - val_accuracy: 0.9964\n",
      "Epoch 14/20\n",
      "202/202 [==============================] - 113s 560ms/step - loss: 0.0391 - accuracy: 0.9944 - val_loss: 0.0452 - val_accuracy: 0.9964\n",
      "Epoch 15/20\n",
      "202/202 [==============================] - 113s 561ms/step - loss: 0.0375 - accuracy: 0.9948 - val_loss: 0.0436 - val_accuracy: 0.9964\n",
      "Epoch 16/20\n",
      "202/202 [==============================] - 113s 561ms/step - loss: 0.0364 - accuracy: 0.9948 - val_loss: 0.0423 - val_accuracy: 0.9964\n",
      "Epoch 17/20\n",
      "202/202 [==============================] - 112s 555ms/step - loss: 0.0353 - accuracy: 0.9948 - val_loss: 0.0413 - val_accuracy: 0.9964\n",
      "Epoch 18/20\n",
      "202/202 [==============================] - 112s 556ms/step - loss: 0.0340 - accuracy: 0.9951 - val_loss: 0.0396 - val_accuracy: 0.9964\n",
      "Epoch 19/20\n",
      "202/202 [==============================] - 112s 554ms/step - loss: 0.0331 - accuracy: 0.9950 - val_loss: 0.0382 - val_accuracy: 0.9964\n",
      "Epoch 20/20\n",
      "202/202 [==============================] - 112s 555ms/step - loss: 0.0316 - accuracy: 0.9952 - val_loss: 0.0369 - val_accuracy: 0.9964\n",
      "Training time: 9127.170876979828\n"
     ]
    }
   ],
   "source": [
    "models = {}\n",
    "cv_x_train = np.array_split(x_train, 3)\n",
    "cv_y_train = np.array_split(y_train, 3)\n",
    "\n",
    "time_start = time.time()\n",
    "\n",
    "# Cross validation\n",
    "for k in range(3, 4):\n",
    "\n",
    "    x_v, y_v = cv_x_train[k - 1], cv_y_train[k - 1]\n",
    "    if k-1 == 0:\n",
    "        x_t, y_t = np.concatenate((cv_x_train[1], cv_x_train[2])), np.concatenate((cv_y_train[1], cv_y_train[2]))\n",
    "    elif k-1 == 1:\n",
    "        x_t, y_t = np.concatenate((cv_x_train[0], cv_x_train[2])), np.concatenate((cv_y_train[0], cv_y_train[2]))\n",
    "    else:\n",
    "        x_t, y_t =  np.concatenate((cv_x_train[0], cv_x_train[1])), np.concatenate((cv_y_train[0], cv_y_train[1]))\n",
    "    \n",
    "    print(x_t.shape, x_v.shape)\n",
    "    for tumor_region in range(1, 5):\n",
    "\n",
    "        print(\"Training U-Net {}\".format(tumor_region))\n",
    "\n",
    "        # Get and compile model\n",
    "        models[tumor_region] = unet_model_script.UNet(channels, image_size, conf=conf)\n",
    "        models[tumor_region].compile(**training_model_conf)\n",
    "\n",
    "        # Convert mask labels to binary\n",
    "        train_masks = datagen.convert_labels(y_t, tumor_region, image_size)\n",
    "        valid_masks = datagen.convert_labels(y_v, tumor_region, image_size)\n",
    "\n",
    "        # Init datagen w augmentation\n",
    "        train_gen = datagen.AugmentationDatagen(x_t, train_masks, batch_size, AUGMENTATIONS)\n",
    "\n",
    "        # Start training\n",
    "        models[\"hist_{}\".format(tumor_region)] = models[tumor_region].fit(train_gen, \n",
    "                                                                          validation_data=(x_v, valid_masks), \n",
    "                                                                          epochs=20, \n",
    "                                                                          shuffle=True, \n",
    "                                                                          callbacks=callbacks)\n",
    "        \n",
    "        models[tumor_region].save(\"../models/2020051101/{}_ensemble_{}.h5\".format(k, tumor_region))    \n",
    "\n",
    "print(\"Training time: {}\".format(time.time()-time_start))"
   ]
  },
  {
   "cell_type": "markdown",
   "metadata": {},
   "source": [
    "### Results"
   ]
  },
  {
   "cell_type": "code",
   "execution_count": null,
   "metadata": {},
   "outputs": [],
   "source": [
    "tumor_region = 3\n",
    "\n",
    "# Plot training & validation accuracy values\n",
    "plt.plot(models[\"hist_{}\".format(tumor_region)].history['accuracy'])\n",
    "plt.plot(models[\"hist_{}\".format(tumor_region)].history['val_accuracy'])\n",
    "plt.title('Model accuracy')\n",
    "plt.ylabel('Accuracy')\n",
    "plt.xlabel('Epoch')\n",
    "plt.legend(['Train', 'Test'], loc='upper left')\n",
    "plt.show()\n",
    "\n",
    "# Plot training & validation loss values\n",
    "plt.plot(models[\"hist_{}\".format(tumor_region)].history['loss'])\n",
    "plt.plot(models[\"hist_{}\".format(tumor_region)].history['val_loss'])\n",
    "plt.title('Model loss')\n",
    "plt.ylabel('Loss')\n",
    "plt.xlabel('Epoch')\n",
    "plt.legend(['Train', 'Test'], loc='upper left')\n",
    "plt.show()"
   ]
  },
  {
   "cell_type": "code",
   "execution_count": null,
   "metadata": {},
   "outputs": [],
   "source": [
    "p = models[3].predict(x_valid, verbose=1)"
   ]
  },
  {
   "cell_type": "code",
   "execution_count": null,
   "metadata": {
    "scrolled": false
   },
   "outputs": [],
   "source": [
    "i = random.randint(0,299)\n",
    "\n",
    "plt.figure()\n",
    "\n",
    "#subplot(r,c) provide the no. of rows and columns\n",
    "f, axarr = plt.subplots(1,2) \n",
    "\n",
    "# use the created array to output your multiple images. In this case I have stacked 4 images vertically\n",
    "axarr[0].imshow(p[i][0])\n",
    "axarr[1].imshow(y_valid[i][0])"
   ]
  },
  {
   "cell_type": "code",
   "execution_count": null,
   "metadata": {},
   "outputs": [],
   "source": [
    "# i = random.randint(0, 50)\n",
    "# i = 3\n",
    "# pred = models[1].predict(np.array([x_valid[i]]), verbose=1)\n",
    "# f, axarr = plt.subplots(1,2, figsize=(10,10))\n",
    "# axarr[0].imshow(y_valid[i][0])\n",
    "# axarr[1].imshow(pred[0][0])"
   ]
  }
 ],
 "metadata": {
  "kernelspec": {
   "display_name": "tfgpu",
   "language": "python",
   "name": "tfgpu"
  },
  "language_info": {
   "codemirror_mode": {
    "name": "ipython",
    "version": 3
   },
   "file_extension": ".py",
   "mimetype": "text/x-python",
   "name": "python",
   "nbconvert_exporter": "python",
   "pygments_lexer": "ipython3",
   "version": "3.7.6"
  }
 },
 "nbformat": 4,
 "nbformat_minor": 4
}
