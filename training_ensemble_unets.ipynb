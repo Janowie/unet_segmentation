{
 "cells": [
  {
   "cell_type": "markdown",
   "metadata": {},
   "source": [
    "# U-Net Brain Tumor Segmentation"
   ]
  },
  {
   "cell_type": "code",
   "execution_count": 21,
   "metadata": {
    "scrolled": true
   },
   "outputs": [
    {
     "data": {
      "text/plain": [
       "<module 'model' from 'C:\\\\Users\\\\krcma\\\\Desktop\\\\tf_segmentation\\\\unet_segmentation\\\\model.py'>"
      ]
     },
     "execution_count": 21,
     "metadata": {},
     "output_type": "execute_result"
    }
   ],
   "source": [
    "import tensorflow as tf\n",
    "import keras\n",
    "from keras.callbacks import Callback\n",
    "from keras import backend as K\n",
    "from keras.preprocessing.image import ImageDataGenerator\n",
    "from tensorflow.python.keras.callbacks import TensorBoard\n",
    "\n",
    "import numpy as np\n",
    "import os\n",
    "import SimpleITK as sitka\n",
    "import random\n",
    "import matplotlib.pyplot as plt\n",
    "import importlib\n",
    "import time\n",
    "\n",
    "# Data augmentation\n",
    "import cv2\n",
    "from albumentations import (\n",
    "    Compose, HorizontalFlip, VerticalFlip, CLAHE, HueSaturationValue,\n",
    "    RandomBrightness, RandomContrast, RandomGamma,\n",
    "    ToFloat, ShiftScaleRotate, ElasticTransform, Rotate, RandomScale, GridDistortion, OpticalDistortion, OneOf\n",
    ")\n",
    "\n",
    "# Custom scripts\n",
    "import datagen\n",
    "import model as unet_model_script\n",
    "\n",
    "# Reload lib contents\n",
    "importlib.reload(datagen)\n",
    "importlib.reload(unet_model_script)"
   ]
  },
  {
   "cell_type": "markdown",
   "metadata": {},
   "source": [
    "##  Hyperparemeters"
   ]
  },
  {
   "cell_type": "code",
   "execution_count": 22,
   "metadata": {},
   "outputs": [],
   "source": [
    "train_HGG_patients = 239\n",
    "valid_HGG_patients = 20\n",
    "slices_from_patient = 15\n",
    "\n",
    "slices_from = 60\n",
    "slices_to = 100\n",
    "\n",
    "image_size = 240\n",
    "channels = 4\n",
    "learning_rate = 1e-4\n",
    "epochs = 25\n",
    "batch_size = 7\n"
   ]
  },
  {
   "cell_type": "markdown",
   "metadata": {},
   "source": [
    "### U-Net model parameters\n",
    "\n",
    "Configuration dict."
   ]
  },
  {
   "cell_type": "code",
   "execution_count": 23,
   "metadata": {},
   "outputs": [],
   "source": [
    "conf = {\n",
    "    \"last_layer_activation\": \"sigmoid\",\n",
    "    \"dropout\": 0.05,\n",
    "    \"batch_norm\": True\n",
    "}"
   ]
  },
  {
   "cell_type": "code",
   "execution_count": 24,
   "metadata": {},
   "outputs": [],
   "source": [
    "training_model_conf = {\n",
    "    \"optimizer\": keras.optimizers.Adam(learning_rate=learning_rate),\n",
    "    \"loss\": \"binary_crossentropy\",\n",
    "    \"metrics\": [\"accuracy\"]\n",
    "}"
   ]
  },
  {
   "cell_type": "markdown",
   "metadata": {},
   "source": [
    "## Dataset"
   ]
  },
  {
   "cell_type": "code",
   "execution_count": 25,
   "metadata": {},
   "outputs": [
    {
     "name": "stdout",
     "output_type": "stream",
     "text": [
      "training data with shape: (3585, 4, 240, 240) (3585, 1, 240, 240)\n"
     ]
    }
   ],
   "source": [
    "x_train, y_train = datagen.get_dataset(slices_from_patient,\n",
    "                                        slices_from, slices_to,\n",
    "                                        file_path='../dataset/', \n",
    "                                        mode='training', \n",
    "                                       tumor_region=3,\n",
    "                                        glioma_type=['HGG'], \n",
    "                                        slices_w_tumor_only=100,\n",
    "                                        slices_w_less_brain=None,\n",
    "                                        image_size=image_size,\n",
    "                                        train_HGG_patients=train_HGG_patients)"
   ]
  },
  {
   "cell_type": "code",
   "execution_count": 26,
   "metadata": {},
   "outputs": [
    {
     "name": "stdout",
     "output_type": "stream",
     "text": [
      "validation data with shape: (300, 4, 240, 240) (300, 1, 240, 240)\n"
     ]
    }
   ],
   "source": [
    "x_valid, y_valid = datagen.get_dataset(slices_from_patient, \n",
    "                                       slices_from, slices_to,\n",
    "                                        file_path='../dataset/', \n",
    "                                        mode='validation', \n",
    "                                       tumor_region=3,\n",
    "                                        glioma_type=['HGG'], \n",
    "                                        slices_w_tumor_only=False,\n",
    "                                        slices_w_less_brain=100,\n",
    "                                        image_size=image_size,\n",
    "                                        train_HGG_patients=valid_HGG_patients)"
   ]
  },
  {
   "cell_type": "markdown",
   "metadata": {},
   "source": [
    "## Data augmentation"
   ]
  },
  {
   "cell_type": "code",
   "execution_count": 27,
   "metadata": {},
   "outputs": [],
   "source": [
    "AUGMENTATIONS = Compose([\n",
    "    HorizontalFlip(p=0.5),\n",
    "    VerticalFlip(p=0.5),\n",
    "#     Rotate(limit=90, p=0.99),\n",
    "#     RandomGamma(gamma_limit=(80, 120), p=0.25),\n",
    "#     RandomScale(scale_limit=0.1, interpolation=cv2.INTER_NEAREST, p=0.25),\n",
    "#     ElasticTransform(alpha=1, p=0.5),\n",
    "#     OneOf([\n",
    "#         OpticalDistortion(p=0.3),\n",
    "#         GridDistortion(p=0.1),\n",
    "#     ], p=0.2),\n",
    "    OpticalDistortion(p=0.5),\n",
    "    GridDistortion(p=0.5),\n",
    "])"
   ]
  },
  {
   "cell_type": "markdown",
   "metadata": {},
   "source": [
    "## Callbacks"
   ]
  },
  {
   "cell_type": "code",
   "execution_count": 28,
   "metadata": {},
   "outputs": [],
   "source": [
    "class NegativeLoss(keras.callbacks.Callback):\n",
    "    def on_train_begin(self, logs={}):\n",
    "        pass\n",
    "\n",
    "    def on_batch_end(self, batch, logs={}):\n",
    "        if logs.get('loss') < 0:\n",
    "            print(\"\\nEarly stopping for negative loss ({}) at batch {}.\".format(logs.get('loss'), batch))\n",
    "            self.model.stop_training = True\n",
    "\n",
    "callbacks = [\n",
    "    NegativeLoss(),\n",
    "    keras.callbacks.callbacks.TerminateOnNaN(),\n",
    "    keras.callbacks.callbacks.EarlyStopping(monitor='accuracy', \n",
    "                                            min_delta=0.0001, \n",
    "                                            patience=10, \n",
    "                                            verbose=1, \n",
    "                                            mode='auto', \n",
    "                                            baseline=None, \n",
    "                                            restore_best_weights=True),\n",
    "    keras.callbacks.callbacks.ReduceLROnPlateau(factor=0.1, \n",
    "                                                patience=5, \n",
    "                                                min_lr=0.00001, \n",
    "                                                verbose=1),\n",
    "#     keras.callbacks.TensorBoard(log_dir=\"../logs/{}\".format(time.time()))\n",
    "]"
   ]
  },
  {
   "cell_type": "markdown",
   "metadata": {},
   "source": [
    "# Ensemble training"
   ]
  },
  {
   "cell_type": "code",
   "execution_count": 29,
   "metadata": {
    "scrolled": false
   },
   "outputs": [
    {
     "name": "stdout",
     "output_type": "stream",
     "text": [
      "Training U-Net 3\n",
      "Epoch 1/25\n",
      "513/513 [==============================] - 266s 519ms/step - loss: 0.1504 - accuracy: 0.9856 - val_loss: 0.0974 - val_accuracy: 0.9942\n",
      "Epoch 2/25\n",
      "513/513 [==============================] - 258s 503ms/step - loss: 0.0606 - accuracy: 0.9939 - val_loss: 0.1103 - val_accuracy: 0.9946\n",
      "Epoch 3/25\n",
      "513/513 [==============================] - 258s 503ms/step - loss: 0.0376 - accuracy: 0.9944 - val_loss: 0.0284 - val_accuracy: 0.9960\n",
      "Epoch 4/25\n",
      "513/513 [==============================] - 256s 499ms/step - loss: 0.0272 - accuracy: 0.9950 - val_loss: 0.0311 - val_accuracy: 0.9946\n",
      "Epoch 5/25\n",
      "513/513 [==============================] - 255s 497ms/step - loss: 0.0212 - accuracy: 0.9953 - val_loss: 0.0167 - val_accuracy: 0.9962\n",
      "Epoch 6/25\n",
      "513/513 [==============================] - 256s 498ms/step - loss: 0.0177 - accuracy: 0.9955 - val_loss: 0.0250 - val_accuracy: 0.9959\n",
      "Epoch 7/25\n",
      "513/513 [==============================] - 259s 505ms/step - loss: 0.0154 - accuracy: 0.9957 - val_loss: 0.0124 - val_accuracy: 0.9967\n",
      "Epoch 8/25\n",
      "513/513 [==============================] - 256s 499ms/step - loss: 0.0143 - accuracy: 0.9956 - val_loss: 0.0105 - val_accuracy: 0.9970\n",
      "Epoch 9/25\n",
      "513/513 [==============================] - 259s 506ms/step - loss: 0.0130 - accuracy: 0.9958 - val_loss: 0.0093 - val_accuracy: 0.9970\n",
      "Epoch 10/25\n",
      "513/513 [==============================] - 256s 499ms/step - loss: 0.0118 - accuracy: 0.9960 - val_loss: 0.0113 - val_accuracy: 0.9966\n",
      "Epoch 11/25\n",
      "513/513 [==============================] - 260s 506ms/step - loss: 0.0113 - accuracy: 0.9960 - val_loss: 0.0097 - val_accuracy: 0.9970\n",
      "Epoch 12/25\n",
      "513/513 [==============================] - 258s 502ms/step - loss: 0.0110 - accuracy: 0.9960 - val_loss: 0.0092 - val_accuracy: 0.9970\n",
      "Epoch 13/25\n",
      "513/513 [==============================] - 284s 554ms/step - loss: 0.0102 - accuracy: 0.9961 - val_loss: 0.0093 - val_accuracy: 0.9968\n",
      "Epoch 14/25\n",
      "513/513 [==============================] - 271s 529ms/step - loss: 0.0100 - accuracy: 0.9962 - val_loss: 0.0081 - val_accuracy: 0.9973\n",
      "Epoch 15/25\n",
      "513/513 [==============================] - 283s 552ms/step - loss: 0.0097 - accuracy: 0.9963 - val_loss: 0.0105 - val_accuracy: 0.9968\n",
      "Epoch 16/25\n",
      "513/513 [==============================] - 294s 573ms/step - loss: 0.0095 - accuracy: 0.9962 - val_loss: 0.0080 - val_accuracy: 0.9973\n",
      "Epoch 17/25\n",
      "513/513 [==============================] - 271s 527ms/step - loss: 0.0093 - accuracy: 0.9963 - val_loss: 0.0088 - val_accuracy: 0.9973\n",
      "Epoch 18/25\n",
      "513/513 [==============================] - 276s 538ms/step - loss: 0.0090 - accuracy: 0.9963 - val_loss: 0.0081 - val_accuracy: 0.9974\n",
      "Epoch 19/25\n",
      "513/513 [==============================] - 271s 529ms/step - loss: 0.0090 - accuracy: 0.9963 - val_loss: 0.0090 - val_accuracy: 0.9971\n",
      "\n",
      "Epoch 00019: ReduceLROnPlateau reducing learning rate to 1e-05.\n",
      "Epoch 20/25\n",
      "513/513 [==============================] - 274s 535ms/step - loss: 0.0078 - accuracy: 0.9967 - val_loss: 0.0075 - val_accuracy: 0.9975\n",
      "Epoch 21/25\n",
      "513/513 [==============================] - 275s 536ms/step - loss: 0.0078 - accuracy: 0.9966 - val_loss: 0.0073 - val_accuracy: 0.9976\n",
      "Epoch 22/25\n",
      "513/513 [==============================] - 275s 536ms/step - loss: 0.0073 - accuracy: 0.9968 - val_loss: 0.0073 - val_accuracy: 0.9975\n",
      "Epoch 23/25\n",
      "513/513 [==============================] - 287s 559ms/step - loss: 0.0075 - accuracy: 0.9967 - val_loss: 0.0080 - val_accuracy: 0.9973\n",
      "Epoch 24/25\n",
      "513/513 [==============================] - 289s 564ms/step - loss: 0.0074 - accuracy: 0.9968 - val_loss: 0.0074 - val_accuracy: 0.9974\n",
      "Epoch 25/25\n",
      "513/513 [==============================] - 269s 525ms/step - loss: 0.0072 - accuracy: 0.9969 - val_loss: 0.0068 - val_accuracy: 0.9976\n",
      "Training time: 6972.247272729874\n"
     ]
    }
   ],
   "source": [
    "models = {}\n",
    "for tumor_region in range(3, 4):\n",
    "    \n",
    "    print(\"Training U-Net {}\".format(tumor_region))\n",
    "    \n",
    "    # Get and compile model\n",
    "    models[tumor_region] = unet_model_script.UNet(channels, image_size, conf=conf)\n",
    "    models[tumor_region].compile(**training_model_conf)\n",
    "    \n",
    "    # Convert mask labels to binary\n",
    "    train_masks = datagen.convert_labels(y_train, tumor_region, image_size)\n",
    "    valid_masks = datagen.convert_labels(y_valid, tumor_region, image_size)\n",
    "    \n",
    "    # Init datagen w augmentation\n",
    "    train_gen = datagen.AugmentationDatagen(x_train, train_masks, batch_size, AUGMENTATIONS)\n",
    "    \n",
    "    # Start training\n",
    "    time_start = time.time()\n",
    "    models[\"hist_{}\".format(tumor_region)] = models[tumor_region].fit(train_gen, \n",
    "                                                                      validation_data=(x_valid, valid_masks), \n",
    "                                                                      epochs=epochs, \n",
    "                                                                      shuffle=True, \n",
    "                                                                      callbacks=callbacks)\n",
    "    print(\"Training time: {}\".format(time.time()-time_start))\n",
    "    \n",
    "    models[tumor_region].save(\"../experiment_data_selection/unet_3.h5\")    "
   ]
  },
  {
   "cell_type": "markdown",
   "metadata": {},
   "source": [
    "### Results"
   ]
  },
  {
   "cell_type": "code",
   "execution_count": 30,
   "metadata": {},
   "outputs": [
    {
     "data": {
      "image/png": "[encoded data removed]",
      "text/plain": [
       "<Figure size 432x288 with 1 Axes>"
      ]
     },
     "metadata": {
      "needs_background": "light"
     },
     "output_type": "display_data"
    },
    {
     "data": {
      "image/png": "[encoded data removed]",
      "text/plain": [
       "<Figure size 432x288 with 1 Axes>"
      ]
     },
     "metadata": {
      "needs_background": "light"
     },
     "output_type": "display_data"
    }
   ],
   "source": [
    "tumor_region = 3\n",
    "\n",
    "# Plot training & validation accuracy values\n",
    "plt.plot(models[\"hist_{}\".format(tumor_region)].history['accuracy'])\n",
    "plt.plot(models[\"hist_{}\".format(tumor_region)].history['val_accuracy'])\n",
    "plt.title('Model accuracy')\n",
    "plt.ylabel('Accuracy')\n",
    "plt.xlabel('Epoch')\n",
    "plt.legend(['Train', 'Test'], loc='upper left')\n",
    "plt.show()\n",
    "\n",
    "# Plot training & validation loss values\n",
    "plt.plot(models[\"hist_{}\".format(tumor_region)].history['loss'])\n",
    "plt.plot(models[\"hist_{}\".format(tumor_region)].history['val_loss'])\n",
    "plt.title('Model loss')\n",
    "plt.ylabel('Loss')\n",
    "plt.xlabel('Epoch')\n",
    "plt.legend(['Train', 'Test'], loc='upper left')\n",
    "plt.show()"
   ]
  },
  {
   "cell_type": "code",
   "execution_count": null,
   "metadata": {
    "scrolled": false
   },
   "outputs": [],
   "source": []
  },
  {
   "cell_type": "code",
   "execution_count": 11,
   "metadata": {},
   "outputs": [],
   "source": [
    "# i = random.randint(0, 50)\n",
    "# i = 3\n",
    "# pred = models[1].predict(np.array([x_valid[i]]), verbose=1)\n",
    "# f, axarr = plt.subplots(1,2, figsize=(10,10))\n",
    "# axarr[0].imshow(y_valid[i][0])\n",
    "# axarr[1].imshow(pred[0][0])"
   ]
  }
 ],
 "metadata": {
  "kernelspec": {
   "display_name": "tfgpu",
   "language": "python",
   "name": "tfgpu"
  },
  "language_info": {
   "codemirror_mode": {
    "name": "ipython",
    "version": 3
   },
   "file_extension": ".py",
   "mimetype": "text/x-python",
   "name": "python",
   "nbconvert_exporter": "python",
   "pygments_lexer": "ipython3",
   "version": "3.7.6"
  }
 },
 "nbformat": 4,
 "nbformat_minor": 4
}
